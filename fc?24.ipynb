{
 "cells": [
  {
   "cell_type": "code",
   "execution_count": 48,
   "metadata": {},
   "outputs": [],
   "source": [
    "# Libraries\n",
    "\n",
    "import pandas as pd\n",
    "import plotly.express as px"
   ]
  },
  {
   "cell_type": "code",
   "execution_count": 63,
   "metadata": {},
   "outputs": [
    {
     "data": {
      "text/html": [
       "<div>\n",
       "<style scoped>\n",
       "    .dataframe tbody tr th:only-of-type {\n",
       "        vertical-align: middle;\n",
       "    }\n",
       "\n",
       "    .dataframe tbody tr th {\n",
       "        vertical-align: top;\n",
       "    }\n",
       "\n",
       "    .dataframe thead th {\n",
       "        text-align: right;\n",
       "    }\n",
       "</style>\n",
       "<table border=\"1\" class=\"dataframe\">\n",
       "  <thead>\n",
       "    <tr style=\"text-align: right;\">\n",
       "      <th></th>\n",
       "      <th>Name</th>\n",
       "      <th>Nation</th>\n",
       "      <th>Club</th>\n",
       "      <th>Position</th>\n",
       "      <th>Age</th>\n",
       "      <th>Overall</th>\n",
       "      <th>Pace</th>\n",
       "      <th>Shooting</th>\n",
       "      <th>Passing</th>\n",
       "      <th>Dribbling</th>\n",
       "      <th>...</th>\n",
       "      <th>Jumping</th>\n",
       "      <th>Stamina</th>\n",
       "      <th>Strength</th>\n",
       "      <th>Aggression</th>\n",
       "      <th>Att work rate</th>\n",
       "      <th>Def work rate</th>\n",
       "      <th>Preferred foot</th>\n",
       "      <th>Weak foot</th>\n",
       "      <th>Skill moves</th>\n",
       "      <th>GK</th>\n",
       "    </tr>\n",
       "  </thead>\n",
       "  <tbody>\n",
       "    <tr>\n",
       "      <th>0</th>\n",
       "      <td>Kylian Mbappé</td>\n",
       "      <td>France</td>\n",
       "      <td>Paris SG</td>\n",
       "      <td>ST</td>\n",
       "      <td>24</td>\n",
       "      <td>91</td>\n",
       "      <td>97</td>\n",
       "      <td>90</td>\n",
       "      <td>80</td>\n",
       "      <td>93</td>\n",
       "      <td>...</td>\n",
       "      <td>88</td>\n",
       "      <td>88</td>\n",
       "      <td>77</td>\n",
       "      <td>64</td>\n",
       "      <td>High</td>\n",
       "      <td>Low</td>\n",
       "      <td>Right</td>\n",
       "      <td>80</td>\n",
       "      <td>100</td>\n",
       "      <td>0.0</td>\n",
       "    </tr>\n",
       "    <tr>\n",
       "      <th>1</th>\n",
       "      <td>Erling Haaland</td>\n",
       "      <td>Norway</td>\n",
       "      <td>Manchester City</td>\n",
       "      <td>ST</td>\n",
       "      <td>23</td>\n",
       "      <td>91</td>\n",
       "      <td>89</td>\n",
       "      <td>93</td>\n",
       "      <td>66</td>\n",
       "      <td>79</td>\n",
       "      <td>...</td>\n",
       "      <td>93</td>\n",
       "      <td>76</td>\n",
       "      <td>93</td>\n",
       "      <td>87</td>\n",
       "      <td>High</td>\n",
       "      <td>Medium</td>\n",
       "      <td>Left</td>\n",
       "      <td>60</td>\n",
       "      <td>60</td>\n",
       "      <td>0.0</td>\n",
       "    </tr>\n",
       "    <tr>\n",
       "      <th>2</th>\n",
       "      <td>Kevin De Bruyne</td>\n",
       "      <td>Belgium</td>\n",
       "      <td>Manchester City</td>\n",
       "      <td>CM</td>\n",
       "      <td>32</td>\n",
       "      <td>91</td>\n",
       "      <td>72</td>\n",
       "      <td>88</td>\n",
       "      <td>94</td>\n",
       "      <td>86</td>\n",
       "      <td>...</td>\n",
       "      <td>72</td>\n",
       "      <td>88</td>\n",
       "      <td>74</td>\n",
       "      <td>75</td>\n",
       "      <td>High</td>\n",
       "      <td>Medium</td>\n",
       "      <td>Right</td>\n",
       "      <td>100</td>\n",
       "      <td>80</td>\n",
       "      <td>0.0</td>\n",
       "    </tr>\n",
       "    <tr>\n",
       "      <th>3</th>\n",
       "      <td>Lionel Messi</td>\n",
       "      <td>Argentina</td>\n",
       "      <td>Inter Miami CF</td>\n",
       "      <td>CF</td>\n",
       "      <td>36</td>\n",
       "      <td>90</td>\n",
       "      <td>80</td>\n",
       "      <td>87</td>\n",
       "      <td>90</td>\n",
       "      <td>96</td>\n",
       "      <td>...</td>\n",
       "      <td>71</td>\n",
       "      <td>70</td>\n",
       "      <td>68</td>\n",
       "      <td>44</td>\n",
       "      <td>Low</td>\n",
       "      <td>Low</td>\n",
       "      <td>Left</td>\n",
       "      <td>80</td>\n",
       "      <td>80</td>\n",
       "      <td>0.0</td>\n",
       "    </tr>\n",
       "    <tr>\n",
       "      <th>4</th>\n",
       "      <td>Karim Benzema</td>\n",
       "      <td>France</td>\n",
       "      <td>Al Ittihad</td>\n",
       "      <td>CF</td>\n",
       "      <td>35</td>\n",
       "      <td>90</td>\n",
       "      <td>79</td>\n",
       "      <td>88</td>\n",
       "      <td>83</td>\n",
       "      <td>87</td>\n",
       "      <td>...</td>\n",
       "      <td>85</td>\n",
       "      <td>82</td>\n",
       "      <td>82</td>\n",
       "      <td>63</td>\n",
       "      <td>Medium</td>\n",
       "      <td>Medium</td>\n",
       "      <td>Right</td>\n",
       "      <td>80</td>\n",
       "      <td>80</td>\n",
       "      <td>0.0</td>\n",
       "    </tr>\n",
       "  </tbody>\n",
       "</table>\n",
       "<p>5 rows × 44 columns</p>\n",
       "</div>"
      ],
      "text/plain": [
       "              Name     Nation             Club Position  Age  Overall  Pace  \\\n",
       "0    Kylian Mbappé     France         Paris SG       ST   24       91    97   \n",
       "1   Erling Haaland     Norway  Manchester City       ST   23       91    89   \n",
       "2  Kevin De Bruyne    Belgium  Manchester City       CM   32       91    72   \n",
       "3     Lionel Messi  Argentina   Inter Miami CF       CF   36       90    80   \n",
       "4    Karim Benzema     France       Al Ittihad       CF   35       90    79   \n",
       "\n",
       "   Shooting  Passing  Dribbling  ...  Jumping  Stamina  Strength  Aggression  \\\n",
       "0        90       80         93  ...       88       88        77          64   \n",
       "1        93       66         79  ...       93       76        93          87   \n",
       "2        88       94         86  ...       72       88        74          75   \n",
       "3        87       90         96  ...       71       70        68          44   \n",
       "4        88       83         87  ...       85       82        82          63   \n",
       "\n",
       "   Att work rate  Def work rate  Preferred foot  Weak foot  Skill moves   GK  \n",
       "0           High            Low           Right         80          100  0.0  \n",
       "1           High         Medium            Left         60           60  0.0  \n",
       "2           High         Medium           Right        100           80  0.0  \n",
       "3            Low            Low            Left         80           80  0.0  \n",
       "4         Medium         Medium           Right         80           80  0.0  \n",
       "\n",
       "[5 rows x 44 columns]"
      ]
     },
     "execution_count": 63,
     "metadata": {},
     "output_type": "execute_result"
    }
   ],
   "source": [
    "df= pd.read_csv('male_players.csv')\n",
    "df= df.drop(labels=['Unnamed: 0','URL','Gender'],axis=1)\n",
    "df['GK']=df['GK'].fillna(0)\n",
    "df['Weak foot']=df['Weak foot']*20\n",
    "df['Skill moves']=df['Skill moves']*20\n",
    "\n",
    "df.head()"
   ]
  },
  {
   "cell_type": "markdown",
   "metadata": {},
   "source": [
    "# List the columns"
   ]
  },
  {
   "cell_type": "code",
   "execution_count": 53,
   "metadata": {},
   "outputs": [
    {
     "data": {
      "text/plain": [
       "Index(['Name', 'Nation', 'Club', 'Position', 'Age', 'Overall', 'Pace',\n",
       "       'Shooting', 'Passing', 'Dribbling', 'Defending', 'Physicality',\n",
       "       'Acceleration', 'Sprint', 'Positioning', 'Finishing', 'Shot', 'Long',\n",
       "       'Volleys', 'Penalties', 'Vision', 'Crossing', 'Free', 'Curve',\n",
       "       'Agility', 'Balance', 'Reactions', 'Ball', 'Composure', 'Interceptions',\n",
       "       'Heading', 'Def', 'Standing', 'Sliding', 'Jumping', 'Stamina',\n",
       "       'Strength', 'Aggression', 'Att work rate', 'Def work rate',\n",
       "       'Preferred foot', 'Weak foot', 'Skill moves', 'GK'],\n",
       "      dtype='object')"
      ]
     },
     "execution_count": 53,
     "metadata": {},
     "output_type": "execute_result"
    }
   ],
   "source": [
    "df.columns"
   ]
  },
  {
   "cell_type": "code",
   "execution_count": 56,
   "metadata": {},
   "outputs": [
    {
     "name": "stdout",
     "output_type": "stream",
     "text": [
      "<class 'pandas.core.frame.DataFrame'>\n",
      "RangeIndex: 15845 entries, 0 to 15844\n",
      "Data columns (total 44 columns):\n",
      " #   Column          Non-Null Count  Dtype  \n",
      "---  ------          --------------  -----  \n",
      " 0   Name            15845 non-null  object \n",
      " 1   Nation          15845 non-null  object \n",
      " 2   Club            15845 non-null  object \n",
      " 3   Position        15845 non-null  object \n",
      " 4   Age             15845 non-null  int64  \n",
      " 5   Overall         15845 non-null  int64  \n",
      " 6   Pace            15845 non-null  int64  \n",
      " 7   Shooting        15845 non-null  int64  \n",
      " 8   Passing         15845 non-null  int64  \n",
      " 9   Dribbling       15845 non-null  int64  \n",
      " 10  Defending       15845 non-null  int64  \n",
      " 11  Physicality     15845 non-null  int64  \n",
      " 12  Acceleration    15845 non-null  int64  \n",
      " 13  Sprint          15845 non-null  int64  \n",
      " 14  Positioning     15845 non-null  int64  \n",
      " 15  Finishing       15845 non-null  int64  \n",
      " 16  Shot            15845 non-null  int64  \n",
      " 17  Long            15845 non-null  int64  \n",
      " 18  Volleys         15845 non-null  int64  \n",
      " 19  Penalties       15845 non-null  int64  \n",
      " 20  Vision          15845 non-null  int64  \n",
      " 21  Crossing        15845 non-null  int64  \n",
      " 22  Free            15845 non-null  int64  \n",
      " 23  Curve           15845 non-null  int64  \n",
      " 24  Agility         15845 non-null  int64  \n",
      " 25  Balance         15845 non-null  int64  \n",
      " 26  Reactions       15845 non-null  int64  \n",
      " 27  Ball            15845 non-null  int64  \n",
      " 28  Composure       15845 non-null  int64  \n",
      " 29  Interceptions   15845 non-null  int64  \n",
      " 30  Heading         15845 non-null  int64  \n",
      " 31  Def             15845 non-null  int64  \n",
      " 32  Standing        15845 non-null  int64  \n",
      " 33  Sliding         15845 non-null  int64  \n",
      " 34  Jumping         15845 non-null  int64  \n",
      " 35  Stamina         15845 non-null  int64  \n",
      " 36  Strength        15845 non-null  int64  \n",
      " 37  Aggression      15845 non-null  int64  \n",
      " 38  Att work rate   15845 non-null  object \n",
      " 39  Def work rate   15845 non-null  object \n",
      " 40  Preferred foot  15845 non-null  object \n",
      " 41  Weak foot       15845 non-null  int64  \n",
      " 42  Skill moves     15845 non-null  int64  \n",
      " 43  GK              15845 non-null  float64\n",
      "dtypes: float64(1), int64(36), object(7)\n",
      "memory usage: 5.3+ MB\n"
     ]
    }
   ],
   "source": [
    "df.info()"
   ]
  },
  {
   "cell_type": "code",
   "execution_count": 57,
   "metadata": {},
   "outputs": [
    {
     "data": {
      "text/html": [
       "<div>\n",
       "<style scoped>\n",
       "    .dataframe tbody tr th:only-of-type {\n",
       "        vertical-align: middle;\n",
       "    }\n",
       "\n",
       "    .dataframe tbody tr th {\n",
       "        vertical-align: top;\n",
       "    }\n",
       "\n",
       "    .dataframe thead th {\n",
       "        text-align: right;\n",
       "    }\n",
       "</style>\n",
       "<table border=\"1\" class=\"dataframe\">\n",
       "  <thead>\n",
       "    <tr style=\"text-align: right;\">\n",
       "      <th></th>\n",
       "      <th>Age</th>\n",
       "      <th>Overall</th>\n",
       "      <th>Pace</th>\n",
       "      <th>Shooting</th>\n",
       "      <th>Passing</th>\n",
       "      <th>Dribbling</th>\n",
       "      <th>Defending</th>\n",
       "      <th>Physicality</th>\n",
       "      <th>Acceleration</th>\n",
       "      <th>Sprint</th>\n",
       "      <th>...</th>\n",
       "      <th>Def</th>\n",
       "      <th>Standing</th>\n",
       "      <th>Sliding</th>\n",
       "      <th>Jumping</th>\n",
       "      <th>Stamina</th>\n",
       "      <th>Strength</th>\n",
       "      <th>Aggression</th>\n",
       "      <th>Weak foot</th>\n",
       "      <th>Skill moves</th>\n",
       "      <th>GK</th>\n",
       "    </tr>\n",
       "  </thead>\n",
       "  <tbody>\n",
       "    <tr>\n",
       "      <th>count</th>\n",
       "      <td>15845.000000</td>\n",
       "      <td>15845.000000</td>\n",
       "      <td>15845.000000</td>\n",
       "      <td>15845.000000</td>\n",
       "      <td>15845.000000</td>\n",
       "      <td>15845.000000</td>\n",
       "      <td>15845.000000</td>\n",
       "      <td>15845.000000</td>\n",
       "      <td>15845.000000</td>\n",
       "      <td>15845.000000</td>\n",
       "      <td>...</td>\n",
       "      <td>15845.000000</td>\n",
       "      <td>15845.000000</td>\n",
       "      <td>15845.000000</td>\n",
       "      <td>15845.000000</td>\n",
       "      <td>15845.000000</td>\n",
       "      <td>15845.000000</td>\n",
       "      <td>15845.000000</td>\n",
       "      <td>15845.000000</td>\n",
       "      <td>15845.000000</td>\n",
       "      <td>15845.000000</td>\n",
       "    </tr>\n",
       "    <tr>\n",
       "      <th>mean</th>\n",
       "      <td>25.848659</td>\n",
       "      <td>66.321174</td>\n",
       "      <td>68.133481</td>\n",
       "      <td>54.140738</td>\n",
       "      <td>58.532281</td>\n",
       "      <td>56.299085</td>\n",
       "      <td>50.868602</td>\n",
       "      <td>65.456990</td>\n",
       "      <td>64.718208</td>\n",
       "      <td>64.894288</td>\n",
       "      <td>...</td>\n",
       "      <td>47.356706</td>\n",
       "      <td>49.067529</td>\n",
       "      <td>46.766551</td>\n",
       "      <td>66.413253</td>\n",
       "      <td>63.646134</td>\n",
       "      <td>65.551089</td>\n",
       "      <td>56.506911</td>\n",
       "      <td>2.950836</td>\n",
       "      <td>2.400442</td>\n",
       "      <td>7.467782</td>\n",
       "    </tr>\n",
       "    <tr>\n",
       "      <th>std</th>\n",
       "      <td>4.677433</td>\n",
       "      <td>6.685503</td>\n",
       "      <td>10.721206</td>\n",
       "      <td>13.716321</td>\n",
       "      <td>9.595001</td>\n",
       "      <td>18.827593</td>\n",
       "      <td>16.280992</td>\n",
       "      <td>9.567424</td>\n",
       "      <td>15.461586</td>\n",
       "      <td>15.259085</td>\n",
       "      <td>...</td>\n",
       "      <td>20.360315</td>\n",
       "      <td>21.073506</td>\n",
       "      <td>20.615001</td>\n",
       "      <td>11.655169</td>\n",
       "      <td>16.451648</td>\n",
       "      <td>12.546027</td>\n",
       "      <td>16.856847</td>\n",
       "      <td>0.678906</td>\n",
       "      <td>0.784708</td>\n",
       "      <td>21.110496</td>\n",
       "    </tr>\n",
       "    <tr>\n",
       "      <th>min</th>\n",
       "      <td>17.000000</td>\n",
       "      <td>47.000000</td>\n",
       "      <td>27.000000</td>\n",
       "      <td>19.000000</td>\n",
       "      <td>25.000000</td>\n",
       "      <td>5.000000</td>\n",
       "      <td>15.000000</td>\n",
       "      <td>29.000000</td>\n",
       "      <td>14.000000</td>\n",
       "      <td>15.000000</td>\n",
       "      <td>...</td>\n",
       "      <td>4.000000</td>\n",
       "      <td>8.000000</td>\n",
       "      <td>7.000000</td>\n",
       "      <td>27.000000</td>\n",
       "      <td>15.000000</td>\n",
       "      <td>22.000000</td>\n",
       "      <td>11.000000</td>\n",
       "      <td>1.000000</td>\n",
       "      <td>1.000000</td>\n",
       "      <td>0.000000</td>\n",
       "    </tr>\n",
       "    <tr>\n",
       "      <th>25%</th>\n",
       "      <td>22.000000</td>\n",
       "      <td>62.000000</td>\n",
       "      <td>62.000000</td>\n",
       "      <td>44.000000</td>\n",
       "      <td>52.000000</td>\n",
       "      <td>51.000000</td>\n",
       "      <td>36.000000</td>\n",
       "      <td>59.000000</td>\n",
       "      <td>57.000000</td>\n",
       "      <td>57.000000</td>\n",
       "      <td>...</td>\n",
       "      <td>30.000000</td>\n",
       "      <td>30.000000</td>\n",
       "      <td>27.000000</td>\n",
       "      <td>59.000000</td>\n",
       "      <td>57.000000</td>\n",
       "      <td>58.000000</td>\n",
       "      <td>46.000000</td>\n",
       "      <td>3.000000</td>\n",
       "      <td>2.000000</td>\n",
       "      <td>0.000000</td>\n",
       "    </tr>\n",
       "    <tr>\n",
       "      <th>50%</th>\n",
       "      <td>25.000000</td>\n",
       "      <td>66.000000</td>\n",
       "      <td>69.000000</td>\n",
       "      <td>57.000000</td>\n",
       "      <td>59.000000</td>\n",
       "      <td>62.000000</td>\n",
       "      <td>55.000000</td>\n",
       "      <td>66.000000</td>\n",
       "      <td>68.000000</td>\n",
       "      <td>68.000000</td>\n",
       "      <td>...</td>\n",
       "      <td>54.000000</td>\n",
       "      <td>57.000000</td>\n",
       "      <td>54.000000</td>\n",
       "      <td>68.000000</td>\n",
       "      <td>67.000000</td>\n",
       "      <td>67.000000</td>\n",
       "      <td>60.000000</td>\n",
       "      <td>3.000000</td>\n",
       "      <td>2.000000</td>\n",
       "      <td>0.000000</td>\n",
       "    </tr>\n",
       "    <tr>\n",
       "      <th>75%</th>\n",
       "      <td>29.000000</td>\n",
       "      <td>70.000000</td>\n",
       "      <td>75.000000</td>\n",
       "      <td>64.000000</td>\n",
       "      <td>65.000000</td>\n",
       "      <td>68.000000</td>\n",
       "      <td>64.000000</td>\n",
       "      <td>72.000000</td>\n",
       "      <td>75.000000</td>\n",
       "      <td>75.000000</td>\n",
       "      <td>...</td>\n",
       "      <td>64.000000</td>\n",
       "      <td>66.000000</td>\n",
       "      <td>64.000000</td>\n",
       "      <td>75.000000</td>\n",
       "      <td>75.000000</td>\n",
       "      <td>74.000000</td>\n",
       "      <td>69.000000</td>\n",
       "      <td>3.000000</td>\n",
       "      <td>3.000000</td>\n",
       "      <td>0.000000</td>\n",
       "    </tr>\n",
       "    <tr>\n",
       "      <th>max</th>\n",
       "      <td>43.000000</td>\n",
       "      <td>91.000000</td>\n",
       "      <td>97.000000</td>\n",
       "      <td>93.000000</td>\n",
       "      <td>94.000000</td>\n",
       "      <td>96.000000</td>\n",
       "      <td>89.000000</td>\n",
       "      <td>90.000000</td>\n",
       "      <td>97.000000</td>\n",
       "      <td>97.000000</td>\n",
       "      <td>...</td>\n",
       "      <td>91.000000</td>\n",
       "      <td>91.000000</td>\n",
       "      <td>90.000000</td>\n",
       "      <td>95.000000</td>\n",
       "      <td>95.000000</td>\n",
       "      <td>96.000000</td>\n",
       "      <td>95.000000</td>\n",
       "      <td>5.000000</td>\n",
       "      <td>5.000000</td>\n",
       "      <td>93.000000</td>\n",
       "    </tr>\n",
       "  </tbody>\n",
       "</table>\n",
       "<p>8 rows × 37 columns</p>\n",
       "</div>"
      ],
      "text/plain": [
       "                Age       Overall          Pace      Shooting       Passing  \\\n",
       "count  15845.000000  15845.000000  15845.000000  15845.000000  15845.000000   \n",
       "mean      25.848659     66.321174     68.133481     54.140738     58.532281   \n",
       "std        4.677433      6.685503     10.721206     13.716321      9.595001   \n",
       "min       17.000000     47.000000     27.000000     19.000000     25.000000   \n",
       "25%       22.000000     62.000000     62.000000     44.000000     52.000000   \n",
       "50%       25.000000     66.000000     69.000000     57.000000     59.000000   \n",
       "75%       29.000000     70.000000     75.000000     64.000000     65.000000   \n",
       "max       43.000000     91.000000     97.000000     93.000000     94.000000   \n",
       "\n",
       "          Dribbling     Defending   Physicality  Acceleration        Sprint  \\\n",
       "count  15845.000000  15845.000000  15845.000000  15845.000000  15845.000000   \n",
       "mean      56.299085     50.868602     65.456990     64.718208     64.894288   \n",
       "std       18.827593     16.280992      9.567424     15.461586     15.259085   \n",
       "min        5.000000     15.000000     29.000000     14.000000     15.000000   \n",
       "25%       51.000000     36.000000     59.000000     57.000000     57.000000   \n",
       "50%       62.000000     55.000000     66.000000     68.000000     68.000000   \n",
       "75%       68.000000     64.000000     72.000000     75.000000     75.000000   \n",
       "max       96.000000     89.000000     90.000000     97.000000     97.000000   \n",
       "\n",
       "       ...           Def      Standing       Sliding       Jumping  \\\n",
       "count  ...  15845.000000  15845.000000  15845.000000  15845.000000   \n",
       "mean   ...     47.356706     49.067529     46.766551     66.413253   \n",
       "std    ...     20.360315     21.073506     20.615001     11.655169   \n",
       "min    ...      4.000000      8.000000      7.000000     27.000000   \n",
       "25%    ...     30.000000     30.000000     27.000000     59.000000   \n",
       "50%    ...     54.000000     57.000000     54.000000     68.000000   \n",
       "75%    ...     64.000000     66.000000     64.000000     75.000000   \n",
       "max    ...     91.000000     91.000000     90.000000     95.000000   \n",
       "\n",
       "            Stamina      Strength    Aggression     Weak foot   Skill moves  \\\n",
       "count  15845.000000  15845.000000  15845.000000  15845.000000  15845.000000   \n",
       "mean      63.646134     65.551089     56.506911      2.950836      2.400442   \n",
       "std       16.451648     12.546027     16.856847      0.678906      0.784708   \n",
       "min       15.000000     22.000000     11.000000      1.000000      1.000000   \n",
       "25%       57.000000     58.000000     46.000000      3.000000      2.000000   \n",
       "50%       67.000000     67.000000     60.000000      3.000000      2.000000   \n",
       "75%       75.000000     74.000000     69.000000      3.000000      3.000000   \n",
       "max       95.000000     96.000000     95.000000      5.000000      5.000000   \n",
       "\n",
       "                 GK  \n",
       "count  15845.000000  \n",
       "mean       7.467782  \n",
       "std       21.110496  \n",
       "min        0.000000  \n",
       "25%        0.000000  \n",
       "50%        0.000000  \n",
       "75%        0.000000  \n",
       "max       93.000000  \n",
       "\n",
       "[8 rows x 37 columns]"
      ]
     },
     "execution_count": 57,
     "metadata": {},
     "output_type": "execute_result"
    }
   ],
   "source": [
    "df.describe()"
   ]
  },
  {
   "cell_type": "code",
   "execution_count": 61,
   "metadata": {},
   "outputs": [
    {
     "data": {
      "text/plain": [
       "array(['Paris SG', 'Manchester City', 'Inter Miami CF', 'Al Ittihad',\n",
       "       'Real Madrid', 'FC Bayern München', 'FC Barcelona', 'Liverpool',\n",
       "       'Al Hilal', 'Manchester Utd', 'Atlético de Madrid', 'Napoli FC',\n",
       "       'Inter', 'Arsenal', 'Milan', 'Borussia Dortmund', 'Spurs',\n",
       "       'Newcastle Utd', 'Al Ahli', 'Roma FC', 'Villarreal CF', 'Al Nassr',\n",
       "       'Chelsea', 'Juventus', 'Sevilla FC', 'RC Celta', 'Sassuolo',\n",
       "       'Latium', 'Aston Villa', 'Frankfurt', 'Leverkusen', 'Al Shabab',\n",
       "       'VfL Wolfsburg', 'SC Freiburg', 'RB Leipzig', 'Real Sociedad',\n",
       "       'AS Monaco', 'RCD Mallorca', 'SL Benfica', 'Fenerbahçe',\n",
       "       'Real Betis', 'OL', 'Fulham', 'Athletic Club', 'SC Braga',\n",
       "       'Salernitana', 'Brentford', 'CA Osasuna', 'Valencia CF',\n",
       "       'Cádiz CF', 'FC Porto', 'Rayo Vallecano', 'Sporting CP', 'Everton',\n",
       "       'Galatasaray', 'Girona FC', 'Getafe CF', 'Royal Antwerp FC',\n",
       "       'West Ham', 'Ajax', 'Stade Rennais FC', 'OM', 'LOSC Lille',\n",
       "       'Brighton', 'Fiorentina', 'Toronto FC', 'TSG Hoffenheim',\n",
       "       'OGC Nice', 'Bergamo Calcio', 'PSV', 'RC Lens', \"Nott'm Forest\",\n",
       "       'RSC Anderlecht', 'Torino', 'Elche CF', 'Union Berlin', 'LAFC',\n",
       "       'Udinese', 'Feyenoord', 'Ettifaq FC', 'Club Brugge',\n",
       "       'Nashville SC', \"M'gladbach\", 'Montpellier', 'UD Las Palmas',\n",
       "       'Beşiktaş', '1. FSV Mainz 05', 'Atlanta United', 'Leicester City',\n",
       "       'Boca Juniors', 'Monza', 'Crystal Palace', 'River Plate',\n",
       "       'New England', 'UD Almería', 'Al Riyadh', 'Wolves', 'Celtic',\n",
       "       'Minnesota United', 'Al Ain FC', 'Strasbourg', 'Stade de Reims',\n",
       "       'FC Twente', 'Trabzonspor', 'Al Fateh', 'AFC Bournemouth',\n",
       "       'Philadelphia', 'N.E.C. Nijmegen', 'AZ', 'Shanghai Port',\n",
       "       'Austin FC', 'Bologna', 'Houston Dynamo', '1. FC Köln',\n",
       "       'SV Werder Bremen', 'FC Nantes', 'Genoa', 'FC Lorient', 'OL Reign',\n",
       "       'Shakhtar Donetsk', 'Karlsruher SC', 'Rangers', 'Burnley',\n",
       "       'Granada CF', 'FC Cincinnati', 'Empoli', 'Al Taawoun', 'Sampdoria',\n",
       "       'RCD Espanyol', 'F.C. København', 'Spezia', 'AEK Athens',\n",
       "       'Talleres', 'MKE Ankaragücü', 'VfB Stuttgart', 'LA Galaxy',\n",
       "       'KRC Genk', 'Slavia Praha', 'FC Dallas', 'Pendikspor', 'Al Fayha',\n",
       "       'Sparta Praha', 'Hajduk Split', 'R. Valladolid CF',\n",
       "       'Hellas Verona', 'Cagliari', 'VfL Bochum', 'Sounders FC',\n",
       "       'Dynamo Kyiv', 'Damac FC', 'Lecce', 'Rongcheng FC', 'Antalyaspor',\n",
       "       'LDU Quito', 'Real Salt Lake', 'San Lorenzo', 'Stade Brestois 29',\n",
       "       'Panathinaikos', 'St. Louis CITY SC', 'Barcelona SC', 'KAA Gent',\n",
       "       'Wuhan 3 Towns', 'Arouca', 'Ferencvárosi TC', 'FC Augsburg',\n",
       "       'Al Wehda', 'Independiente DV', 'Norwich', 'Clermont Foot 63',\n",
       "       'Whitecaps FC', 'D. Alavés', 'Hannover 96', 'Columbus Crew',\n",
       "       'FC Basel 1893', 'FC Midtjylland', 'SC Paderborn 07', 'Gaziantep',\n",
       "       'Millonarios', 'Racing Club', 'Portimonense SC', 'Toulouse FC',\n",
       "       'sc Heerenveen', 'BSC Young Boys', 'Orlando City', 'PAOK FC',\n",
       "       'Atl. Nacional', 'Al Khaleej', 'RB Salzburg', 'Viktoria Plzeň',\n",
       "       'FC Lugano', 'Servette FC', 'Adana Demirspor', 'Samsunspor',\n",
       "       'Abha Club', 'Cremonese', 'Argentinos Jrs.', 'Southampton',\n",
       "       'Brøndby IF', 'Uni. Católica', 'Sheffield Utd', 'Estudiantes',\n",
       "       'Leeds United', 'Al Hazem', 'Libertad', 'FK Bodø/Glimt',\n",
       "       'Burgos CF', 'Casa Pia AC', 'Portland Timbers', 'Gil Vicente',\n",
       "       'Lanús', 'Charlotte FC', 'Başakşehir', 'Palermo', 'Karagümrük SK',\n",
       "       'Al Okhdood', 'Cerro Porteño', 'Defensa', 'Vélez Sarsfield',\n",
       "       'Olimpia', 'R. Racing Club', 'Konyaspor', 'Hamburger SV',\n",
       "       'FC Nordsjælland', 'Hertha Berlin', 'Heidenheim', 'Havre AC',\n",
       "       'Raków', 'Rosario Central', 'New York City FC', 'Beijing Guoan',\n",
       "       'Sparta Rotterdam', 'Dinamo Zagreb', 'Ulsan Hyundai',\n",
       "       'Independiente', 'Peñarol', 'BK Häcken', 'SV Darmstadt 98',\n",
       "       'Chicago Fire FC', 'Çaykur Rizespor', 'Daegu FC', 'KVC Westerlo',\n",
       "       'Coventry City', 'West Brom', 'Sp. Charleroi', 'SJ Earthquakes',\n",
       "       'Real Zaragoza', 'SD Eibar', 'FC Vizela', 'Melbourne City',\n",
       "       'Junior', 'Luton Town', 'QPR', 'D.C. United', 'Pisa', 'Vitória SC',\n",
       "       'R. Union St.-G.', 'FBC Melgar', 'Atlético Tucumán', 'Tigre',\n",
       "       'Malmö FF', 'Parma', 'Millwall', 'Alianza Lima', 'Gimnasia',\n",
       "       'Huracán', 'Molde FK', 'Alanyaspor', 'Farense', 'Aucas',\n",
       "       'Kasımpaşa', 'Colo-Colo', 'Hearts', 'SK Sturm Graz',\n",
       "       'FC St. Gallen', 'Watford', 'FC St. Pauli', 'R. Sporting',\n",
       "       'Amiens SC', 'Bolívar', 'Estoril Praia', 'Shandong Taishan',\n",
       "       'Tianjin JMT FC', 'FC Luzern', 'Al Tai', 'Red Bulls', 'Levante UD',\n",
       "       'FC Seoul', 'Huddersfield', 'Rio Ave FC', 'Venezia', 'CF Montréal',\n",
       "       'Cardiff City', 'Central Córdoba', 'Godoy Cruz', 'Sivasspor',\n",
       "       'Al Raed', 'KV Mechelen', 'Legia Warszawa', 'FC Schalke 04',\n",
       "       'Suwon FC', 'Como', 'Preston', 'FC Famalicão', 'LASK',\n",
       "       'Shenzhen FC', 'AS Saint-Étienne', 'Apoel FC', 'Ascoli',\n",
       "       'FC Zürich', 'SK Rapid Wien', 'Guaraní', 'Kayserispor',\n",
       "       'Instituto', 'Sunderland', 'AJ Auxerre', 'Colón',\n",
       "       'Barracas Central', 'Audax Italiano', 'Standard Liège',\n",
       "       'Middlesbrough', 'CD Tenerife', 'Lech Poznań', 'Pohang Steelers',\n",
       "       'Swansea City', 'Pogoń Szczecin', 'Stoke City', 'FC Metz',\n",
       "       'Deportes Tolima', 'Indep. Medellín', 'Zhejiang Pro', 'Aberdeen',\n",
       "       'Belgrano', 'Frosinone', 'CD Leganés', 'CS Emelec',\n",
       "       'Jeonbuk Hyundai', 'Águilas Doradas', 'SD Huesca', 'FC Utrecht',\n",
       "       'RWD Molenbeek', 'Santa Fe', 'Colorado Rapids', 'Blackburn Rovers',\n",
       "       'Henan SSLM FC', \"Newell's\", 'Sporting Cristal', 'Nacional',\n",
       "       'Boavista FC', 'Angers SCO', 'GD Chaves', 'FC Cartagena',\n",
       "       'ESTAC Troyes', 'Valenciennes FC', 'Düsseldorf', 'Bari', 'Vitesse',\n",
       "       'Sheffield Wed', 'Bordeaux', 'Reggiana', 'Birmingham City',\n",
       "       'Kaiserslautern', 'Hibernian', 'RKC Waalwijk', 'R. Oviedo',\n",
       "       'Cobresal', 'Universitario', 'AC Ajaccio', 'FCSB',\n",
       "       'Fortuna Sittard', 'SM Caen', 'Melb. Victory', 'Zagłębie Lubin',\n",
       "       'Djurgårdens IF', 'Moreirense FC', 'Bristol City', 'AGF',\n",
       "       'Lausanne-Sport', 'AD Alcorcón', 'SD Amorebieta', 'Albacete BP',\n",
       "       'Macarthur FC', 'WS Wanderers', 'Fürth', 'Sarmiento', 'Paris FC',\n",
       "       'Jeju United', 'Suwon Samsung', 'Univ. Craiova', 'Hatayspor',\n",
       "       'Daejeon Citizen', 'Quevilly Rouen', 'SC Bastia', 'Cangzhou FC',\n",
       "       'OH Leuven', '1. FC Nürnberg', 'Palestino', 'Incheon United',\n",
       "       'Hull City', 'AIK', 'Modena', 'Górnik Zabrze', 'Sporting KC',\n",
       "       'Dep. Pereira', 'FC Andorra', 'Cienciano', 'Holstein Kiel',\n",
       "       'Changchun Yatai', 'Vålerenga Fotball', 'Ipswich',\n",
       "       'Estrela Amadora', 'Banfield', '1. FC Magdeburg',\n",
       "       'Farul Constanța', 'Shanghai Shenhua', 'Grenoble Foot 38',\n",
       "       'Racing de Ferrol', 'Randers FC', 'Platense', 'Peterborough',\n",
       "       'Plymouth Argyle', 'Unión', 'VfL Osnabrück', 'Cercle Brugge',\n",
       "       'Meizhou Hakka', 'Ternana', 'Gangwon FC', 'Rosenborg BK',\n",
       "       'IF Elfsborg', 'Rotherham Utd', 'Piast Gliwice', 'Hansa Rostock',\n",
       "       'GwangJu FC', 'Politehnica Iași', 'Sydney FC', 'Dep. Cuenca',\n",
       "       'Südtirol', 'UCV', 'FC Rapid 1923', 'Grasshopper Club',\n",
       "       'IFK Norrköping', 'Gral. Caballero', 'Ñublense', 'Silkeborg IF',\n",
       "       'Barnsley', 'Viking FK', 'Braunschweig', 'Bolton', 'Cracovia',\n",
       "       'CD Mirandés', 'Caracas F.C.', 'Wolfsberger AC', 'IFK Göteborg',\n",
       "       'Hammarby IF', 'Portsmouth', 'ATK Mohun Bagan', 'Derby County',\n",
       "       'Qingdao Hainiu', 'Feralpisalò', 'Bristol Rovers',\n",
       "       'En Avant Guingamp', 'CFR 1907 Cluj', 'Villarreal CF B',\n",
       "       'FC Winterthur', 'Charlton Ath', 'Catanzaro', 'Western United',\n",
       "       'FK Austria Wien', 'Cosenza', 'Lillestrøm SK', 'Heracles Almelo',\n",
       "       'SV Sandhausen', 'Jagiellonia', 'Pau FC', 'CD Eldense',\n",
       "       'İstanbulspor', 'Brisbane Roar', 'KAS Eupen', 'Stockport',\n",
       "       'Stade Lavallois', 'Arminia Bielefeld', 'STVV', 'PEC Zwolle',\n",
       "       'Nantong Zhiyun FC', 'The Strongest', 'Excelsior',\n",
       "       'Club Magallanes', 'Binacional', 'Wehen Wiesbaden', 'FCU 1948',\n",
       "       'Newcastle Jets', 'Oxford United', 'KV Kortrijk',\n",
       "       'Shamrock Rovers', 'Delfín S.C.', 'Go Ahead Eagles', 'Reading',\n",
       "       'Blackpool', 'S. Ameliano', 'Danubio', 'FC Ingolstadt 04',\n",
       "       'Viborg FF', 'Austria Klagenfurt', 'Odisha FC', 'Cittadella',\n",
       "       'Wigan Athletic', 'Adelaide United', 'Gillingham',\n",
       "       'FC Erzgebirge Aue', 'FC Volendam', 'Wrexham AFC', 'Notts County',\n",
       "       'Sepsi OSK', 'Dalian Pro', 'St. Mirren', 'Central Coast',\n",
       "       'Puerto Cabello', 'SV Elversberg', 'Wycombe', 'Mumbai City FC',\n",
       "       'Yverdon Sport FC', 'Hyderabad FC', 'Radomiak Radom',\n",
       "       'Dep. Táchira', 'Stabæk Fotball', 'Perth Glory', 'Burton Albion',\n",
       "       'Odds BK', 'Kerala Blasters', 'Defensor', 'IFK Värnamo',\n",
       "       'US Concarneau', 'SK Brann', 'Mansfield Town', 'Almere City FC',\n",
       "       'SC Austria', 'FC Petrolul', 'Est. de Mérida', 'Odense BK',\n",
       "       'Sarpsborg 08', 'Bengaluru FC', '1860 München', 'Vejle Boldklub',\n",
       "       'Well. Phoenix', 'Metropolitanos', 'FC Botoșani', 'WSG Tirol',\n",
       "       'Strømsgodset IF', 'Monagas SC', 'Saarbrücken', 'SCR Altach',\n",
       "       'East Bengal', 'FC Goa', 'FC Hermannstadt', 'Guabirá',\n",
       "       'Mjällby AIF', 'Tacuary', 'Kalmar FF', 'O. Petrolero',\n",
       "       'SV Waldhof', 'Warta Poznań', 'FC Univ. Cluj', 'FC Voluntari',\n",
       "       'Kilmarnock', 'TSV Hartberg', 'Halmstads BK', 'Preußen Münster',\n",
       "       'VfB Lübeck', 'Cambridge Utd', 'USL Dunkerque', 'Stade-Lausanne',\n",
       "       'Dynamo Dresden', 'St. Johnstone', 'Rodez AF', 'Korona Kielce',\n",
       "       'Ross County', 'Stal Mielec', 'Shrewsbury', 'Fleetwood Town',\n",
       "       'Leyton Orient', 'Blooming', 'St. Pats', 'Jahn Regensburg',\n",
       "       'Aalesunds FK', 'Viktoria Köln', 'Northampton', 'Motherwell',\n",
       "       'Hallescher FC', 'Brommapojkarna', 'IK Sirius', 'Palmaflor',\n",
       "       'Exeter City', 'Carlisle United', 'MSV Duisburg', 'Livingston',\n",
       "       'Lincoln City', 'SC Verl', 'Widzew Łódź', 'HJK Helsinki',\n",
       "       'ŁKS Łódź', 'Salford City', 'Śląsk Wrocław', 'UTA Arad',\n",
       "       'FC Dinamo 1948', 'Swindon Town', 'NorthEast United',\n",
       "       'Bradford City', 'Derry City', 'HamKam Fotball', 'Rot-Weiss Essen',\n",
       "       'Tromsø IL', 'MK Dons', 'FK Haugesund', 'Sandefjord',\n",
       "       'SC Oțelul Galați', 'Stevenage', 'Port Vale', 'Unterhaching',\n",
       "       'Cheltenham Town', 'Doncaster', 'SC Freiburg II', 'Lyngby BK',\n",
       "       'Degerfors IF', 'Dundee FC', 'Grimsby Town', 'Forest Green',\n",
       "       'Walsall', 'Tranmere Rovers', 'B. Dortmund II', 'Colchester',\n",
       "       'Hvidovre IF', 'Harrogate Town', 'Blau-Weiss Linz', 'Dundalk',\n",
       "       'Chennaiyin FC', 'Jamshedpur FC', 'Barrow', 'AFC Wimbledon',\n",
       "       'Newport County', 'Ruch Chorzów', 'Sutton United', 'Accrington',\n",
       "       'Varbergs BoIS', 'SSV Ulm 1846', 'Puszcza', 'Crewe Alexandra',\n",
       "       'Morecambe', 'Sligo Rovers', 'Crawley Town', 'Shelbourne',\n",
       "       'Bohemian FC', 'UCD AFC', 'Cork City', 'Drogheda United',\n",
       "       'Punjab FC'], dtype=object)"
      ]
     },
     "execution_count": 61,
     "metadata": {},
     "output_type": "execute_result"
    }
   ],
   "source": [
    "df['Club'].unique()"
   ]
  },
  {
   "cell_type": "markdown",
   "metadata": {},
   "source": [
    "# Sort By\n",
    "\n"
   ]
  },
  {
   "cell_type": "code",
   "execution_count": 59,
   "metadata": {},
   "outputs": [],
   "source": [
    "category_to_sort=['Nation','Club','Overall']\n",
    "\n",
    "def sort_user(category_to_sort):\n",
    "    #user_input= input('Category to sort')\n",
    "    df_sorted= df.sort_values(by=category_to_sort)\n",
    "    \n",
    "    return df_sorted"
   ]
  },
  {
   "cell_type": "code",
   "execution_count": 60,
   "metadata": {},
   "outputs": [
    {
     "data": {
      "text/html": [
       "<div>\n",
       "<style scoped>\n",
       "    .dataframe tbody tr th:only-of-type {\n",
       "        vertical-align: middle;\n",
       "    }\n",
       "\n",
       "    .dataframe tbody tr th {\n",
       "        vertical-align: top;\n",
       "    }\n",
       "\n",
       "    .dataframe thead th {\n",
       "        text-align: right;\n",
       "    }\n",
       "</style>\n",
       "<table border=\"1\" class=\"dataframe\">\n",
       "  <thead>\n",
       "    <tr style=\"text-align: right;\">\n",
       "      <th></th>\n",
       "      <th>Name</th>\n",
       "      <th>Nation</th>\n",
       "      <th>Club</th>\n",
       "      <th>Position</th>\n",
       "      <th>Age</th>\n",
       "      <th>Overall</th>\n",
       "      <th>Pace</th>\n",
       "      <th>Shooting</th>\n",
       "      <th>Passing</th>\n",
       "      <th>Dribbling</th>\n",
       "      <th>...</th>\n",
       "      <th>Jumping</th>\n",
       "      <th>Stamina</th>\n",
       "      <th>Strength</th>\n",
       "      <th>Aggression</th>\n",
       "      <th>Att work rate</th>\n",
       "      <th>Def work rate</th>\n",
       "      <th>Preferred foot</th>\n",
       "      <th>Weak foot</th>\n",
       "      <th>Skill moves</th>\n",
       "      <th>GK</th>\n",
       "    </tr>\n",
       "  </thead>\n",
       "  <tbody>\n",
       "    <tr>\n",
       "      <th>6435</th>\n",
       "      <td>Armando Sadiku</td>\n",
       "      <td>Albania</td>\n",
       "      <td>ATK Mohun Bagan</td>\n",
       "      <td>ST</td>\n",
       "      <td>32</td>\n",
       "      <td>68</td>\n",
       "      <td>70</td>\n",
       "      <td>68</td>\n",
       "      <td>50</td>\n",
       "      <td>63</td>\n",
       "      <td>...</td>\n",
       "      <td>79</td>\n",
       "      <td>57</td>\n",
       "      <td>80</td>\n",
       "      <td>52</td>\n",
       "      <td>Medium</td>\n",
       "      <td>Medium</td>\n",
       "      <td>Right</td>\n",
       "      <td>3</td>\n",
       "      <td>3</td>\n",
       "      <td>0.0</td>\n",
       "    </tr>\n",
       "    <tr>\n",
       "      <th>861</th>\n",
       "      <td>Berat Djimsiti</td>\n",
       "      <td>Albania</td>\n",
       "      <td>Bergamo Calcio</td>\n",
       "      <td>CB</td>\n",
       "      <td>30</td>\n",
       "      <td>77</td>\n",
       "      <td>69</td>\n",
       "      <td>39</td>\n",
       "      <td>59</td>\n",
       "      <td>34</td>\n",
       "      <td>...</td>\n",
       "      <td>88</td>\n",
       "      <td>76</td>\n",
       "      <td>82</td>\n",
       "      <td>79</td>\n",
       "      <td>Medium</td>\n",
       "      <td>Medium</td>\n",
       "      <td>Right</td>\n",
       "      <td>3</td>\n",
       "      <td>2</td>\n",
       "      <td>0.0</td>\n",
       "    </tr>\n",
       "    <tr>\n",
       "      <th>2065</th>\n",
       "      <td>Thomas Strakosha</td>\n",
       "      <td>Albania</td>\n",
       "      <td>Brentford</td>\n",
       "      <td>GK</td>\n",
       "      <td>28</td>\n",
       "      <td>74</td>\n",
       "      <td>74</td>\n",
       "      <td>73</td>\n",
       "      <td>72</td>\n",
       "      <td>14</td>\n",
       "      <td>...</td>\n",
       "      <td>62</td>\n",
       "      <td>23</td>\n",
       "      <td>66</td>\n",
       "      <td>20</td>\n",
       "      <td>Medium</td>\n",
       "      <td>Medium</td>\n",
       "      <td>Right</td>\n",
       "      <td>2</td>\n",
       "      <td>1</td>\n",
       "      <td>75.0</td>\n",
       "    </tr>\n",
       "    <tr>\n",
       "      <th>7227</th>\n",
       "      <td>Anis Mehmeti</td>\n",
       "      <td>Albania</td>\n",
       "      <td>Bristol City</td>\n",
       "      <td>LW</td>\n",
       "      <td>22</td>\n",
       "      <td>67</td>\n",
       "      <td>72</td>\n",
       "      <td>61</td>\n",
       "      <td>60</td>\n",
       "      <td>73</td>\n",
       "      <td>...</td>\n",
       "      <td>66</td>\n",
       "      <td>70</td>\n",
       "      <td>63</td>\n",
       "      <td>63</td>\n",
       "      <td>High</td>\n",
       "      <td>Low</td>\n",
       "      <td>Right</td>\n",
       "      <td>3</td>\n",
       "      <td>3</td>\n",
       "      <td>0.0</td>\n",
       "    </tr>\n",
       "    <tr>\n",
       "      <th>7644</th>\n",
       "      <td>Arlind Ajeti</td>\n",
       "      <td>Albania</td>\n",
       "      <td>CFR 1907 Cluj</td>\n",
       "      <td>CB</td>\n",
       "      <td>30</td>\n",
       "      <td>66</td>\n",
       "      <td>61</td>\n",
       "      <td>35</td>\n",
       "      <td>51</td>\n",
       "      <td>45</td>\n",
       "      <td>...</td>\n",
       "      <td>77</td>\n",
       "      <td>64</td>\n",
       "      <td>81</td>\n",
       "      <td>68</td>\n",
       "      <td>Low</td>\n",
       "      <td>Medium</td>\n",
       "      <td>Right</td>\n",
       "      <td>1</td>\n",
       "      <td>2</td>\n",
       "      <td>0.0</td>\n",
       "    </tr>\n",
       "  </tbody>\n",
       "</table>\n",
       "<p>5 rows × 44 columns</p>\n",
       "</div>"
      ],
      "text/plain": [
       "                  Name   Nation             Club Position  Age  Overall  Pace  \\\n",
       "6435    Armando Sadiku  Albania  ATK Mohun Bagan       ST   32       68    70   \n",
       "861     Berat Djimsiti  Albania   Bergamo Calcio       CB   30       77    69   \n",
       "2065  Thomas Strakosha  Albania        Brentford       GK   28       74    74   \n",
       "7227      Anis Mehmeti  Albania     Bristol City       LW   22       67    72   \n",
       "7644      Arlind Ajeti  Albania    CFR 1907 Cluj       CB   30       66    61   \n",
       "\n",
       "      Shooting  Passing  Dribbling  ...  Jumping  Stamina  Strength  \\\n",
       "6435        68       50         63  ...       79       57        80   \n",
       "861         39       59         34  ...       88       76        82   \n",
       "2065        73       72         14  ...       62       23        66   \n",
       "7227        61       60         73  ...       66       70        63   \n",
       "7644        35       51         45  ...       77       64        81   \n",
       "\n",
       "      Aggression  Att work rate  Def work rate  Preferred foot  Weak foot  \\\n",
       "6435          52         Medium         Medium           Right          3   \n",
       "861           79         Medium         Medium           Right          3   \n",
       "2065          20         Medium         Medium           Right          2   \n",
       "7227          63           High            Low           Right          3   \n",
       "7644          68            Low         Medium           Right          1   \n",
       "\n",
       "      Skill moves    GK  \n",
       "6435            3   0.0  \n",
       "861             2   0.0  \n",
       "2065            1  75.0  \n",
       "7227            3   0.0  \n",
       "7644            2   0.0  \n",
       "\n",
       "[5 rows x 44 columns]"
      ]
     },
     "execution_count": 60,
     "metadata": {},
     "output_type": "execute_result"
    }
   ],
   "source": [
    "df_sorted=sort_user(category_to_sort)\n",
    "df_sorted.head()"
   ]
  },
  {
   "cell_type": "markdown",
   "metadata": {},
   "source": [
    "# Selection by..."
   ]
  },
  {
   "cell_type": "code",
   "execution_count": 18,
   "metadata": {},
   "outputs": [],
   "source": [
    "def selection_user():\n",
    "    user_selection= input ('Category to select')\n",
    "    return df[user_selection]\n"
   ]
  },
  {
   "cell_type": "code",
   "execution_count": null,
   "metadata": {},
   "outputs": [],
   "source": [
    "selection_user()\n"
   ]
  },
  {
   "cell_type": "markdown",
   "metadata": {},
   "source": [
    "# Select a nation, Club or Position\n"
   ]
  },
  {
   "cell_type": "code",
   "execution_count": 32,
   "metadata": {},
   "outputs": [],
   "source": [
    "# Select a Nation\n",
    "\n",
    "def select_nation(nation):\n",
    "    df_nation= df[df['Nation']==nation]\n",
    "    return df_nation"
   ]
  },
  {
   "cell_type": "code",
   "execution_count": 33,
   "metadata": {},
   "outputs": [],
   "source": [
    "nation= input('Which Nation you want to select?')\n",
    "df_nation=select_nation(nation)"
   ]
  },
  {
   "cell_type": "code",
   "execution_count": 35,
   "metadata": {},
   "outputs": [],
   "source": [
    "def select_club(club):\n",
    "    df_club=df[df['Club']==club]\n",
    "    return df_club"
   ]
  },
  {
   "cell_type": "code",
   "execution_count": 36,
   "metadata": {},
   "outputs": [
    {
     "data": {
      "text/html": [
       "<div>\n",
       "<style scoped>\n",
       "    .dataframe tbody tr th:only-of-type {\n",
       "        vertical-align: middle;\n",
       "    }\n",
       "\n",
       "    .dataframe tbody tr th {\n",
       "        vertical-align: top;\n",
       "    }\n",
       "\n",
       "    .dataframe thead th {\n",
       "        text-align: right;\n",
       "    }\n",
       "</style>\n",
       "<table border=\"1\" class=\"dataframe\">\n",
       "  <thead>\n",
       "    <tr style=\"text-align: right;\">\n",
       "      <th></th>\n",
       "      <th>Name</th>\n",
       "      <th>Nation</th>\n",
       "      <th>Club</th>\n",
       "      <th>Position</th>\n",
       "      <th>Age</th>\n",
       "      <th>Overall</th>\n",
       "      <th>Pace</th>\n",
       "      <th>Shooting</th>\n",
       "      <th>Passing</th>\n",
       "      <th>Dribbling</th>\n",
       "      <th>...</th>\n",
       "      <th>Jumping</th>\n",
       "      <th>Stamina</th>\n",
       "      <th>Strength</th>\n",
       "      <th>Aggression</th>\n",
       "      <th>Att work rate</th>\n",
       "      <th>Def work rate</th>\n",
       "      <th>Preferred foot</th>\n",
       "      <th>Weak foot</th>\n",
       "      <th>Skill moves</th>\n",
       "      <th>GK</th>\n",
       "    </tr>\n",
       "  </thead>\n",
       "  <tbody>\n",
       "    <tr>\n",
       "      <th>0</th>\n",
       "      <td>Kylian Mbappé</td>\n",
       "      <td>France</td>\n",
       "      <td>Paris SG</td>\n",
       "      <td>ST</td>\n",
       "      <td>24</td>\n",
       "      <td>91</td>\n",
       "      <td>97</td>\n",
       "      <td>90</td>\n",
       "      <td>80</td>\n",
       "      <td>93</td>\n",
       "      <td>...</td>\n",
       "      <td>88</td>\n",
       "      <td>88</td>\n",
       "      <td>77</td>\n",
       "      <td>64</td>\n",
       "      <td>High</td>\n",
       "      <td>Low</td>\n",
       "      <td>Right</td>\n",
       "      <td>4</td>\n",
       "      <td>5</td>\n",
       "      <td>0.0</td>\n",
       "    </tr>\n",
       "    <tr>\n",
       "      <th>30</th>\n",
       "      <td>Marquinhos</td>\n",
       "      <td>Brazil</td>\n",
       "      <td>Paris SG</td>\n",
       "      <td>CB</td>\n",
       "      <td>29</td>\n",
       "      <td>87</td>\n",
       "      <td>78</td>\n",
       "      <td>56</td>\n",
       "      <td>75</td>\n",
       "      <td>69</td>\n",
       "      <td>...</td>\n",
       "      <td>89</td>\n",
       "      <td>83</td>\n",
       "      <td>78</td>\n",
       "      <td>81</td>\n",
       "      <td>Medium</td>\n",
       "      <td>High</td>\n",
       "      <td>Right</td>\n",
       "      <td>3</td>\n",
       "      <td>3</td>\n",
       "      <td>0.0</td>\n",
       "    </tr>\n",
       "    <tr>\n",
       "      <th>33</th>\n",
       "      <td>Gianluigi Donnarumma</td>\n",
       "      <td>Italy</td>\n",
       "      <td>Paris SG</td>\n",
       "      <td>GK</td>\n",
       "      <td>24</td>\n",
       "      <td>87</td>\n",
       "      <td>90</td>\n",
       "      <td>82</td>\n",
       "      <td>79</td>\n",
       "      <td>28</td>\n",
       "      <td>...</td>\n",
       "      <td>71</td>\n",
       "      <td>34</td>\n",
       "      <td>72</td>\n",
       "      <td>30</td>\n",
       "      <td>Medium</td>\n",
       "      <td>Medium</td>\n",
       "      <td>Right</td>\n",
       "      <td>3</td>\n",
       "      <td>1</td>\n",
       "      <td>89.0</td>\n",
       "    </tr>\n",
       "    <tr>\n",
       "      <th>35</th>\n",
       "      <td>Ousmane Dembélé</td>\n",
       "      <td>France</td>\n",
       "      <td>Paris SG</td>\n",
       "      <td>RW</td>\n",
       "      <td>26</td>\n",
       "      <td>86</td>\n",
       "      <td>93</td>\n",
       "      <td>77</td>\n",
       "      <td>81</td>\n",
       "      <td>89</td>\n",
       "      <td>...</td>\n",
       "      <td>65</td>\n",
       "      <td>68</td>\n",
       "      <td>52</td>\n",
       "      <td>54</td>\n",
       "      <td>High</td>\n",
       "      <td>Medium</td>\n",
       "      <td>Left</td>\n",
       "      <td>5</td>\n",
       "      <td>5</td>\n",
       "      <td>0.0</td>\n",
       "    </tr>\n",
       "    <tr>\n",
       "      <th>78</th>\n",
       "      <td>Keylor Navas</td>\n",
       "      <td>Costa Rica</td>\n",
       "      <td>Paris SG</td>\n",
       "      <td>GK</td>\n",
       "      <td>36</td>\n",
       "      <td>85</td>\n",
       "      <td>84</td>\n",
       "      <td>80</td>\n",
       "      <td>75</td>\n",
       "      <td>24</td>\n",
       "      <td>...</td>\n",
       "      <td>73</td>\n",
       "      <td>39</td>\n",
       "      <td>75</td>\n",
       "      <td>32</td>\n",
       "      <td>Medium</td>\n",
       "      <td>Medium</td>\n",
       "      <td>Right</td>\n",
       "      <td>3</td>\n",
       "      <td>1</td>\n",
       "      <td>87.0</td>\n",
       "    </tr>\n",
       "  </tbody>\n",
       "</table>\n",
       "<p>5 rows × 44 columns</p>\n",
       "</div>"
      ],
      "text/plain": [
       "                    Name      Nation      Club Position  Age  Overall  Pace  \\\n",
       "0          Kylian Mbappé      France  Paris SG       ST   24       91    97   \n",
       "30            Marquinhos      Brazil  Paris SG       CB   29       87    78   \n",
       "33  Gianluigi Donnarumma       Italy  Paris SG       GK   24       87    90   \n",
       "35       Ousmane Dembélé      France  Paris SG       RW   26       86    93   \n",
       "78          Keylor Navas  Costa Rica  Paris SG       GK   36       85    84   \n",
       "\n",
       "    Shooting  Passing  Dribbling  ...  Jumping  Stamina  Strength  Aggression  \\\n",
       "0         90       80         93  ...       88       88        77          64   \n",
       "30        56       75         69  ...       89       83        78          81   \n",
       "33        82       79         28  ...       71       34        72          30   \n",
       "35        77       81         89  ...       65       68        52          54   \n",
       "78        80       75         24  ...       73       39        75          32   \n",
       "\n",
       "    Att work rate  Def work rate  Preferred foot  Weak foot  Skill moves    GK  \n",
       "0            High            Low           Right          4            5   0.0  \n",
       "30         Medium           High           Right          3            3   0.0  \n",
       "33         Medium         Medium           Right          3            1  89.0  \n",
       "35           High         Medium            Left          5            5   0.0  \n",
       "78         Medium         Medium           Right          3            1  87.0  \n",
       "\n",
       "[5 rows x 44 columns]"
      ]
     },
     "execution_count": 36,
     "metadata": {},
     "output_type": "execute_result"
    }
   ],
   "source": [
    "club_selection= input('Which Club do you want?')\n",
    "df_club=select_club(club_selection)\n",
    "df_club.head()"
   ]
  },
  {
   "cell_type": "code",
   "execution_count": 31,
   "metadata": {},
   "outputs": [
    {
     "data": {
      "text/plain": [
       "array(['France', 'Norway', 'Belgium', 'Argentina', 'England', 'Poland',\n",
       "       'Egypt', 'Portugal', 'Brazil', 'Spain', 'Germany', 'Holland',\n",
       "       'Nigeria', 'Uruguay', 'Slovenia', 'Croatia', 'Switzerland',\n",
       "       'Korea Republic', 'Italy', 'Algeria', 'Serbia', 'Georgia',\n",
       "       'Scotland', 'Senegal', 'Austria', 'Morocco', 'Turkey',\n",
       "       'Costa Rica', 'Cameroon', 'Ghana', 'Colombia', 'Hungary',\n",
       "       'Denmark', 'Slovakia', 'Canada', 'Bosnia and Herzegovina',\n",
       "       \"Côte d'Ivoire\", 'Czech Republic', 'Montenegro', 'Iran', 'Ukraine',\n",
       "       'Libya', 'Paraguay', 'Mexico', 'Finland', 'Sweden', 'Japan',\n",
       "       'Central African Republic', 'Mozambique', 'Armenia', 'Kosovo',\n",
       "       'Tunisia', 'Burkina Faso', 'Greece', 'Gabon', 'Chile', 'Ecuador',\n",
       "       'North Macedonia', 'Congo DR', 'Mali', 'Jamaica', 'United States',\n",
       "       'Russia', 'Malta', 'Suriname', 'Guinea', 'Togo', 'Angola',\n",
       "       'Australia', 'Peru', 'Albania', 'Saudi Arabia', 'Gambia', 'Wales',\n",
       "       'Trinidad and Tobago', 'Venezuela', 'Zimbabwe', 'Israel',\n",
       "       'Romania', 'China PR', 'Luxembourg', 'Republic of Ireland',\n",
       "       'Liberia', 'Iceland', 'Guinea-Bissau', 'Equatorial Guinea',\n",
       "       'Zambia', 'Burundi', 'New Zealand', 'Cape Verde Islands',\n",
       "       'Bolivia', 'Northern Ireland', 'Honduras', 'Comoros',\n",
       "       'South Africa', 'Kenya', 'Palestine', 'Madagascar', 'Benin',\n",
       "       'United Arab Emirates', 'Haiti', 'Curaçao', 'Congo', 'Bulgaria',\n",
       "       'Panama', 'Tanzania', 'Uzbekistan', 'Cuba', 'Azerbaijan', 'Cyprus',\n",
       "       'Jordan', 'Grenada', 'Philippines', 'Sierra Leone', 'Estonia',\n",
       "       'Chinese Taipei', 'Uganda', 'Liechtenstein', 'Iraq', 'Hong Kong',\n",
       "       'Bermuda', 'Latvia', 'Guatemala', 'Vanuatu', 'Fiji', 'Chad',\n",
       "       'Moldova', 'St. Lucia', 'El Salvador', 'Antigua and Barbuda',\n",
       "       'St. Kitts and Nevis', 'Mauritania', 'Andorra', 'India', 'Belarus',\n",
       "       'Lithuania', 'Syria', 'Guyana', 'Montserrat', 'Sudan', 'Mauritius',\n",
       "       'Puerto Rico', 'Kazakhstan', 'Malawi', 'Namibia', 'Korea DPR',\n",
       "       'Sri Lanka', 'Pakistan', 'Indonesia', 'Faroe Islands', 'Lebanon',\n",
       "       'Thailand', 'Gibraltar', 'Dominican Republic', 'South Sudan'],\n",
       "      dtype=object)"
      ]
     },
     "execution_count": 31,
     "metadata": {},
     "output_type": "execute_result"
    }
   ],
   "source": [
    "df['Nation'].unique()"
   ]
  },
  {
   "cell_type": "code",
   "execution_count": 34,
   "metadata": {},
   "outputs": [
    {
     "data": {
      "text/plain": [
       "array(['Paris SG', 'Manchester City', 'Inter Miami CF', 'Al Ittihad',\n",
       "       'Real Madrid', 'FC Bayern München', 'FC Barcelona', 'Liverpool',\n",
       "       'Al Hilal', 'Manchester Utd', 'Atlético de Madrid', 'Napoli FC',\n",
       "       'Inter', 'Arsenal', 'Milan', 'Borussia Dortmund', 'Spurs',\n",
       "       'Newcastle Utd', 'Al Ahli', 'Roma FC', 'Villarreal CF', 'Al Nassr',\n",
       "       'Chelsea', 'Juventus', 'Sevilla FC', 'RC Celta', 'Sassuolo',\n",
       "       'Latium', 'Aston Villa', 'Frankfurt', 'Leverkusen', 'Al Shabab',\n",
       "       'VfL Wolfsburg', 'SC Freiburg', 'RB Leipzig', 'Real Sociedad',\n",
       "       'AS Monaco', 'RCD Mallorca', 'SL Benfica', 'Fenerbahçe',\n",
       "       'Real Betis', 'OL', 'Fulham', 'Athletic Club', 'SC Braga',\n",
       "       'Salernitana', 'Brentford', 'CA Osasuna', 'Valencia CF',\n",
       "       'Cádiz CF', 'FC Porto', 'Rayo Vallecano', 'Sporting CP', 'Everton',\n",
       "       'Galatasaray', 'Girona FC', 'Getafe CF', 'Royal Antwerp FC',\n",
       "       'West Ham', 'Ajax', 'Stade Rennais FC', 'OM', 'LOSC Lille',\n",
       "       'Brighton', 'Fiorentina', 'Toronto FC', 'TSG Hoffenheim',\n",
       "       'OGC Nice', 'Bergamo Calcio', 'PSV', 'RC Lens', \"Nott'm Forest\",\n",
       "       'RSC Anderlecht', 'Torino', 'Elche CF', 'Union Berlin', 'LAFC',\n",
       "       'Udinese', 'Feyenoord', 'Ettifaq FC', 'Club Brugge',\n",
       "       'Nashville SC', \"M'gladbach\", 'Montpellier', 'UD Las Palmas',\n",
       "       'Beşiktaş', '1. FSV Mainz 05', 'Atlanta United', 'Leicester City',\n",
       "       'Boca Juniors', 'Monza', 'Crystal Palace', 'River Plate',\n",
       "       'New England', 'UD Almería', 'Al Riyadh', 'Wolves', 'Celtic',\n",
       "       'Minnesota United', 'Al Ain FC', 'Strasbourg', 'Stade de Reims',\n",
       "       'FC Twente', 'Trabzonspor', 'Al Fateh', 'AFC Bournemouth',\n",
       "       'Philadelphia', 'N.E.C. Nijmegen', 'AZ', 'Shanghai Port',\n",
       "       'Austin FC', 'Bologna', 'Houston Dynamo', '1. FC Köln',\n",
       "       'SV Werder Bremen', 'FC Nantes', 'Genoa', 'FC Lorient', 'OL Reign',\n",
       "       'Shakhtar Donetsk', 'Karlsruher SC', 'Rangers', 'Burnley',\n",
       "       'Granada CF', 'FC Cincinnati', 'Empoli', 'Al Taawoun', 'Sampdoria',\n",
       "       'RCD Espanyol', 'F.C. København', 'Spezia', 'AEK Athens',\n",
       "       'Talleres', 'MKE Ankaragücü', 'VfB Stuttgart', 'LA Galaxy',\n",
       "       'KRC Genk', 'Slavia Praha', 'FC Dallas', 'Pendikspor', 'Al Fayha',\n",
       "       'Sparta Praha', 'Hajduk Split', 'R. Valladolid CF',\n",
       "       'Hellas Verona', 'Cagliari', 'VfL Bochum', 'Sounders FC',\n",
       "       'Dynamo Kyiv', 'Damac FC', 'Lecce', 'Rongcheng FC', 'Antalyaspor',\n",
       "       'LDU Quito', 'Real Salt Lake', 'San Lorenzo', 'Stade Brestois 29',\n",
       "       'Panathinaikos', 'St. Louis CITY SC', 'Barcelona SC', 'KAA Gent',\n",
       "       'Wuhan 3 Towns', 'Arouca', 'Ferencvárosi TC', 'FC Augsburg',\n",
       "       'Al Wehda', 'Independiente DV', 'Norwich', 'Clermont Foot 63',\n",
       "       'Whitecaps FC', 'D. Alavés', 'Hannover 96', 'Columbus Crew',\n",
       "       'FC Basel 1893', 'FC Midtjylland', 'SC Paderborn 07', 'Gaziantep',\n",
       "       'Millonarios', 'Racing Club', 'Portimonense SC', 'Toulouse FC',\n",
       "       'sc Heerenveen', 'BSC Young Boys', 'Orlando City', 'PAOK FC',\n",
       "       'Atl. Nacional', 'Al Khaleej', 'RB Salzburg', 'Viktoria Plzeň',\n",
       "       'FC Lugano', 'Servette FC', 'Adana Demirspor', 'Samsunspor',\n",
       "       'Abha Club', 'Cremonese', 'Argentinos Jrs.', 'Southampton',\n",
       "       'Brøndby IF', 'Uni. Católica', 'Sheffield Utd', 'Estudiantes',\n",
       "       'Leeds United', 'Al Hazem', 'Libertad', 'FK Bodø/Glimt',\n",
       "       'Burgos CF', 'Casa Pia AC', 'Portland Timbers', 'Gil Vicente',\n",
       "       'Lanús', 'Charlotte FC', 'Başakşehir', 'Palermo', 'Karagümrük SK',\n",
       "       'Al Okhdood', 'Cerro Porteño', 'Defensa', 'Vélez Sarsfield',\n",
       "       'Olimpia', 'R. Racing Club', 'Konyaspor', 'Hamburger SV',\n",
       "       'FC Nordsjælland', 'Hertha Berlin', 'Heidenheim', 'Havre AC',\n",
       "       'Raków', 'Rosario Central', 'New York City FC', 'Beijing Guoan',\n",
       "       'Sparta Rotterdam', 'Dinamo Zagreb', 'Ulsan Hyundai',\n",
       "       'Independiente', 'Peñarol', 'BK Häcken', 'SV Darmstadt 98',\n",
       "       'Chicago Fire FC', 'Çaykur Rizespor', 'Daegu FC', 'KVC Westerlo',\n",
       "       'Coventry City', 'West Brom', 'Sp. Charleroi', 'SJ Earthquakes',\n",
       "       'Real Zaragoza', 'SD Eibar', 'FC Vizela', 'Melbourne City',\n",
       "       'Junior', 'Luton Town', 'QPR', 'D.C. United', 'Pisa', 'Vitória SC',\n",
       "       'R. Union St.-G.', 'FBC Melgar', 'Atlético Tucumán', 'Tigre',\n",
       "       'Malmö FF', 'Parma', 'Millwall', 'Alianza Lima', 'Gimnasia',\n",
       "       'Huracán', 'Molde FK', 'Alanyaspor', 'Farense', 'Aucas',\n",
       "       'Kasımpaşa', 'Colo-Colo', 'Hearts', 'SK Sturm Graz',\n",
       "       'FC St. Gallen', 'Watford', 'FC St. Pauli', 'R. Sporting',\n",
       "       'Amiens SC', 'Bolívar', 'Estoril Praia', 'Shandong Taishan',\n",
       "       'Tianjin JMT FC', 'FC Luzern', 'Al Tai', 'Red Bulls', 'Levante UD',\n",
       "       'FC Seoul', 'Huddersfield', 'Rio Ave FC', 'Venezia', 'CF Montréal',\n",
       "       'Cardiff City', 'Central Córdoba', 'Godoy Cruz', 'Sivasspor',\n",
       "       'Al Raed', 'KV Mechelen', 'Legia Warszawa', 'FC Schalke 04',\n",
       "       'Suwon FC', 'Como', 'Preston', 'FC Famalicão', 'LASK',\n",
       "       'Shenzhen FC', 'AS Saint-Étienne', 'Apoel FC', 'Ascoli',\n",
       "       'FC Zürich', 'SK Rapid Wien', 'Guaraní', 'Kayserispor',\n",
       "       'Instituto', 'Sunderland', 'AJ Auxerre', 'Colón',\n",
       "       'Barracas Central', 'Audax Italiano', 'Standard Liège',\n",
       "       'Middlesbrough', 'CD Tenerife', 'Lech Poznań', 'Pohang Steelers',\n",
       "       'Swansea City', 'Pogoń Szczecin', 'Stoke City', 'FC Metz',\n",
       "       'Deportes Tolima', 'Indep. Medellín', 'Zhejiang Pro', 'Aberdeen',\n",
       "       'Belgrano', 'Frosinone', 'CD Leganés', 'CS Emelec',\n",
       "       'Jeonbuk Hyundai', 'Águilas Doradas', 'SD Huesca', 'FC Utrecht',\n",
       "       'RWD Molenbeek', 'Santa Fe', 'Colorado Rapids', 'Blackburn Rovers',\n",
       "       'Henan SSLM FC', \"Newell's\", 'Sporting Cristal', 'Nacional',\n",
       "       'Boavista FC', 'Angers SCO', 'GD Chaves', 'FC Cartagena',\n",
       "       'ESTAC Troyes', 'Valenciennes FC', 'Düsseldorf', 'Bari', 'Vitesse',\n",
       "       'Sheffield Wed', 'Bordeaux', 'Reggiana', 'Birmingham City',\n",
       "       'Kaiserslautern', 'Hibernian', 'RKC Waalwijk', 'R. Oviedo',\n",
       "       'Cobresal', 'Universitario', 'AC Ajaccio', 'FCSB',\n",
       "       'Fortuna Sittard', 'SM Caen', 'Melb. Victory', 'Zagłębie Lubin',\n",
       "       'Djurgårdens IF', 'Moreirense FC', 'Bristol City', 'AGF',\n",
       "       'Lausanne-Sport', 'AD Alcorcón', 'SD Amorebieta', 'Albacete BP',\n",
       "       'Macarthur FC', 'WS Wanderers', 'Fürth', 'Sarmiento', 'Paris FC',\n",
       "       'Jeju United', 'Suwon Samsung', 'Univ. Craiova', 'Hatayspor',\n",
       "       'Daejeon Citizen', 'Quevilly Rouen', 'SC Bastia', 'Cangzhou FC',\n",
       "       'OH Leuven', '1. FC Nürnberg', 'Palestino', 'Incheon United',\n",
       "       'Hull City', 'AIK', 'Modena', 'Górnik Zabrze', 'Sporting KC',\n",
       "       'Dep. Pereira', 'FC Andorra', 'Cienciano', 'Holstein Kiel',\n",
       "       'Changchun Yatai', 'Vålerenga Fotball', 'Ipswich',\n",
       "       'Estrela Amadora', 'Banfield', '1. FC Magdeburg',\n",
       "       'Farul Constanța', 'Shanghai Shenhua', 'Grenoble Foot 38',\n",
       "       'Racing de Ferrol', 'Randers FC', 'Platense', 'Peterborough',\n",
       "       'Plymouth Argyle', 'Unión', 'VfL Osnabrück', 'Cercle Brugge',\n",
       "       'Meizhou Hakka', 'Ternana', 'Gangwon FC', 'Rosenborg BK',\n",
       "       'IF Elfsborg', 'Rotherham Utd', 'Piast Gliwice', 'Hansa Rostock',\n",
       "       'GwangJu FC', 'Politehnica Iași', 'Sydney FC', 'Dep. Cuenca',\n",
       "       'Südtirol', 'UCV', 'FC Rapid 1923', 'Grasshopper Club',\n",
       "       'IFK Norrköping', 'Gral. Caballero', 'Ñublense', 'Silkeborg IF',\n",
       "       'Barnsley', 'Viking FK', 'Braunschweig', 'Bolton', 'Cracovia',\n",
       "       'CD Mirandés', 'Caracas F.C.', 'Wolfsberger AC', 'IFK Göteborg',\n",
       "       'Hammarby IF', 'Portsmouth', 'ATK Mohun Bagan', 'Derby County',\n",
       "       'Qingdao Hainiu', 'Feralpisalò', 'Bristol Rovers',\n",
       "       'En Avant Guingamp', 'CFR 1907 Cluj', 'Villarreal CF B',\n",
       "       'FC Winterthur', 'Charlton Ath', 'Catanzaro', 'Western United',\n",
       "       'FK Austria Wien', 'Cosenza', 'Lillestrøm SK', 'Heracles Almelo',\n",
       "       'SV Sandhausen', 'Jagiellonia', 'Pau FC', 'CD Eldense',\n",
       "       'İstanbulspor', 'Brisbane Roar', 'KAS Eupen', 'Stockport',\n",
       "       'Stade Lavallois', 'Arminia Bielefeld', 'STVV', 'PEC Zwolle',\n",
       "       'Nantong Zhiyun FC', 'The Strongest', 'Excelsior',\n",
       "       'Club Magallanes', 'Binacional', 'Wehen Wiesbaden', 'FCU 1948',\n",
       "       'Newcastle Jets', 'Oxford United', 'KV Kortrijk',\n",
       "       'Shamrock Rovers', 'Delfín S.C.', 'Go Ahead Eagles', 'Reading',\n",
       "       'Blackpool', 'S. Ameliano', 'Danubio', 'FC Ingolstadt 04',\n",
       "       'Viborg FF', 'Austria Klagenfurt', 'Odisha FC', 'Cittadella',\n",
       "       'Wigan Athletic', 'Adelaide United', 'Gillingham',\n",
       "       'FC Erzgebirge Aue', 'FC Volendam', 'Wrexham AFC', 'Notts County',\n",
       "       'Sepsi OSK', 'Dalian Pro', 'St. Mirren', 'Central Coast',\n",
       "       'Puerto Cabello', 'SV Elversberg', 'Wycombe', 'Mumbai City FC',\n",
       "       'Yverdon Sport FC', 'Hyderabad FC', 'Radomiak Radom',\n",
       "       'Dep. Táchira', 'Stabæk Fotball', 'Perth Glory', 'Burton Albion',\n",
       "       'Odds BK', 'Kerala Blasters', 'Defensor', 'IFK Värnamo',\n",
       "       'US Concarneau', 'SK Brann', 'Mansfield Town', 'Almere City FC',\n",
       "       'SC Austria', 'FC Petrolul', 'Est. de Mérida', 'Odense BK',\n",
       "       'Sarpsborg 08', 'Bengaluru FC', '1860 München', 'Vejle Boldklub',\n",
       "       'Well. Phoenix', 'Metropolitanos', 'FC Botoșani', 'WSG Tirol',\n",
       "       'Strømsgodset IF', 'Monagas SC', 'Saarbrücken', 'SCR Altach',\n",
       "       'East Bengal', 'FC Goa', 'FC Hermannstadt', 'Guabirá',\n",
       "       'Mjällby AIF', 'Tacuary', 'Kalmar FF', 'O. Petrolero',\n",
       "       'SV Waldhof', 'Warta Poznań', 'FC Univ. Cluj', 'FC Voluntari',\n",
       "       'Kilmarnock', 'TSV Hartberg', 'Halmstads BK', 'Preußen Münster',\n",
       "       'VfB Lübeck', 'Cambridge Utd', 'USL Dunkerque', 'Stade-Lausanne',\n",
       "       'Dynamo Dresden', 'St. Johnstone', 'Rodez AF', 'Korona Kielce',\n",
       "       'Ross County', 'Stal Mielec', 'Shrewsbury', 'Fleetwood Town',\n",
       "       'Leyton Orient', 'Blooming', 'St. Pats', 'Jahn Regensburg',\n",
       "       'Aalesunds FK', 'Viktoria Köln', 'Northampton', 'Motherwell',\n",
       "       'Hallescher FC', 'Brommapojkarna', 'IK Sirius', 'Palmaflor',\n",
       "       'Exeter City', 'Carlisle United', 'MSV Duisburg', 'Livingston',\n",
       "       'Lincoln City', 'SC Verl', 'Widzew Łódź', 'HJK Helsinki',\n",
       "       'ŁKS Łódź', 'Salford City', 'Śląsk Wrocław', 'UTA Arad',\n",
       "       'FC Dinamo 1948', 'Swindon Town', 'NorthEast United',\n",
       "       'Bradford City', 'Derry City', 'HamKam Fotball', 'Rot-Weiss Essen',\n",
       "       'Tromsø IL', 'MK Dons', 'FK Haugesund', 'Sandefjord',\n",
       "       'SC Oțelul Galați', 'Stevenage', 'Port Vale', 'Unterhaching',\n",
       "       'Cheltenham Town', 'Doncaster', 'SC Freiburg II', 'Lyngby BK',\n",
       "       'Degerfors IF', 'Dundee FC', 'Grimsby Town', 'Forest Green',\n",
       "       'Walsall', 'Tranmere Rovers', 'B. Dortmund II', 'Colchester',\n",
       "       'Hvidovre IF', 'Harrogate Town', 'Blau-Weiss Linz', 'Dundalk',\n",
       "       'Chennaiyin FC', 'Jamshedpur FC', 'Barrow', 'AFC Wimbledon',\n",
       "       'Newport County', 'Ruch Chorzów', 'Sutton United', 'Accrington',\n",
       "       'Varbergs BoIS', 'SSV Ulm 1846', 'Puszcza', 'Crewe Alexandra',\n",
       "       'Morecambe', 'Sligo Rovers', 'Crawley Town', 'Shelbourne',\n",
       "       'Bohemian FC', 'UCD AFC', 'Cork City', 'Drogheda United',\n",
       "       'Punjab FC'], dtype=object)"
      ]
     },
     "execution_count": 34,
     "metadata": {},
     "output_type": "execute_result"
    }
   ],
   "source": [
    "df['Club'].unique()"
   ]
  },
  {
   "cell_type": "markdown",
   "metadata": {},
   "source": [
    " # Slect a Player"
   ]
  },
  {
   "cell_type": "code",
   "execution_count": 37,
   "metadata": {},
   "outputs": [],
   "source": [
    "def player_selection(player_name):\n",
    "    df_player=df[df['Name']==player_name]\n",
    "    px.bar(df_player,x=df_player.select_dtypes(include=int))\n",
    "    return df_player\n",
    "\n",
    "    "
   ]
  },
  {
   "cell_type": "code",
   "execution_count": 97,
   "metadata": {},
   "outputs": [
    {
     "data": {
      "application/vnd.plotly.v1+json": {
       "config": {
        "plotlyServerURL": "https://plot.ly"
       },
       "data": [
        {
         "alignmentgroup": "True",
         "hovertemplate": "Stats=%{x}<br>Values=%{y}<extra></extra>",
         "legendgroup": "",
         "marker": {
          "color": "#636efa",
          "pattern": {
           "shape": ""
          }
         },
         "name": "",
         "offsetgroup": "",
         "orientation": "v",
         "showlegend": false,
         "textposition": "auto",
         "type": "bar",
         "x": [
          "Age",
          "Overall",
          "Pace",
          "Shooting",
          "Passing",
          "Dribbling",
          "Defending",
          "Physicality",
          "Acceleration",
          "Sprint",
          "Positioning",
          "Finishing",
          "Shot",
          "Long",
          "Volleys",
          "Penalties",
          "Vision",
          "Crossing",
          "Free",
          "Curve",
          "Agility",
          "Balance",
          "Reactions",
          "Ball",
          "Composure",
          "Interceptions",
          "Heading",
          "Def",
          "Standing",
          "Sliding",
          "Jumping",
          "Stamina",
          "Strength",
          "Aggression",
          "Weak foot",
          "Skill moves"
         ],
         "xaxis": "x",
         "y": [
          36,
          90,
          80,
          87,
          90,
          96,
          33,
          64,
          87,
          74,
          91,
          89,
          91,
          90,
          86,
          75,
          92,
          83,
          93,
          93,
          91,
          95,
          88,
          93,
          96,
          40,
          60,
          20,
          35,
          24,
          71,
          70,
          68,
          44,
          80,
          80
         ],
         "yaxis": "y"
        }
       ],
       "layout": {
        "barmode": "relative",
        "legend": {
         "tracegroupgap": 0
        },
        "margin": {
         "t": 60
        },
        "template": {
         "data": {
          "bar": [
           {
            "error_x": {
             "color": "#2a3f5f"
            },
            "error_y": {
             "color": "#2a3f5f"
            },
            "marker": {
             "line": {
              "color": "#E5ECF6",
              "width": 0.5
             },
             "pattern": {
              "fillmode": "overlay",
              "size": 10,
              "solidity": 0.2
             }
            },
            "type": "bar"
           }
          ],
          "barpolar": [
           {
            "marker": {
             "line": {
              "color": "#E5ECF6",
              "width": 0.5
             },
             "pattern": {
              "fillmode": "overlay",
              "size": 10,
              "solidity": 0.2
             }
            },
            "type": "barpolar"
           }
          ],
          "carpet": [
           {
            "aaxis": {
             "endlinecolor": "#2a3f5f",
             "gridcolor": "white",
             "linecolor": "white",
             "minorgridcolor": "white",
             "startlinecolor": "#2a3f5f"
            },
            "baxis": {
             "endlinecolor": "#2a3f5f",
             "gridcolor": "white",
             "linecolor": "white",
             "minorgridcolor": "white",
             "startlinecolor": "#2a3f5f"
            },
            "type": "carpet"
           }
          ],
          "choropleth": [
           {
            "colorbar": {
             "outlinewidth": 0,
             "ticks": ""
            },
            "type": "choropleth"
           }
          ],
          "contour": [
           {
            "colorbar": {
             "outlinewidth": 0,
             "ticks": ""
            },
            "colorscale": [
             [
              0,
              "#0d0887"
             ],
             [
              0.1111111111111111,
              "#46039f"
             ],
             [
              0.2222222222222222,
              "#7201a8"
             ],
             [
              0.3333333333333333,
              "#9c179e"
             ],
             [
              0.4444444444444444,
              "#bd3786"
             ],
             [
              0.5555555555555556,
              "#d8576b"
             ],
             [
              0.6666666666666666,
              "#ed7953"
             ],
             [
              0.7777777777777778,
              "#fb9f3a"
             ],
             [
              0.8888888888888888,
              "#fdca26"
             ],
             [
              1,
              "#f0f921"
             ]
            ],
            "type": "contour"
           }
          ],
          "contourcarpet": [
           {
            "colorbar": {
             "outlinewidth": 0,
             "ticks": ""
            },
            "type": "contourcarpet"
           }
          ],
          "heatmap": [
           {
            "colorbar": {
             "outlinewidth": 0,
             "ticks": ""
            },
            "colorscale": [
             [
              0,
              "#0d0887"
             ],
             [
              0.1111111111111111,
              "#46039f"
             ],
             [
              0.2222222222222222,
              "#7201a8"
             ],
             [
              0.3333333333333333,
              "#9c179e"
             ],
             [
              0.4444444444444444,
              "#bd3786"
             ],
             [
              0.5555555555555556,
              "#d8576b"
             ],
             [
              0.6666666666666666,
              "#ed7953"
             ],
             [
              0.7777777777777778,
              "#fb9f3a"
             ],
             [
              0.8888888888888888,
              "#fdca26"
             ],
             [
              1,
              "#f0f921"
             ]
            ],
            "type": "heatmap"
           }
          ],
          "heatmapgl": [
           {
            "colorbar": {
             "outlinewidth": 0,
             "ticks": ""
            },
            "colorscale": [
             [
              0,
              "#0d0887"
             ],
             [
              0.1111111111111111,
              "#46039f"
             ],
             [
              0.2222222222222222,
              "#7201a8"
             ],
             [
              0.3333333333333333,
              "#9c179e"
             ],
             [
              0.4444444444444444,
              "#bd3786"
             ],
             [
              0.5555555555555556,
              "#d8576b"
             ],
             [
              0.6666666666666666,
              "#ed7953"
             ],
             [
              0.7777777777777778,
              "#fb9f3a"
             ],
             [
              0.8888888888888888,
              "#fdca26"
             ],
             [
              1,
              "#f0f921"
             ]
            ],
            "type": "heatmapgl"
           }
          ],
          "histogram": [
           {
            "marker": {
             "pattern": {
              "fillmode": "overlay",
              "size": 10,
              "solidity": 0.2
             }
            },
            "type": "histogram"
           }
          ],
          "histogram2d": [
           {
            "colorbar": {
             "outlinewidth": 0,
             "ticks": ""
            },
            "colorscale": [
             [
              0,
              "#0d0887"
             ],
             [
              0.1111111111111111,
              "#46039f"
             ],
             [
              0.2222222222222222,
              "#7201a8"
             ],
             [
              0.3333333333333333,
              "#9c179e"
             ],
             [
              0.4444444444444444,
              "#bd3786"
             ],
             [
              0.5555555555555556,
              "#d8576b"
             ],
             [
              0.6666666666666666,
              "#ed7953"
             ],
             [
              0.7777777777777778,
              "#fb9f3a"
             ],
             [
              0.8888888888888888,
              "#fdca26"
             ],
             [
              1,
              "#f0f921"
             ]
            ],
            "type": "histogram2d"
           }
          ],
          "histogram2dcontour": [
           {
            "colorbar": {
             "outlinewidth": 0,
             "ticks": ""
            },
            "colorscale": [
             [
              0,
              "#0d0887"
             ],
             [
              0.1111111111111111,
              "#46039f"
             ],
             [
              0.2222222222222222,
              "#7201a8"
             ],
             [
              0.3333333333333333,
              "#9c179e"
             ],
             [
              0.4444444444444444,
              "#bd3786"
             ],
             [
              0.5555555555555556,
              "#d8576b"
             ],
             [
              0.6666666666666666,
              "#ed7953"
             ],
             [
              0.7777777777777778,
              "#fb9f3a"
             ],
             [
              0.8888888888888888,
              "#fdca26"
             ],
             [
              1,
              "#f0f921"
             ]
            ],
            "type": "histogram2dcontour"
           }
          ],
          "mesh3d": [
           {
            "colorbar": {
             "outlinewidth": 0,
             "ticks": ""
            },
            "type": "mesh3d"
           }
          ],
          "parcoords": [
           {
            "line": {
             "colorbar": {
              "outlinewidth": 0,
              "ticks": ""
             }
            },
            "type": "parcoords"
           }
          ],
          "pie": [
           {
            "automargin": true,
            "type": "pie"
           }
          ],
          "scatter": [
           {
            "fillpattern": {
             "fillmode": "overlay",
             "size": 10,
             "solidity": 0.2
            },
            "type": "scatter"
           }
          ],
          "scatter3d": [
           {
            "line": {
             "colorbar": {
              "outlinewidth": 0,
              "ticks": ""
             }
            },
            "marker": {
             "colorbar": {
              "outlinewidth": 0,
              "ticks": ""
             }
            },
            "type": "scatter3d"
           }
          ],
          "scattercarpet": [
           {
            "marker": {
             "colorbar": {
              "outlinewidth": 0,
              "ticks": ""
             }
            },
            "type": "scattercarpet"
           }
          ],
          "scattergeo": [
           {
            "marker": {
             "colorbar": {
              "outlinewidth": 0,
              "ticks": ""
             }
            },
            "type": "scattergeo"
           }
          ],
          "scattergl": [
           {
            "marker": {
             "colorbar": {
              "outlinewidth": 0,
              "ticks": ""
             }
            },
            "type": "scattergl"
           }
          ],
          "scattermapbox": [
           {
            "marker": {
             "colorbar": {
              "outlinewidth": 0,
              "ticks": ""
             }
            },
            "type": "scattermapbox"
           }
          ],
          "scatterpolar": [
           {
            "marker": {
             "colorbar": {
              "outlinewidth": 0,
              "ticks": ""
             }
            },
            "type": "scatterpolar"
           }
          ],
          "scatterpolargl": [
           {
            "marker": {
             "colorbar": {
              "outlinewidth": 0,
              "ticks": ""
             }
            },
            "type": "scatterpolargl"
           }
          ],
          "scatterternary": [
           {
            "marker": {
             "colorbar": {
              "outlinewidth": 0,
              "ticks": ""
             }
            },
            "type": "scatterternary"
           }
          ],
          "surface": [
           {
            "colorbar": {
             "outlinewidth": 0,
             "ticks": ""
            },
            "colorscale": [
             [
              0,
              "#0d0887"
             ],
             [
              0.1111111111111111,
              "#46039f"
             ],
             [
              0.2222222222222222,
              "#7201a8"
             ],
             [
              0.3333333333333333,
              "#9c179e"
             ],
             [
              0.4444444444444444,
              "#bd3786"
             ],
             [
              0.5555555555555556,
              "#d8576b"
             ],
             [
              0.6666666666666666,
              "#ed7953"
             ],
             [
              0.7777777777777778,
              "#fb9f3a"
             ],
             [
              0.8888888888888888,
              "#fdca26"
             ],
             [
              1,
              "#f0f921"
             ]
            ],
            "type": "surface"
           }
          ],
          "table": [
           {
            "cells": {
             "fill": {
              "color": "#EBF0F8"
             },
             "line": {
              "color": "white"
             }
            },
            "header": {
             "fill": {
              "color": "#C8D4E3"
             },
             "line": {
              "color": "white"
             }
            },
            "type": "table"
           }
          ]
         },
         "layout": {
          "annotationdefaults": {
           "arrowcolor": "#2a3f5f",
           "arrowhead": 0,
           "arrowwidth": 1
          },
          "autotypenumbers": "strict",
          "coloraxis": {
           "colorbar": {
            "outlinewidth": 0,
            "ticks": ""
           }
          },
          "colorscale": {
           "diverging": [
            [
             0,
             "#8e0152"
            ],
            [
             0.1,
             "#c51b7d"
            ],
            [
             0.2,
             "#de77ae"
            ],
            [
             0.3,
             "#f1b6da"
            ],
            [
             0.4,
             "#fde0ef"
            ],
            [
             0.5,
             "#f7f7f7"
            ],
            [
             0.6,
             "#e6f5d0"
            ],
            [
             0.7,
             "#b8e186"
            ],
            [
             0.8,
             "#7fbc41"
            ],
            [
             0.9,
             "#4d9221"
            ],
            [
             1,
             "#276419"
            ]
           ],
           "sequential": [
            [
             0,
             "#0d0887"
            ],
            [
             0.1111111111111111,
             "#46039f"
            ],
            [
             0.2222222222222222,
             "#7201a8"
            ],
            [
             0.3333333333333333,
             "#9c179e"
            ],
            [
             0.4444444444444444,
             "#bd3786"
            ],
            [
             0.5555555555555556,
             "#d8576b"
            ],
            [
             0.6666666666666666,
             "#ed7953"
            ],
            [
             0.7777777777777778,
             "#fb9f3a"
            ],
            [
             0.8888888888888888,
             "#fdca26"
            ],
            [
             1,
             "#f0f921"
            ]
           ],
           "sequentialminus": [
            [
             0,
             "#0d0887"
            ],
            [
             0.1111111111111111,
             "#46039f"
            ],
            [
             0.2222222222222222,
             "#7201a8"
            ],
            [
             0.3333333333333333,
             "#9c179e"
            ],
            [
             0.4444444444444444,
             "#bd3786"
            ],
            [
             0.5555555555555556,
             "#d8576b"
            ],
            [
             0.6666666666666666,
             "#ed7953"
            ],
            [
             0.7777777777777778,
             "#fb9f3a"
            ],
            [
             0.8888888888888888,
             "#fdca26"
            ],
            [
             1,
             "#f0f921"
            ]
           ]
          },
          "colorway": [
           "#636efa",
           "#EF553B",
           "#00cc96",
           "#ab63fa",
           "#FFA15A",
           "#19d3f3",
           "#FF6692",
           "#B6E880",
           "#FF97FF",
           "#FECB52"
          ],
          "font": {
           "color": "#2a3f5f"
          },
          "geo": {
           "bgcolor": "white",
           "lakecolor": "white",
           "landcolor": "#E5ECF6",
           "showlakes": true,
           "showland": true,
           "subunitcolor": "white"
          },
          "hoverlabel": {
           "align": "left"
          },
          "hovermode": "closest",
          "mapbox": {
           "style": "light"
          },
          "paper_bgcolor": "white",
          "plot_bgcolor": "#E5ECF6",
          "polar": {
           "angularaxis": {
            "gridcolor": "white",
            "linecolor": "white",
            "ticks": ""
           },
           "bgcolor": "#E5ECF6",
           "radialaxis": {
            "gridcolor": "white",
            "linecolor": "white",
            "ticks": ""
           }
          },
          "scene": {
           "xaxis": {
            "backgroundcolor": "#E5ECF6",
            "gridcolor": "white",
            "gridwidth": 2,
            "linecolor": "white",
            "showbackground": true,
            "ticks": "",
            "zerolinecolor": "white"
           },
           "yaxis": {
            "backgroundcolor": "#E5ECF6",
            "gridcolor": "white",
            "gridwidth": 2,
            "linecolor": "white",
            "showbackground": true,
            "ticks": "",
            "zerolinecolor": "white"
           },
           "zaxis": {
            "backgroundcolor": "#E5ECF6",
            "gridcolor": "white",
            "gridwidth": 2,
            "linecolor": "white",
            "showbackground": true,
            "ticks": "",
            "zerolinecolor": "white"
           }
          },
          "shapedefaults": {
           "line": {
            "color": "#2a3f5f"
           }
          },
          "ternary": {
           "aaxis": {
            "gridcolor": "white",
            "linecolor": "white",
            "ticks": ""
           },
           "baxis": {
            "gridcolor": "white",
            "linecolor": "white",
            "ticks": ""
           },
           "bgcolor": "#E5ECF6",
           "caxis": {
            "gridcolor": "white",
            "linecolor": "white",
            "ticks": ""
           }
          },
          "title": {
           "x": 0.05
          },
          "xaxis": {
           "automargin": true,
           "gridcolor": "white",
           "linecolor": "white",
           "ticks": "",
           "title": {
            "standoff": 15
           },
           "zerolinecolor": "white",
           "zerolinewidth": 2
          },
          "yaxis": {
           "automargin": true,
           "gridcolor": "white",
           "linecolor": "white",
           "ticks": "",
           "title": {
            "standoff": 15
           },
           "zerolinecolor": "white",
           "zerolinewidth": 2
          }
         }
        },
        "xaxis": {
         "anchor": "y",
         "domain": [
          0,
          1
         ],
         "title": {
          "text": "Stats"
         }
        },
        "yaxis": {
         "anchor": "x",
         "domain": [
          0,
          1
         ],
         "title": {
          "text": "Values"
         }
        }
       }
      }
     },
     "metadata": {},
     "output_type": "display_data"
    }
   ],
   "source": [
    "name='Lionel Messi'\n",
    "df_player=df[df['Name']=='Lionel Messi']\n",
    "df_2=df_player.select_dtypes(include=int).transpose().reset_index()\n",
    "\n",
    "df_2= df_2.rename(columns={df_2.columns[0]:'Stats',\n",
    "                           df_2.columns[1]:'Values'})\n",
    "df_2\n",
    "px.bar(df_2,x=df_2['Stats'],y=df_2['Values'],labels=[name])\n",
    "\n"
   ]
  },
  {
   "cell_type": "code",
   "execution_count": 74,
   "metadata": {},
   "outputs": [
    {
     "ename": "KeyError",
     "evalue": "\"None of ['Name'] are in the columns\"",
     "output_type": "error",
     "traceback": [
      "\u001b[0;31m---------------------------------------------------------------------------\u001b[0m",
      "\u001b[0;31mKeyError\u001b[0m                                  Traceback (most recent call last)",
      "\u001b[0;32m/tmp/ipykernel_15094/649970186.py\u001b[0m in \u001b[0;36m?\u001b[0;34m()\u001b[0m\n\u001b[0;32m----> 1\u001b[0;31m \u001b[0mdf_player\u001b[0m\u001b[0;34m.\u001b[0m\u001b[0mselect_dtypes\u001b[0m\u001b[0;34m(\u001b[0m\u001b[0minclude\u001b[0m\u001b[0;34m=\u001b[0m\u001b[0mint\u001b[0m\u001b[0;34m)\u001b[0m\u001b[0;34m.\u001b[0m\u001b[0mset_index\u001b[0m\u001b[0;34m(\u001b[0m\u001b[0mkeys\u001b[0m\u001b[0;34m=\u001b[0m\u001b[0;34m'Name'\u001b[0m\u001b[0;34m)\u001b[0m\u001b[0;34m\u001b[0m\u001b[0;34m\u001b[0m\u001b[0m\n\u001b[0m",
      "\u001b[0;32m~/Desktop/FC24_API/venv/lib/python3.10/site-packages/pandas/core/frame.py\u001b[0m in \u001b[0;36m?\u001b[0;34m(self, keys, drop, append, inplace, verify_integrity)\u001b[0m\n\u001b[1;32m   6118\u001b[0m                     \u001b[0;32mif\u001b[0m \u001b[0;32mnot\u001b[0m \u001b[0mfound\u001b[0m\u001b[0;34m:\u001b[0m\u001b[0;34m\u001b[0m\u001b[0;34m\u001b[0m\u001b[0m\n\u001b[1;32m   6119\u001b[0m                         \u001b[0mmissing\u001b[0m\u001b[0;34m.\u001b[0m\u001b[0mappend\u001b[0m\u001b[0;34m(\u001b[0m\u001b[0mcol\u001b[0m\u001b[0;34m)\u001b[0m\u001b[0;34m\u001b[0m\u001b[0;34m\u001b[0m\u001b[0m\n\u001b[1;32m   6120\u001b[0m \u001b[0;34m\u001b[0m\u001b[0m\n\u001b[1;32m   6121\u001b[0m         \u001b[0;32mif\u001b[0m \u001b[0mmissing\u001b[0m\u001b[0;34m:\u001b[0m\u001b[0;34m\u001b[0m\u001b[0;34m\u001b[0m\u001b[0m\n\u001b[0;32m-> 6122\u001b[0;31m             \u001b[0;32mraise\u001b[0m \u001b[0mKeyError\u001b[0m\u001b[0;34m(\u001b[0m\u001b[0;34mf\"None of {missing} are in the columns\"\u001b[0m\u001b[0;34m)\u001b[0m\u001b[0;34m\u001b[0m\u001b[0;34m\u001b[0m\u001b[0m\n\u001b[0m\u001b[1;32m   6123\u001b[0m \u001b[0;34m\u001b[0m\u001b[0m\n\u001b[1;32m   6124\u001b[0m         \u001b[0;32mif\u001b[0m \u001b[0minplace\u001b[0m\u001b[0;34m:\u001b[0m\u001b[0;34m\u001b[0m\u001b[0;34m\u001b[0m\u001b[0m\n\u001b[1;32m   6125\u001b[0m             \u001b[0mframe\u001b[0m \u001b[0;34m=\u001b[0m \u001b[0mself\u001b[0m\u001b[0;34m\u001b[0m\u001b[0;34m\u001b[0m\u001b[0m\n",
      "\u001b[0;31mKeyError\u001b[0m: \"None of ['Name'] are in the columns\""
     ]
    }
   ],
   "source": [
    "df_player.select_dtypes(include=int).set_index(keys='Name')"
   ]
  },
  {
   "cell_type": "code",
   "execution_count": 65,
   "metadata": {},
   "outputs": [
    {
     "data": {
      "text/html": [
       "<div>\n",
       "<style scoped>\n",
       "    .dataframe tbody tr th:only-of-type {\n",
       "        vertical-align: middle;\n",
       "    }\n",
       "\n",
       "    .dataframe tbody tr th {\n",
       "        vertical-align: top;\n",
       "    }\n",
       "\n",
       "    .dataframe thead th {\n",
       "        text-align: right;\n",
       "    }\n",
       "</style>\n",
       "<table border=\"1\" class=\"dataframe\">\n",
       "  <thead>\n",
       "    <tr style=\"text-align: right;\">\n",
       "      <th></th>\n",
       "      <th>nation</th>\n",
       "      <th>gold</th>\n",
       "      <th>silver</th>\n",
       "      <th>bronze</th>\n",
       "    </tr>\n",
       "  </thead>\n",
       "  <tbody>\n",
       "    <tr>\n",
       "      <th>0</th>\n",
       "      <td>South Korea</td>\n",
       "      <td>24</td>\n",
       "      <td>13</td>\n",
       "      <td>11</td>\n",
       "    </tr>\n",
       "    <tr>\n",
       "      <th>1</th>\n",
       "      <td>China</td>\n",
       "      <td>10</td>\n",
       "      <td>15</td>\n",
       "      <td>8</td>\n",
       "    </tr>\n",
       "    <tr>\n",
       "      <th>2</th>\n",
       "      <td>Canada</td>\n",
       "      <td>9</td>\n",
       "      <td>12</td>\n",
       "      <td>12</td>\n",
       "    </tr>\n",
       "  </tbody>\n",
       "</table>\n",
       "</div>"
      ],
      "text/plain": [
       "        nation  gold  silver  bronze\n",
       "0  South Korea    24      13      11\n",
       "1        China    10      15       8\n",
       "2       Canada     9      12      12"
      ]
     },
     "execution_count": 65,
     "metadata": {},
     "output_type": "execute_result"
    }
   ],
   "source": [
    "wide_df = px.data.medals_wide()\n",
    "wide_df"
   ]
  },
  {
   "cell_type": "code",
   "execution_count": 66,
   "metadata": {},
   "outputs": [
    {
     "data": {
      "application/vnd.plotly.v1+json": {
       "config": {
        "plotlyServerURL": "https://plot.ly"
       },
       "data": [
        {
         "alignmentgroup": "True",
         "hovertemplate": "variable=gold<br>value=%{x}<br>nation=%{y}<extra></extra>",
         "legendgroup": "gold",
         "marker": {
          "color": "#636efa",
          "pattern": {
           "shape": ""
          }
         },
         "name": "gold",
         "offsetgroup": "gold",
         "orientation": "h",
         "showlegend": true,
         "textposition": "auto",
         "type": "bar",
         "x": [
          24,
          10,
          9
         ],
         "xaxis": "x",
         "y": [
          "South Korea",
          "China",
          "Canada"
         ],
         "yaxis": "y"
        },
        {
         "alignmentgroup": "True",
         "hovertemplate": "variable=silver<br>value=%{x}<br>nation=%{y}<extra></extra>",
         "legendgroup": "silver",
         "marker": {
          "color": "#EF553B",
          "pattern": {
           "shape": ""
          }
         },
         "name": "silver",
         "offsetgroup": "silver",
         "orientation": "h",
         "showlegend": true,
         "textposition": "auto",
         "type": "bar",
         "x": [
          13,
          15,
          12
         ],
         "xaxis": "x",
         "y": [
          "South Korea",
          "China",
          "Canada"
         ],
         "yaxis": "y"
        },
        {
         "alignmentgroup": "True",
         "hovertemplate": "variable=bronze<br>value=%{x}<br>nation=%{y}<extra></extra>",
         "legendgroup": "bronze",
         "marker": {
          "color": "#00cc96",
          "pattern": {
           "shape": ""
          }
         },
         "name": "bronze",
         "offsetgroup": "bronze",
         "orientation": "h",
         "showlegend": true,
         "textposition": "auto",
         "type": "bar",
         "x": [
          11,
          8,
          12
         ],
         "xaxis": "x",
         "y": [
          "South Korea",
          "China",
          "Canada"
         ],
         "yaxis": "y"
        }
       ],
       "layout": {
        "barmode": "relative",
        "legend": {
         "title": {
          "text": "variable"
         },
         "tracegroupgap": 0
        },
        "template": {
         "data": {
          "bar": [
           {
            "error_x": {
             "color": "#2a3f5f"
            },
            "error_y": {
             "color": "#2a3f5f"
            },
            "marker": {
             "line": {
              "color": "#E5ECF6",
              "width": 0.5
             },
             "pattern": {
              "fillmode": "overlay",
              "size": 10,
              "solidity": 0.2
             }
            },
            "type": "bar"
           }
          ],
          "barpolar": [
           {
            "marker": {
             "line": {
              "color": "#E5ECF6",
              "width": 0.5
             },
             "pattern": {
              "fillmode": "overlay",
              "size": 10,
              "solidity": 0.2
             }
            },
            "type": "barpolar"
           }
          ],
          "carpet": [
           {
            "aaxis": {
             "endlinecolor": "#2a3f5f",
             "gridcolor": "white",
             "linecolor": "white",
             "minorgridcolor": "white",
             "startlinecolor": "#2a3f5f"
            },
            "baxis": {
             "endlinecolor": "#2a3f5f",
             "gridcolor": "white",
             "linecolor": "white",
             "minorgridcolor": "white",
             "startlinecolor": "#2a3f5f"
            },
            "type": "carpet"
           }
          ],
          "choropleth": [
           {
            "colorbar": {
             "outlinewidth": 0,
             "ticks": ""
            },
            "type": "choropleth"
           }
          ],
          "contour": [
           {
            "colorbar": {
             "outlinewidth": 0,
             "ticks": ""
            },
            "colorscale": [
             [
              0,
              "#0d0887"
             ],
             [
              0.1111111111111111,
              "#46039f"
             ],
             [
              0.2222222222222222,
              "#7201a8"
             ],
             [
              0.3333333333333333,
              "#9c179e"
             ],
             [
              0.4444444444444444,
              "#bd3786"
             ],
             [
              0.5555555555555556,
              "#d8576b"
             ],
             [
              0.6666666666666666,
              "#ed7953"
             ],
             [
              0.7777777777777778,
              "#fb9f3a"
             ],
             [
              0.8888888888888888,
              "#fdca26"
             ],
             [
              1,
              "#f0f921"
             ]
            ],
            "type": "contour"
           }
          ],
          "contourcarpet": [
           {
            "colorbar": {
             "outlinewidth": 0,
             "ticks": ""
            },
            "type": "contourcarpet"
           }
          ],
          "heatmap": [
           {
            "colorbar": {
             "outlinewidth": 0,
             "ticks": ""
            },
            "colorscale": [
             [
              0,
              "#0d0887"
             ],
             [
              0.1111111111111111,
              "#46039f"
             ],
             [
              0.2222222222222222,
              "#7201a8"
             ],
             [
              0.3333333333333333,
              "#9c179e"
             ],
             [
              0.4444444444444444,
              "#bd3786"
             ],
             [
              0.5555555555555556,
              "#d8576b"
             ],
             [
              0.6666666666666666,
              "#ed7953"
             ],
             [
              0.7777777777777778,
              "#fb9f3a"
             ],
             [
              0.8888888888888888,
              "#fdca26"
             ],
             [
              1,
              "#f0f921"
             ]
            ],
            "type": "heatmap"
           }
          ],
          "heatmapgl": [
           {
            "colorbar": {
             "outlinewidth": 0,
             "ticks": ""
            },
            "colorscale": [
             [
              0,
              "#0d0887"
             ],
             [
              0.1111111111111111,
              "#46039f"
             ],
             [
              0.2222222222222222,
              "#7201a8"
             ],
             [
              0.3333333333333333,
              "#9c179e"
             ],
             [
              0.4444444444444444,
              "#bd3786"
             ],
             [
              0.5555555555555556,
              "#d8576b"
             ],
             [
              0.6666666666666666,
              "#ed7953"
             ],
             [
              0.7777777777777778,
              "#fb9f3a"
             ],
             [
              0.8888888888888888,
              "#fdca26"
             ],
             [
              1,
              "#f0f921"
             ]
            ],
            "type": "heatmapgl"
           }
          ],
          "histogram": [
           {
            "marker": {
             "pattern": {
              "fillmode": "overlay",
              "size": 10,
              "solidity": 0.2
             }
            },
            "type": "histogram"
           }
          ],
          "histogram2d": [
           {
            "colorbar": {
             "outlinewidth": 0,
             "ticks": ""
            },
            "colorscale": [
             [
              0,
              "#0d0887"
             ],
             [
              0.1111111111111111,
              "#46039f"
             ],
             [
              0.2222222222222222,
              "#7201a8"
             ],
             [
              0.3333333333333333,
              "#9c179e"
             ],
             [
              0.4444444444444444,
              "#bd3786"
             ],
             [
              0.5555555555555556,
              "#d8576b"
             ],
             [
              0.6666666666666666,
              "#ed7953"
             ],
             [
              0.7777777777777778,
              "#fb9f3a"
             ],
             [
              0.8888888888888888,
              "#fdca26"
             ],
             [
              1,
              "#f0f921"
             ]
            ],
            "type": "histogram2d"
           }
          ],
          "histogram2dcontour": [
           {
            "colorbar": {
             "outlinewidth": 0,
             "ticks": ""
            },
            "colorscale": [
             [
              0,
              "#0d0887"
             ],
             [
              0.1111111111111111,
              "#46039f"
             ],
             [
              0.2222222222222222,
              "#7201a8"
             ],
             [
              0.3333333333333333,
              "#9c179e"
             ],
             [
              0.4444444444444444,
              "#bd3786"
             ],
             [
              0.5555555555555556,
              "#d8576b"
             ],
             [
              0.6666666666666666,
              "#ed7953"
             ],
             [
              0.7777777777777778,
              "#fb9f3a"
             ],
             [
              0.8888888888888888,
              "#fdca26"
             ],
             [
              1,
              "#f0f921"
             ]
            ],
            "type": "histogram2dcontour"
           }
          ],
          "mesh3d": [
           {
            "colorbar": {
             "outlinewidth": 0,
             "ticks": ""
            },
            "type": "mesh3d"
           }
          ],
          "parcoords": [
           {
            "line": {
             "colorbar": {
              "outlinewidth": 0,
              "ticks": ""
             }
            },
            "type": "parcoords"
           }
          ],
          "pie": [
           {
            "automargin": true,
            "type": "pie"
           }
          ],
          "scatter": [
           {
            "fillpattern": {
             "fillmode": "overlay",
             "size": 10,
             "solidity": 0.2
            },
            "type": "scatter"
           }
          ],
          "scatter3d": [
           {
            "line": {
             "colorbar": {
              "outlinewidth": 0,
              "ticks": ""
             }
            },
            "marker": {
             "colorbar": {
              "outlinewidth": 0,
              "ticks": ""
             }
            },
            "type": "scatter3d"
           }
          ],
          "scattercarpet": [
           {
            "marker": {
             "colorbar": {
              "outlinewidth": 0,
              "ticks": ""
             }
            },
            "type": "scattercarpet"
           }
          ],
          "scattergeo": [
           {
            "marker": {
             "colorbar": {
              "outlinewidth": 0,
              "ticks": ""
             }
            },
            "type": "scattergeo"
           }
          ],
          "scattergl": [
           {
            "marker": {
             "colorbar": {
              "outlinewidth": 0,
              "ticks": ""
             }
            },
            "type": "scattergl"
           }
          ],
          "scattermapbox": [
           {
            "marker": {
             "colorbar": {
              "outlinewidth": 0,
              "ticks": ""
             }
            },
            "type": "scattermapbox"
           }
          ],
          "scatterpolar": [
           {
            "marker": {
             "colorbar": {
              "outlinewidth": 0,
              "ticks": ""
             }
            },
            "type": "scatterpolar"
           }
          ],
          "scatterpolargl": [
           {
            "marker": {
             "colorbar": {
              "outlinewidth": 0,
              "ticks": ""
             }
            },
            "type": "scatterpolargl"
           }
          ],
          "scatterternary": [
           {
            "marker": {
             "colorbar": {
              "outlinewidth": 0,
              "ticks": ""
             }
            },
            "type": "scatterternary"
           }
          ],
          "surface": [
           {
            "colorbar": {
             "outlinewidth": 0,
             "ticks": ""
            },
            "colorscale": [
             [
              0,
              "#0d0887"
             ],
             [
              0.1111111111111111,
              "#46039f"
             ],
             [
              0.2222222222222222,
              "#7201a8"
             ],
             [
              0.3333333333333333,
              "#9c179e"
             ],
             [
              0.4444444444444444,
              "#bd3786"
             ],
             [
              0.5555555555555556,
              "#d8576b"
             ],
             [
              0.6666666666666666,
              "#ed7953"
             ],
             [
              0.7777777777777778,
              "#fb9f3a"
             ],
             [
              0.8888888888888888,
              "#fdca26"
             ],
             [
              1,
              "#f0f921"
             ]
            ],
            "type": "surface"
           }
          ],
          "table": [
           {
            "cells": {
             "fill": {
              "color": "#EBF0F8"
             },
             "line": {
              "color": "white"
             }
            },
            "header": {
             "fill": {
              "color": "#C8D4E3"
             },
             "line": {
              "color": "white"
             }
            },
            "type": "table"
           }
          ]
         },
         "layout": {
          "annotationdefaults": {
           "arrowcolor": "#2a3f5f",
           "arrowhead": 0,
           "arrowwidth": 1
          },
          "autotypenumbers": "strict",
          "coloraxis": {
           "colorbar": {
            "outlinewidth": 0,
            "ticks": ""
           }
          },
          "colorscale": {
           "diverging": [
            [
             0,
             "#8e0152"
            ],
            [
             0.1,
             "#c51b7d"
            ],
            [
             0.2,
             "#de77ae"
            ],
            [
             0.3,
             "#f1b6da"
            ],
            [
             0.4,
             "#fde0ef"
            ],
            [
             0.5,
             "#f7f7f7"
            ],
            [
             0.6,
             "#e6f5d0"
            ],
            [
             0.7,
             "#b8e186"
            ],
            [
             0.8,
             "#7fbc41"
            ],
            [
             0.9,
             "#4d9221"
            ],
            [
             1,
             "#276419"
            ]
           ],
           "sequential": [
            [
             0,
             "#0d0887"
            ],
            [
             0.1111111111111111,
             "#46039f"
            ],
            [
             0.2222222222222222,
             "#7201a8"
            ],
            [
             0.3333333333333333,
             "#9c179e"
            ],
            [
             0.4444444444444444,
             "#bd3786"
            ],
            [
             0.5555555555555556,
             "#d8576b"
            ],
            [
             0.6666666666666666,
             "#ed7953"
            ],
            [
             0.7777777777777778,
             "#fb9f3a"
            ],
            [
             0.8888888888888888,
             "#fdca26"
            ],
            [
             1,
             "#f0f921"
            ]
           ],
           "sequentialminus": [
            [
             0,
             "#0d0887"
            ],
            [
             0.1111111111111111,
             "#46039f"
            ],
            [
             0.2222222222222222,
             "#7201a8"
            ],
            [
             0.3333333333333333,
             "#9c179e"
            ],
            [
             0.4444444444444444,
             "#bd3786"
            ],
            [
             0.5555555555555556,
             "#d8576b"
            ],
            [
             0.6666666666666666,
             "#ed7953"
            ],
            [
             0.7777777777777778,
             "#fb9f3a"
            ],
            [
             0.8888888888888888,
             "#fdca26"
            ],
            [
             1,
             "#f0f921"
            ]
           ]
          },
          "colorway": [
           "#636efa",
           "#EF553B",
           "#00cc96",
           "#ab63fa",
           "#FFA15A",
           "#19d3f3",
           "#FF6692",
           "#B6E880",
           "#FF97FF",
           "#FECB52"
          ],
          "font": {
           "color": "#2a3f5f"
          },
          "geo": {
           "bgcolor": "white",
           "lakecolor": "white",
           "landcolor": "#E5ECF6",
           "showlakes": true,
           "showland": true,
           "subunitcolor": "white"
          },
          "hoverlabel": {
           "align": "left"
          },
          "hovermode": "closest",
          "mapbox": {
           "style": "light"
          },
          "paper_bgcolor": "white",
          "plot_bgcolor": "#E5ECF6",
          "polar": {
           "angularaxis": {
            "gridcolor": "white",
            "linecolor": "white",
            "ticks": ""
           },
           "bgcolor": "#E5ECF6",
           "radialaxis": {
            "gridcolor": "white",
            "linecolor": "white",
            "ticks": ""
           }
          },
          "scene": {
           "xaxis": {
            "backgroundcolor": "#E5ECF6",
            "gridcolor": "white",
            "gridwidth": 2,
            "linecolor": "white",
            "showbackground": true,
            "ticks": "",
            "zerolinecolor": "white"
           },
           "yaxis": {
            "backgroundcolor": "#E5ECF6",
            "gridcolor": "white",
            "gridwidth": 2,
            "linecolor": "white",
            "showbackground": true,
            "ticks": "",
            "zerolinecolor": "white"
           },
           "zaxis": {
            "backgroundcolor": "#E5ECF6",
            "gridcolor": "white",
            "gridwidth": 2,
            "linecolor": "white",
            "showbackground": true,
            "ticks": "",
            "zerolinecolor": "white"
           }
          },
          "shapedefaults": {
           "line": {
            "color": "#2a3f5f"
           }
          },
          "ternary": {
           "aaxis": {
            "gridcolor": "white",
            "linecolor": "white",
            "ticks": ""
           },
           "baxis": {
            "gridcolor": "white",
            "linecolor": "white",
            "ticks": ""
           },
           "bgcolor": "#E5ECF6",
           "caxis": {
            "gridcolor": "white",
            "linecolor": "white",
            "ticks": ""
           }
          },
          "title": {
           "x": 0.05
          },
          "xaxis": {
           "automargin": true,
           "gridcolor": "white",
           "linecolor": "white",
           "ticks": "",
           "title": {
            "standoff": 15
           },
           "zerolinecolor": "white",
           "zerolinewidth": 2
          },
          "yaxis": {
           "automargin": true,
           "gridcolor": "white",
           "linecolor": "white",
           "ticks": "",
           "title": {
            "standoff": 15
           },
           "zerolinecolor": "white",
           "zerolinewidth": 2
          }
         }
        },
        "title": {
         "text": "Wide-Form Input"
        },
        "xaxis": {
         "anchor": "y",
         "domain": [
          0,
          1
         ],
         "title": {
          "text": "value"
         }
        },
        "yaxis": {
         "anchor": "x",
         "domain": [
          0,
          1
         ],
         "title": {
          "text": "nation"
         }
        }
       }
      }
     },
     "metadata": {},
     "output_type": "display_data"
    }
   ],
   "source": [
    "fig = px.bar(wide_df, y=\"nation\", x=[\"gold\", \"silver\", \"bronze\"], title=\"Wide-Form Input\",\n",
    "fig.show()"
   ]
  },
  {
   "cell_type": "code",
   "execution_count": 46,
   "metadata": {},
   "outputs": [
    {
     "data": {
      "text/plain": [
       "array([[36, 90, 80, 87, 90, 96, 33, 64, 87, 74, 91, 89, 91, 90, 86, 75,\n",
       "        92, 83, 93, 93, 91, 95, 88, 93, 96, 40, 60, 20, 35, 24, 71, 70,\n",
       "        68, 44,  4,  4]])"
      ]
     },
     "execution_count": 46,
     "metadata": {},
     "output_type": "execute_result"
    }
   ],
   "source": [
    "df_player_int.values"
   ]
  },
  {
   "cell_type": "markdown",
   "metadata": {},
   "source": [
    "# Radar Graph for palyer comparsion\n"
   ]
  },
  {
   "cell_type": "code",
   "execution_count": null,
   "metadata": {},
   "outputs": [],
   "source": [
    "radar_column= df.\n",
    "#fig= px.bar_polar(df, color= df.Name,theta=stats)"
   ]
  },
  {
   "cell_type": "code",
   "execution_count": 20,
   "metadata": {},
   "outputs": [
    {
     "ename": "ValueError",
     "evalue": "Data must be 1-dimensional, got ndarray of shape (1, 36) instead",
     "output_type": "error",
     "traceback": [
      "\u001b[0;31m---------------------------------------------------------------------------\u001b[0m",
      "\u001b[0;31mValueError\u001b[0m                                Traceback (most recent call last)",
      "Cell \u001b[0;32mIn[20], line 4\u001b[0m\n\u001b[1;32m      1\u001b[0m \u001b[38;5;66;03m#player=input('Player?')\u001b[39;00m\n\u001b[1;32m      2\u001b[0m players_selected\u001b[38;5;241m=\u001b[39m df[df[\u001b[38;5;124m'\u001b[39m\u001b[38;5;124mName\u001b[39m\u001b[38;5;124m'\u001b[39m]\u001b[38;5;241m==\u001b[39m\u001b[38;5;124m'\u001b[39m\u001b[38;5;124mKylian Mbappé\u001b[39m\u001b[38;5;124m'\u001b[39m]\n\u001b[0;32m----> 4\u001b[0m fig\u001b[38;5;241m=\u001b[39m\u001b[43mpx\u001b[49m\u001b[38;5;241;43m.\u001b[39;49m\u001b[43mbar_polar\u001b[49m\u001b[43m(\u001b[49m\u001b[43mplayers_selected\u001b[49m\u001b[43m,\u001b[49m\u001b[43mr\u001b[49m\u001b[38;5;241;43m=\u001b[39;49m\u001b[43mplayers_selected\u001b[49m\u001b[38;5;241;43m.\u001b[39;49m\u001b[43mselect_dtypes\u001b[49m\u001b[43m(\u001b[49m\u001b[43minclude\u001b[49m\u001b[38;5;241;43m=\u001b[39;49m\u001b[38;5;28;43mint\u001b[39;49m\u001b[43m)\u001b[49m\u001b[43m,\u001b[49m\u001b[43mtheta\u001b[49m\u001b[38;5;241;43m=\u001b[39;49m\u001b[43mplayers_selected\u001b[49m\u001b[38;5;241;43m.\u001b[39;49m\u001b[43mselect_dtypes\u001b[49m\u001b[43m(\u001b[49m\u001b[43minclude\u001b[49m\u001b[38;5;241;43m=\u001b[39;49m\u001b[38;5;28;43mint\u001b[39;49m\u001b[43m)\u001b[49m\u001b[43m,\u001b[49m\u001b[43mcolor\u001b[49m\u001b[38;5;241;43m=\u001b[39;49m\u001b[43mplayers_selected\u001b[49m\u001b[38;5;241;43m.\u001b[39;49m\u001b[43mName\u001b[49m\u001b[43m)\u001b[49m\n\u001b[1;32m      5\u001b[0m fig\u001b[38;5;241m.\u001b[39mshow()\n",
      "File \u001b[0;32m~/Desktop/FC24_API/venv/lib/python3.10/site-packages/plotly/express/_chart_types.py:1041\u001b[0m, in \u001b[0;36mbar_polar\u001b[0;34m(data_frame, r, theta, color, pattern_shape, hover_name, hover_data, custom_data, base, animation_frame, animation_group, category_orders, labels, color_discrete_sequence, color_discrete_map, color_continuous_scale, pattern_shape_sequence, pattern_shape_map, range_color, color_continuous_midpoint, barnorm, barmode, direction, start_angle, range_r, range_theta, log_r, title, template, width, height)\u001b[0m\n\u001b[1;32m   1004\u001b[0m \u001b[38;5;28;01mdef\u001b[39;00m \u001b[38;5;21mbar_polar\u001b[39m(\n\u001b[1;32m   1005\u001b[0m     data_frame\u001b[38;5;241m=\u001b[39m\u001b[38;5;28;01mNone\u001b[39;00m,\n\u001b[1;32m   1006\u001b[0m     r\u001b[38;5;241m=\u001b[39m\u001b[38;5;28;01mNone\u001b[39;00m,\n\u001b[0;32m   (...)\u001b[0m\n\u001b[1;32m   1035\u001b[0m     height\u001b[38;5;241m=\u001b[39m\u001b[38;5;28;01mNone\u001b[39;00m,\n\u001b[1;32m   1036\u001b[0m ) \u001b[38;5;241m-\u001b[39m\u001b[38;5;241m>\u001b[39m go\u001b[38;5;241m.\u001b[39mFigure:\n\u001b[1;32m   1037\u001b[0m \u001b[38;5;250m    \u001b[39m\u001b[38;5;124;03m\"\"\"\u001b[39;00m\n\u001b[1;32m   1038\u001b[0m \u001b[38;5;124;03m    In a polar bar plot, each row of `data_frame` is represented as a wedge\u001b[39;00m\n\u001b[1;32m   1039\u001b[0m \u001b[38;5;124;03m    mark in polar coordinates.\u001b[39;00m\n\u001b[1;32m   1040\u001b[0m \u001b[38;5;124;03m    \"\"\"\u001b[39;00m\n\u001b[0;32m-> 1041\u001b[0m     \u001b[38;5;28;01mreturn\u001b[39;00m \u001b[43mmake_figure\u001b[49m\u001b[43m(\u001b[49m\n\u001b[1;32m   1042\u001b[0m \u001b[43m        \u001b[49m\u001b[43margs\u001b[49m\u001b[38;5;241;43m=\u001b[39;49m\u001b[38;5;28;43mlocals\u001b[39;49m\u001b[43m(\u001b[49m\u001b[43m)\u001b[49m\u001b[43m,\u001b[49m\n\u001b[1;32m   1043\u001b[0m \u001b[43m        \u001b[49m\u001b[43mconstructor\u001b[49m\u001b[38;5;241;43m=\u001b[39;49m\u001b[43mgo\u001b[49m\u001b[38;5;241;43m.\u001b[39;49m\u001b[43mBarpolar\u001b[49m\u001b[43m,\u001b[49m\n\u001b[1;32m   1044\u001b[0m \u001b[43m        \u001b[49m\u001b[43mlayout_patch\u001b[49m\u001b[38;5;241;43m=\u001b[39;49m\u001b[38;5;28;43mdict\u001b[39;49m\u001b[43m(\u001b[49m\u001b[43mbarnorm\u001b[49m\u001b[38;5;241;43m=\u001b[39;49m\u001b[43mbarnorm\u001b[49m\u001b[43m,\u001b[49m\u001b[43m \u001b[49m\u001b[43mbarmode\u001b[49m\u001b[38;5;241;43m=\u001b[39;49m\u001b[43mbarmode\u001b[49m\u001b[43m)\u001b[49m\u001b[43m,\u001b[49m\n\u001b[1;32m   1045\u001b[0m \u001b[43m    \u001b[49m\u001b[43m)\u001b[49m\n",
      "File \u001b[0;32m~/Desktop/FC24_API/venv/lib/python3.10/site-packages/plotly/express/_core.py:2090\u001b[0m, in \u001b[0;36mmake_figure\u001b[0;34m(args, constructor, trace_patch, layout_patch)\u001b[0m\n\u001b[1;32m   2087\u001b[0m layout_patch \u001b[38;5;241m=\u001b[39m layout_patch \u001b[38;5;129;01mor\u001b[39;00m {}\n\u001b[1;32m   2088\u001b[0m apply_default_cascade(args)\n\u001b[0;32m-> 2090\u001b[0m args \u001b[38;5;241m=\u001b[39m \u001b[43mbuild_dataframe\u001b[49m\u001b[43m(\u001b[49m\u001b[43margs\u001b[49m\u001b[43m,\u001b[49m\u001b[43m \u001b[49m\u001b[43mconstructor\u001b[49m\u001b[43m)\u001b[49m\n\u001b[1;32m   2091\u001b[0m \u001b[38;5;28;01mif\u001b[39;00m constructor \u001b[38;5;129;01min\u001b[39;00m [go\u001b[38;5;241m.\u001b[39mTreemap, go\u001b[38;5;241m.\u001b[39mSunburst, go\u001b[38;5;241m.\u001b[39mIcicle] \u001b[38;5;129;01mand\u001b[39;00m args[\u001b[38;5;124m\"\u001b[39m\u001b[38;5;124mpath\u001b[39m\u001b[38;5;124m\"\u001b[39m] \u001b[38;5;129;01mis\u001b[39;00m \u001b[38;5;129;01mnot\u001b[39;00m \u001b[38;5;28;01mNone\u001b[39;00m:\n\u001b[1;32m   2092\u001b[0m     args \u001b[38;5;241m=\u001b[39m process_dataframe_hierarchy(args)\n",
      "File \u001b[0;32m~/Desktop/FC24_API/venv/lib/python3.10/site-packages/plotly/express/_core.py:1492\u001b[0m, in \u001b[0;36mbuild_dataframe\u001b[0;34m(args, constructor)\u001b[0m\n\u001b[1;32m   1489\u001b[0m     args[\u001b[38;5;124m\"\u001b[39m\u001b[38;5;124mcolor\u001b[39m\u001b[38;5;124m\"\u001b[39m] \u001b[38;5;241m=\u001b[39m \u001b[38;5;28;01mNone\u001b[39;00m\n\u001b[1;32m   1490\u001b[0m \u001b[38;5;66;03m# now that things have been prepped, we do the systematic rewriting of `args`\u001b[39;00m\n\u001b[0;32m-> 1492\u001b[0m df_output, wide_id_vars \u001b[38;5;241m=\u001b[39m \u001b[43mprocess_args_into_dataframe\u001b[49m\u001b[43m(\u001b[49m\n\u001b[1;32m   1493\u001b[0m \u001b[43m    \u001b[49m\u001b[43margs\u001b[49m\u001b[43m,\u001b[49m\u001b[43m \u001b[49m\u001b[43mwide_mode\u001b[49m\u001b[43m,\u001b[49m\u001b[43m \u001b[49m\u001b[43mvar_name\u001b[49m\u001b[43m,\u001b[49m\u001b[43m \u001b[49m\u001b[43mvalue_name\u001b[49m\n\u001b[1;32m   1494\u001b[0m \u001b[43m\u001b[49m\u001b[43m)\u001b[49m\n\u001b[1;32m   1496\u001b[0m \u001b[38;5;66;03m# now that `df_output` exists and `args` contains only references, we complete\u001b[39;00m\n\u001b[1;32m   1497\u001b[0m \u001b[38;5;66;03m# the special-case and wide-mode handling by further rewriting args and/or mutating\u001b[39;00m\n\u001b[1;32m   1498\u001b[0m \u001b[38;5;66;03m# df_output\u001b[39;00m\n\u001b[1;32m   1500\u001b[0m count_name \u001b[38;5;241m=\u001b[39m _escape_col_name(df_output, \u001b[38;5;124m\"\u001b[39m\u001b[38;5;124mcount\u001b[39m\u001b[38;5;124m\"\u001b[39m, [var_name, value_name])\n",
      "File \u001b[0;32m~/Desktop/FC24_API/venv/lib/python3.10/site-packages/plotly/express/_core.py:1259\u001b[0m, in \u001b[0;36mprocess_args_into_dataframe\u001b[0;34m(args, wide_mode, var_name, value_name)\u001b[0m\n\u001b[1;32m   1252\u001b[0m     \u001b[38;5;28;01mif\u001b[39;00m length \u001b[38;5;129;01mand\u001b[39;00m \u001b[38;5;28mlen\u001b[39m(argument) \u001b[38;5;241m!=\u001b[39m length:\n\u001b[1;32m   1253\u001b[0m         \u001b[38;5;28;01mraise\u001b[39;00m \u001b[38;5;167;01mValueError\u001b[39;00m(\n\u001b[1;32m   1254\u001b[0m             \u001b[38;5;124m\"\u001b[39m\u001b[38;5;124mAll arguments should have the same length. \u001b[39m\u001b[38;5;124m\"\u001b[39m\n\u001b[1;32m   1255\u001b[0m             \u001b[38;5;124m\"\u001b[39m\u001b[38;5;124mThe length of argument `\u001b[39m\u001b[38;5;132;01m%s\u001b[39;00m\u001b[38;5;124m` is \u001b[39m\u001b[38;5;132;01m%d\u001b[39;00m\u001b[38;5;124m, whereas the \u001b[39m\u001b[38;5;124m\"\u001b[39m\n\u001b[1;32m   1256\u001b[0m             \u001b[38;5;124m\"\u001b[39m\u001b[38;5;124mlength of  previously-processed arguments \u001b[39m\u001b[38;5;132;01m%s\u001b[39;00m\u001b[38;5;124m is \u001b[39m\u001b[38;5;132;01m%d\u001b[39;00m\u001b[38;5;124m\"\u001b[39m\n\u001b[1;32m   1257\u001b[0m             \u001b[38;5;241m%\u001b[39m (field, \u001b[38;5;28mlen\u001b[39m(argument), \u001b[38;5;28mstr\u001b[39m(\u001b[38;5;28mlist\u001b[39m(df_output\u001b[38;5;241m.\u001b[39mkeys())), length)\n\u001b[1;32m   1258\u001b[0m         )\n\u001b[0;32m-> 1259\u001b[0m     df_output[\u001b[38;5;28mstr\u001b[39m(col_name)] \u001b[38;5;241m=\u001b[39m \u001b[43mto_unindexed_series\u001b[49m\u001b[43m(\u001b[49m\u001b[43margument\u001b[49m\u001b[43m,\u001b[49m\u001b[43m \u001b[49m\u001b[38;5;28;43mstr\u001b[39;49m\u001b[43m(\u001b[49m\u001b[43mcol_name\u001b[49m\u001b[43m)\u001b[49m\u001b[43m)\u001b[49m\n\u001b[1;32m   1261\u001b[0m \u001b[38;5;66;03m# Finally, update argument with column name now that column exists\u001b[39;00m\n\u001b[1;32m   1262\u001b[0m \u001b[38;5;28;01massert\u001b[39;00m col_name \u001b[38;5;129;01mis\u001b[39;00m \u001b[38;5;129;01mnot\u001b[39;00m \u001b[38;5;28;01mNone\u001b[39;00m, (\n\u001b[1;32m   1263\u001b[0m     \u001b[38;5;124m\"\u001b[39m\u001b[38;5;124mData-frame processing failure, likely due to a internal bug. \u001b[39m\u001b[38;5;124m\"\u001b[39m\n\u001b[1;32m   1264\u001b[0m     \u001b[38;5;124m\"\u001b[39m\u001b[38;5;124mPlease report this to \u001b[39m\u001b[38;5;124m\"\u001b[39m\n\u001b[1;32m   1265\u001b[0m     \u001b[38;5;124m\"\u001b[39m\u001b[38;5;124mhttps://github.com/plotly/plotly.py/issues/new and we will try to \u001b[39m\u001b[38;5;124m\"\u001b[39m\n\u001b[1;32m   1266\u001b[0m     \u001b[38;5;124m\"\u001b[39m\u001b[38;5;124mreplicate and fix it.\u001b[39m\u001b[38;5;124m\"\u001b[39m\n\u001b[1;32m   1267\u001b[0m )\n",
      "File \u001b[0;32m~/Desktop/FC24_API/venv/lib/python3.10/site-packages/plotly/express/_core.py:1076\u001b[0m, in \u001b[0;36mto_unindexed_series\u001b[0;34m(x, name)\u001b[0m\n\u001b[1;32m   1069\u001b[0m \u001b[38;5;28;01mdef\u001b[39;00m \u001b[38;5;21mto_unindexed_series\u001b[39m(x, name\u001b[38;5;241m=\u001b[39m\u001b[38;5;28;01mNone\u001b[39;00m):\n\u001b[1;32m   1070\u001b[0m \u001b[38;5;250m    \u001b[39m\u001b[38;5;124;03m\"\"\"\u001b[39;00m\n\u001b[1;32m   1071\u001b[0m \u001b[38;5;124;03m    assuming x is list-like or even an existing pd.Series, return a new pd.Series with\u001b[39;00m\n\u001b[1;32m   1072\u001b[0m \u001b[38;5;124;03m    no index, without extracting the data from an existing Series via numpy, which\u001b[39;00m\n\u001b[1;32m   1073\u001b[0m \u001b[38;5;124;03m    seems to mangle datetime columns. Stripping the index from existing pd.Series is\u001b[39;00m\n\u001b[1;32m   1074\u001b[0m \u001b[38;5;124;03m    required to get things to match up right in the new DataFrame we're building\u001b[39;00m\n\u001b[1;32m   1075\u001b[0m \u001b[38;5;124;03m    \"\"\"\u001b[39;00m\n\u001b[0;32m-> 1076\u001b[0m     \u001b[38;5;28;01mreturn\u001b[39;00m \u001b[43mpd\u001b[49m\u001b[38;5;241;43m.\u001b[39;49m\u001b[43mSeries\u001b[49m\u001b[43m(\u001b[49m\u001b[43mx\u001b[49m\u001b[43m,\u001b[49m\u001b[43m \u001b[49m\u001b[43mname\u001b[49m\u001b[38;5;241;43m=\u001b[39;49m\u001b[43mname\u001b[49m\u001b[43m)\u001b[49m\u001b[38;5;241m.\u001b[39mreset_index(drop\u001b[38;5;241m=\u001b[39m\u001b[38;5;28;01mTrue\u001b[39;00m)\n",
      "File \u001b[0;32m~/Desktop/FC24_API/venv/lib/python3.10/site-packages/pandas/core/series.py:584\u001b[0m, in \u001b[0;36mSeries.__init__\u001b[0;34m(self, data, index, dtype, name, copy, fastpath)\u001b[0m\n\u001b[1;32m    582\u001b[0m         data \u001b[38;5;241m=\u001b[39m data\u001b[38;5;241m.\u001b[39mcopy()\n\u001b[1;32m    583\u001b[0m \u001b[38;5;28;01melse\u001b[39;00m:\n\u001b[0;32m--> 584\u001b[0m     data \u001b[38;5;241m=\u001b[39m \u001b[43msanitize_array\u001b[49m\u001b[43m(\u001b[49m\u001b[43mdata\u001b[49m\u001b[43m,\u001b[49m\u001b[43m \u001b[49m\u001b[43mindex\u001b[49m\u001b[43m,\u001b[49m\u001b[43m \u001b[49m\u001b[43mdtype\u001b[49m\u001b[43m,\u001b[49m\u001b[43m \u001b[49m\u001b[43mcopy\u001b[49m\u001b[43m)\u001b[49m\n\u001b[1;32m    586\u001b[0m     manager \u001b[38;5;241m=\u001b[39m _get_option(\u001b[38;5;124m\"\u001b[39m\u001b[38;5;124mmode.data_manager\u001b[39m\u001b[38;5;124m\"\u001b[39m, silent\u001b[38;5;241m=\u001b[39m\u001b[38;5;28;01mTrue\u001b[39;00m)\n\u001b[1;32m    587\u001b[0m     \u001b[38;5;28;01mif\u001b[39;00m manager \u001b[38;5;241m==\u001b[39m \u001b[38;5;124m\"\u001b[39m\u001b[38;5;124mblock\u001b[39m\u001b[38;5;124m\"\u001b[39m:\n",
      "File \u001b[0;32m~/Desktop/FC24_API/venv/lib/python3.10/site-packages/pandas/core/construction.py:633\u001b[0m, in \u001b[0;36msanitize_array\u001b[0;34m(data, index, dtype, copy, allow_2d)\u001b[0m\n\u001b[1;32m    631\u001b[0m     \u001b[38;5;28;01melse\u001b[39;00m:\n\u001b[1;32m    632\u001b[0m         data \u001b[38;5;241m=\u001b[39m np\u001b[38;5;241m.\u001b[39marray(data, copy\u001b[38;5;241m=\u001b[39mcopy)\n\u001b[0;32m--> 633\u001b[0m     \u001b[38;5;28;01mreturn\u001b[39;00m \u001b[43msanitize_array\u001b[49m\u001b[43m(\u001b[49m\n\u001b[1;32m    634\u001b[0m \u001b[43m        \u001b[49m\u001b[43mdata\u001b[49m\u001b[43m,\u001b[49m\n\u001b[1;32m    635\u001b[0m \u001b[43m        \u001b[49m\u001b[43mindex\u001b[49m\u001b[38;5;241;43m=\u001b[39;49m\u001b[43mindex\u001b[49m\u001b[43m,\u001b[49m\n\u001b[1;32m    636\u001b[0m \u001b[43m        \u001b[49m\u001b[43mdtype\u001b[49m\u001b[38;5;241;43m=\u001b[39;49m\u001b[43mdtype\u001b[49m\u001b[43m,\u001b[49m\n\u001b[1;32m    637\u001b[0m \u001b[43m        \u001b[49m\u001b[43mcopy\u001b[49m\u001b[38;5;241;43m=\u001b[39;49m\u001b[38;5;28;43;01mFalse\u001b[39;49;00m\u001b[43m,\u001b[49m\n\u001b[1;32m    638\u001b[0m \u001b[43m        \u001b[49m\u001b[43mallow_2d\u001b[49m\u001b[38;5;241;43m=\u001b[39;49m\u001b[43mallow_2d\u001b[49m\u001b[43m,\u001b[49m\n\u001b[1;32m    639\u001b[0m \u001b[43m    \u001b[49m\u001b[43m)\u001b[49m\n\u001b[1;32m    641\u001b[0m \u001b[38;5;28;01melse\u001b[39;00m:\n\u001b[1;32m    642\u001b[0m     _sanitize_non_ordered(data)\n",
      "File \u001b[0;32m~/Desktop/FC24_API/venv/lib/python3.10/site-packages/pandas/core/construction.py:659\u001b[0m, in \u001b[0;36msanitize_array\u001b[0;34m(data, index, dtype, copy, allow_2d)\u001b[0m\n\u001b[1;32m    656\u001b[0m             subarr \u001b[38;5;241m=\u001b[39m cast(np\u001b[38;5;241m.\u001b[39mndarray, subarr)\n\u001b[1;32m    657\u001b[0m             subarr \u001b[38;5;241m=\u001b[39m maybe_infer_to_datetimelike(subarr)\n\u001b[0;32m--> 659\u001b[0m subarr \u001b[38;5;241m=\u001b[39m \u001b[43m_sanitize_ndim\u001b[49m\u001b[43m(\u001b[49m\u001b[43msubarr\u001b[49m\u001b[43m,\u001b[49m\u001b[43m \u001b[49m\u001b[43mdata\u001b[49m\u001b[43m,\u001b[49m\u001b[43m \u001b[49m\u001b[43mdtype\u001b[49m\u001b[43m,\u001b[49m\u001b[43m \u001b[49m\u001b[43mindex\u001b[49m\u001b[43m,\u001b[49m\u001b[43m \u001b[49m\u001b[43mallow_2d\u001b[49m\u001b[38;5;241;43m=\u001b[39;49m\u001b[43mallow_2d\u001b[49m\u001b[43m)\u001b[49m\n\u001b[1;32m    661\u001b[0m \u001b[38;5;28;01mif\u001b[39;00m \u001b[38;5;28misinstance\u001b[39m(subarr, np\u001b[38;5;241m.\u001b[39mndarray):\n\u001b[1;32m    662\u001b[0m     \u001b[38;5;66;03m# at this point we should have dtype be None or subarr.dtype == dtype\u001b[39;00m\n\u001b[1;32m    663\u001b[0m     dtype \u001b[38;5;241m=\u001b[39m cast(np\u001b[38;5;241m.\u001b[39mdtype, dtype)\n",
      "File \u001b[0;32m~/Desktop/FC24_API/venv/lib/python3.10/site-packages/pandas/core/construction.py:718\u001b[0m, in \u001b[0;36m_sanitize_ndim\u001b[0;34m(result, data, dtype, index, allow_2d)\u001b[0m\n\u001b[1;32m    716\u001b[0m     \u001b[38;5;28;01mif\u001b[39;00m allow_2d:\n\u001b[1;32m    717\u001b[0m         \u001b[38;5;28;01mreturn\u001b[39;00m result\n\u001b[0;32m--> 718\u001b[0m     \u001b[38;5;28;01mraise\u001b[39;00m \u001b[38;5;167;01mValueError\u001b[39;00m(\n\u001b[1;32m    719\u001b[0m         \u001b[38;5;124mf\u001b[39m\u001b[38;5;124m\"\u001b[39m\u001b[38;5;124mData must be 1-dimensional, got ndarray of shape \u001b[39m\u001b[38;5;132;01m{\u001b[39;00mdata\u001b[38;5;241m.\u001b[39mshape\u001b[38;5;132;01m}\u001b[39;00m\u001b[38;5;124m instead\u001b[39m\u001b[38;5;124m\"\u001b[39m\n\u001b[1;32m    720\u001b[0m     )\n\u001b[1;32m    721\u001b[0m \u001b[38;5;28;01mif\u001b[39;00m is_object_dtype(dtype) \u001b[38;5;129;01mand\u001b[39;00m \u001b[38;5;28misinstance\u001b[39m(dtype, ExtensionDtype):\n\u001b[1;32m    722\u001b[0m     \u001b[38;5;66;03m# i.e. NumpyEADtype(\"O\")\u001b[39;00m\n\u001b[1;32m    724\u001b[0m     result \u001b[38;5;241m=\u001b[39m com\u001b[38;5;241m.\u001b[39masarray_tuplesafe(data, dtype\u001b[38;5;241m=\u001b[39mnp\u001b[38;5;241m.\u001b[39mdtype(\u001b[38;5;124m\"\u001b[39m\u001b[38;5;124mobject\u001b[39m\u001b[38;5;124m\"\u001b[39m))\n",
      "\u001b[0;31mValueError\u001b[0m: Data must be 1-dimensional, got ndarray of shape (1, 36) instead"
     ]
    }
   ],
   "source": [
    "#player=input('Player?')\n",
    "players_selected= df[df['Name']=='Kylian Mbappé']\n",
    "\n",
    "fig=px.bar_polar(players_selected,r=players_selected.select_dtypes(include=int),theta=players_selected.select_dtypes(include=int),color=players_selected.Name)\n",
    "fig.show()\n"
   ]
  },
  {
   "cell_type": "code",
   "execution_count": 31,
   "metadata": {},
   "outputs": [
    {
     "data": {
      "text/html": [
       "<div>\n",
       "<style scoped>\n",
       "    .dataframe tbody tr th:only-of-type {\n",
       "        vertical-align: middle;\n",
       "    }\n",
       "\n",
       "    .dataframe tbody tr th {\n",
       "        vertical-align: top;\n",
       "    }\n",
       "\n",
       "    .dataframe thead th {\n",
       "        text-align: right;\n",
       "    }\n",
       "</style>\n",
       "<table border=\"1\" class=\"dataframe\">\n",
       "  <thead>\n",
       "    <tr style=\"text-align: right;\">\n",
       "      <th></th>\n",
       "      <th>Name</th>\n",
       "      <th>Nation</th>\n",
       "      <th>Club</th>\n",
       "      <th>Position</th>\n",
       "      <th>Age</th>\n",
       "      <th>Overall</th>\n",
       "      <th>Pace</th>\n",
       "      <th>Shooting</th>\n",
       "      <th>Passing</th>\n",
       "      <th>Dribbling</th>\n",
       "      <th>...</th>\n",
       "      <th>Jumping</th>\n",
       "      <th>Stamina</th>\n",
       "      <th>Strength</th>\n",
       "      <th>Aggression</th>\n",
       "      <th>Att work rate</th>\n",
       "      <th>Def work rate</th>\n",
       "      <th>Preferred foot</th>\n",
       "      <th>Weak foot</th>\n",
       "      <th>Skill moves</th>\n",
       "      <th>GK</th>\n",
       "    </tr>\n",
       "  </thead>\n",
       "  <tbody>\n",
       "    <tr>\n",
       "      <th>0</th>\n",
       "      <td>Kylian Mbappé</td>\n",
       "      <td>France</td>\n",
       "      <td>Paris SG</td>\n",
       "      <td>ST</td>\n",
       "      <td>24</td>\n",
       "      <td>91</td>\n",
       "      <td>97</td>\n",
       "      <td>90</td>\n",
       "      <td>80</td>\n",
       "      <td>93</td>\n",
       "      <td>...</td>\n",
       "      <td>88</td>\n",
       "      <td>88</td>\n",
       "      <td>77</td>\n",
       "      <td>64</td>\n",
       "      <td>High</td>\n",
       "      <td>Low</td>\n",
       "      <td>Right</td>\n",
       "      <td>4</td>\n",
       "      <td>5</td>\n",
       "      <td>NaN</td>\n",
       "    </tr>\n",
       "    <tr>\n",
       "      <th>3</th>\n",
       "      <td>Lionel Messi</td>\n",
       "      <td>Argentina</td>\n",
       "      <td>Inter Miami CF</td>\n",
       "      <td>CF</td>\n",
       "      <td>36</td>\n",
       "      <td>90</td>\n",
       "      <td>80</td>\n",
       "      <td>87</td>\n",
       "      <td>90</td>\n",
       "      <td>96</td>\n",
       "      <td>...</td>\n",
       "      <td>71</td>\n",
       "      <td>70</td>\n",
       "      <td>68</td>\n",
       "      <td>44</td>\n",
       "      <td>Low</td>\n",
       "      <td>Low</td>\n",
       "      <td>Left</td>\n",
       "      <td>4</td>\n",
       "      <td>4</td>\n",
       "      <td>NaN</td>\n",
       "    </tr>\n",
       "  </tbody>\n",
       "</table>\n",
       "<p>2 rows × 44 columns</p>\n",
       "</div>"
      ],
      "text/plain": [
       "            Name     Nation            Club Position  Age  Overall  Pace  \\\n",
       "0  Kylian Mbappé     France        Paris SG       ST   24       91    97   \n",
       "3   Lionel Messi  Argentina  Inter Miami CF       CF   36       90    80   \n",
       "\n",
       "   Shooting  Passing  Dribbling  ...  Jumping  Stamina  Strength  Aggression  \\\n",
       "0        90       80         93  ...       88       88        77          64   \n",
       "3        87       90         96  ...       71       70        68          44   \n",
       "\n",
       "   Att work rate  Def work rate  Preferred foot  Weak foot  Skill moves  GK  \n",
       "0           High            Low           Right          4            5 NaN  \n",
       "3            Low            Low            Left          4            4 NaN  \n",
       "\n",
       "[2 rows x 44 columns]"
      ]
     },
     "execution_count": 31,
     "metadata": {},
     "output_type": "execute_result"
    }
   ],
   "source": [
    "players_selected= df[(df['Name']=='Kylian Mbappé')|(df['Name']=='Lionel Messi')]\n",
    "players_selected"
   ]
  },
  {
   "cell_type": "code",
   "execution_count": 32,
   "metadata": {},
   "outputs": [
    {
     "data": {
      "text/html": [
       "<div>\n",
       "<style scoped>\n",
       "    .dataframe tbody tr th:only-of-type {\n",
       "        vertical-align: middle;\n",
       "    }\n",
       "\n",
       "    .dataframe tbody tr th {\n",
       "        vertical-align: top;\n",
       "    }\n",
       "\n",
       "    .dataframe thead th {\n",
       "        text-align: right;\n",
       "    }\n",
       "</style>\n",
       "<table border=\"1\" class=\"dataframe\">\n",
       "  <thead>\n",
       "    <tr style=\"text-align: right;\">\n",
       "      <th></th>\n",
       "      <th>index</th>\n",
       "      <th>0</th>\n",
       "      <th>3</th>\n",
       "    </tr>\n",
       "  </thead>\n",
       "  <tbody>\n",
       "    <tr>\n",
       "      <th>0</th>\n",
       "      <td>Age</td>\n",
       "      <td>24</td>\n",
       "      <td>36</td>\n",
       "    </tr>\n",
       "    <tr>\n",
       "      <th>1</th>\n",
       "      <td>Overall</td>\n",
       "      <td>91</td>\n",
       "      <td>90</td>\n",
       "    </tr>\n",
       "    <tr>\n",
       "      <th>2</th>\n",
       "      <td>Pace</td>\n",
       "      <td>97</td>\n",
       "      <td>80</td>\n",
       "    </tr>\n",
       "    <tr>\n",
       "      <th>3</th>\n",
       "      <td>Shooting</td>\n",
       "      <td>90</td>\n",
       "      <td>87</td>\n",
       "    </tr>\n",
       "    <tr>\n",
       "      <th>4</th>\n",
       "      <td>Passing</td>\n",
       "      <td>80</td>\n",
       "      <td>90</td>\n",
       "    </tr>\n",
       "    <tr>\n",
       "      <th>5</th>\n",
       "      <td>Dribbling</td>\n",
       "      <td>93</td>\n",
       "      <td>96</td>\n",
       "    </tr>\n",
       "    <tr>\n",
       "      <th>6</th>\n",
       "      <td>Defending</td>\n",
       "      <td>36</td>\n",
       "      <td>33</td>\n",
       "    </tr>\n",
       "    <tr>\n",
       "      <th>7</th>\n",
       "      <td>Physicality</td>\n",
       "      <td>78</td>\n",
       "      <td>64</td>\n",
       "    </tr>\n",
       "    <tr>\n",
       "      <th>8</th>\n",
       "      <td>Acceleration</td>\n",
       "      <td>97</td>\n",
       "      <td>87</td>\n",
       "    </tr>\n",
       "    <tr>\n",
       "      <th>9</th>\n",
       "      <td>Sprint</td>\n",
       "      <td>97</td>\n",
       "      <td>74</td>\n",
       "    </tr>\n",
       "    <tr>\n",
       "      <th>10</th>\n",
       "      <td>Positioning</td>\n",
       "      <td>93</td>\n",
       "      <td>91</td>\n",
       "    </tr>\n",
       "    <tr>\n",
       "      <th>11</th>\n",
       "      <td>Finishing</td>\n",
       "      <td>94</td>\n",
       "      <td>89</td>\n",
       "    </tr>\n",
       "    <tr>\n",
       "      <th>12</th>\n",
       "      <td>Shot</td>\n",
       "      <td>86</td>\n",
       "      <td>91</td>\n",
       "    </tr>\n",
       "    <tr>\n",
       "      <th>13</th>\n",
       "      <td>Long</td>\n",
       "      <td>71</td>\n",
       "      <td>90</td>\n",
       "    </tr>\n",
       "    <tr>\n",
       "      <th>14</th>\n",
       "      <td>Volleys</td>\n",
       "      <td>84</td>\n",
       "      <td>86</td>\n",
       "    </tr>\n",
       "    <tr>\n",
       "      <th>15</th>\n",
       "      <td>Penalties</td>\n",
       "      <td>84</td>\n",
       "      <td>75</td>\n",
       "    </tr>\n",
       "    <tr>\n",
       "      <th>16</th>\n",
       "      <td>Vision</td>\n",
       "      <td>83</td>\n",
       "      <td>92</td>\n",
       "    </tr>\n",
       "    <tr>\n",
       "      <th>17</th>\n",
       "      <td>Crossing</td>\n",
       "      <td>78</td>\n",
       "      <td>83</td>\n",
       "    </tr>\n",
       "    <tr>\n",
       "      <th>18</th>\n",
       "      <td>Free</td>\n",
       "      <td>69</td>\n",
       "      <td>93</td>\n",
       "    </tr>\n",
       "    <tr>\n",
       "      <th>19</th>\n",
       "      <td>Curve</td>\n",
       "      <td>80</td>\n",
       "      <td>93</td>\n",
       "    </tr>\n",
       "    <tr>\n",
       "      <th>20</th>\n",
       "      <td>Agility</td>\n",
       "      <td>93</td>\n",
       "      <td>91</td>\n",
       "    </tr>\n",
       "    <tr>\n",
       "      <th>21</th>\n",
       "      <td>Balance</td>\n",
       "      <td>82</td>\n",
       "      <td>95</td>\n",
       "    </tr>\n",
       "    <tr>\n",
       "      <th>22</th>\n",
       "      <td>Reactions</td>\n",
       "      <td>93</td>\n",
       "      <td>88</td>\n",
       "    </tr>\n",
       "    <tr>\n",
       "      <th>23</th>\n",
       "      <td>Ball</td>\n",
       "      <td>92</td>\n",
       "      <td>93</td>\n",
       "    </tr>\n",
       "    <tr>\n",
       "      <th>24</th>\n",
       "      <td>Composure</td>\n",
       "      <td>88</td>\n",
       "      <td>96</td>\n",
       "    </tr>\n",
       "    <tr>\n",
       "      <th>25</th>\n",
       "      <td>Interceptions</td>\n",
       "      <td>38</td>\n",
       "      <td>40</td>\n",
       "    </tr>\n",
       "    <tr>\n",
       "      <th>26</th>\n",
       "      <td>Heading</td>\n",
       "      <td>73</td>\n",
       "      <td>60</td>\n",
       "    </tr>\n",
       "    <tr>\n",
       "      <th>27</th>\n",
       "      <td>Def</td>\n",
       "      <td>26</td>\n",
       "      <td>20</td>\n",
       "    </tr>\n",
       "    <tr>\n",
       "      <th>28</th>\n",
       "      <td>Standing</td>\n",
       "      <td>34</td>\n",
       "      <td>35</td>\n",
       "    </tr>\n",
       "    <tr>\n",
       "      <th>29</th>\n",
       "      <td>Sliding</td>\n",
       "      <td>32</td>\n",
       "      <td>24</td>\n",
       "    </tr>\n",
       "    <tr>\n",
       "      <th>30</th>\n",
       "      <td>Jumping</td>\n",
       "      <td>88</td>\n",
       "      <td>71</td>\n",
       "    </tr>\n",
       "    <tr>\n",
       "      <th>31</th>\n",
       "      <td>Stamina</td>\n",
       "      <td>88</td>\n",
       "      <td>70</td>\n",
       "    </tr>\n",
       "    <tr>\n",
       "      <th>32</th>\n",
       "      <td>Strength</td>\n",
       "      <td>77</td>\n",
       "      <td>68</td>\n",
       "    </tr>\n",
       "    <tr>\n",
       "      <th>33</th>\n",
       "      <td>Aggression</td>\n",
       "      <td>64</td>\n",
       "      <td>44</td>\n",
       "    </tr>\n",
       "    <tr>\n",
       "      <th>34</th>\n",
       "      <td>Weak foot</td>\n",
       "      <td>4</td>\n",
       "      <td>4</td>\n",
       "    </tr>\n",
       "    <tr>\n",
       "      <th>35</th>\n",
       "      <td>Skill moves</td>\n",
       "      <td>5</td>\n",
       "      <td>4</td>\n",
       "    </tr>\n",
       "  </tbody>\n",
       "</table>\n",
       "</div>"
      ],
      "text/plain": [
       "            index   0   3\n",
       "0             Age  24  36\n",
       "1         Overall  91  90\n",
       "2            Pace  97  80\n",
       "3        Shooting  90  87\n",
       "4         Passing  80  90\n",
       "5       Dribbling  93  96\n",
       "6       Defending  36  33\n",
       "7     Physicality  78  64\n",
       "8    Acceleration  97  87\n",
       "9          Sprint  97  74\n",
       "10    Positioning  93  91\n",
       "11      Finishing  94  89\n",
       "12           Shot  86  91\n",
       "13           Long  71  90\n",
       "14        Volleys  84  86\n",
       "15      Penalties  84  75\n",
       "16         Vision  83  92\n",
       "17       Crossing  78  83\n",
       "18           Free  69  93\n",
       "19          Curve  80  93\n",
       "20        Agility  93  91\n",
       "21        Balance  82  95\n",
       "22      Reactions  93  88\n",
       "23           Ball  92  93\n",
       "24      Composure  88  96\n",
       "25  Interceptions  38  40\n",
       "26        Heading  73  60\n",
       "27            Def  26  20\n",
       "28       Standing  34  35\n",
       "29        Sliding  32  24\n",
       "30        Jumping  88  71\n",
       "31        Stamina  88  70\n",
       "32       Strength  77  68\n",
       "33     Aggression  64  44\n",
       "34      Weak foot   4   4\n",
       "35    Skill moves   5   4"
      ]
     },
     "execution_count": 32,
     "metadata": {},
     "output_type": "execute_result"
    }
   ],
   "source": [
    "int_df=players_selected.select_dtypes(include=int)\n",
    "df3=int_df.transpose().reset_index()\n",
    "df3"
   ]
  },
  {
   "cell_type": "code",
   "execution_count": 33,
   "metadata": {},
   "outputs": [
    {
     "data": {
      "text/plain": [
       "Index(['index', 0, 3], dtype='object')"
      ]
     },
     "execution_count": 33,
     "metadata": {},
     "output_type": "execute_result"
    }
   ],
   "source": [
    "df3.columns"
   ]
  },
  {
   "cell_type": "code",
   "execution_count": 36,
   "metadata": {},
   "outputs": [
    {
     "ename": "TypeError",
     "evalue": "line_polar() got an unexpected keyword argument 'name'",
     "output_type": "error",
     "traceback": [
      "\u001b[0;31m---------------------------------------------------------------------------\u001b[0m",
      "\u001b[0;31mTypeError\u001b[0m                                 Traceback (most recent call last)",
      "Cell \u001b[0;32mIn[36], line 1\u001b[0m\n\u001b[0;32m----> 1\u001b[0m fig \u001b[38;5;241m=\u001b[39m \u001b[43mpx\u001b[49m\u001b[38;5;241;43m.\u001b[39;49m\u001b[43mline_polar\u001b[49m\u001b[43m(\u001b[49m\u001b[43mdf3\u001b[49m\u001b[43m,\u001b[49m\u001b[43m \u001b[49m\u001b[43mr\u001b[49m\u001b[38;5;241;43m=\u001b[39;49m\u001b[43mdf3\u001b[49m\u001b[43m[\u001b[49m\u001b[38;5;241;43m0\u001b[39;49m\u001b[43m]\u001b[49m\u001b[43m,\u001b[49m\u001b[43m \u001b[49m\u001b[43mtheta\u001b[49m\u001b[38;5;241;43m=\u001b[39;49m\u001b[43mdf3\u001b[49m\u001b[43m[\u001b[49m\u001b[38;5;124;43m'\u001b[39;49m\u001b[38;5;124;43mindex\u001b[39;49m\u001b[38;5;124;43m'\u001b[39;49m\u001b[43m]\u001b[49m\u001b[43m,\u001b[49m\u001b[43m \u001b[49m\u001b[43mline_close\u001b[49m\u001b[38;5;241;43m=\u001b[39;49m\u001b[38;5;28;43;01mTrue\u001b[39;49;00m\u001b[43m,\u001b[49m\u001b[43mname\u001b[49m\u001b[38;5;241;43m=\u001b[39;49m\u001b[38;5;241;43m0\u001b[39;49m\u001b[43m)\u001b[49m\n\u001b[1;32m      2\u001b[0m fig\u001b[38;5;241m.\u001b[39madd_trace(px\u001b[38;5;241m.\u001b[39mline_polar(df3,r\u001b[38;5;241m=\u001b[39mdf3[\u001b[38;5;241m3\u001b[39m],theta\u001b[38;5;241m=\u001b[39mdf3[\u001b[38;5;124m'\u001b[39m\u001b[38;5;124mindex\u001b[39m\u001b[38;5;124m'\u001b[39m],line_close\u001b[38;5;241m=\u001b[39m\u001b[38;5;28;01mTrue\u001b[39;00m,name\u001b[38;5;241m=\u001b[39m\u001b[38;5;241m2\u001b[39m))\n\u001b[1;32m      3\u001b[0m fig\u001b[38;5;241m.\u001b[39mshow()\n",
      "\u001b[0;31mTypeError\u001b[0m: line_polar() got an unexpected keyword argument 'name'"
     ]
    }
   ],
   "source": [
    "\n",
    "fig = px.line_polar(df3, r=df3[0], theta=df3['index'], line_close=True)\n",
    "fig.add_trace(px.line_polar(df3,r=df3[3],theta=df3['index'],line_close=True))\n",
    "fig.show()"
   ]
  },
  {
   "cell_type": "code",
   "execution_count": 21,
   "metadata": {},
   "outputs": [
    {
     "data": {
      "text/html": [
       "<div>\n",
       "<style scoped>\n",
       "    .dataframe tbody tr th:only-of-type {\n",
       "        vertical-align: middle;\n",
       "    }\n",
       "\n",
       "    .dataframe tbody tr th {\n",
       "        vertical-align: top;\n",
       "    }\n",
       "\n",
       "    .dataframe thead th {\n",
       "        text-align: right;\n",
       "    }\n",
       "</style>\n",
       "<table border=\"1\" class=\"dataframe\">\n",
       "  <thead>\n",
       "    <tr style=\"text-align: right;\">\n",
       "      <th></th>\n",
       "      <th>direction</th>\n",
       "      <th>strength</th>\n",
       "      <th>frequency</th>\n",
       "    </tr>\n",
       "  </thead>\n",
       "  <tbody>\n",
       "    <tr>\n",
       "      <th>0</th>\n",
       "      <td>N</td>\n",
       "      <td>0-1</td>\n",
       "      <td>0.5</td>\n",
       "    </tr>\n",
       "    <tr>\n",
       "      <th>1</th>\n",
       "      <td>NNE</td>\n",
       "      <td>0-1</td>\n",
       "      <td>0.6</td>\n",
       "    </tr>\n",
       "    <tr>\n",
       "      <th>2</th>\n",
       "      <td>NE</td>\n",
       "      <td>0-1</td>\n",
       "      <td>0.5</td>\n",
       "    </tr>\n",
       "    <tr>\n",
       "      <th>3</th>\n",
       "      <td>ENE</td>\n",
       "      <td>0-1</td>\n",
       "      <td>0.4</td>\n",
       "    </tr>\n",
       "    <tr>\n",
       "      <th>4</th>\n",
       "      <td>E</td>\n",
       "      <td>0-1</td>\n",
       "      <td>0.4</td>\n",
       "    </tr>\n",
       "    <tr>\n",
       "      <th>...</th>\n",
       "      <td>...</td>\n",
       "      <td>...</td>\n",
       "      <td>...</td>\n",
       "    </tr>\n",
       "    <tr>\n",
       "      <th>123</th>\n",
       "      <td>WSW</td>\n",
       "      <td>6+</td>\n",
       "      <td>0.1</td>\n",
       "    </tr>\n",
       "    <tr>\n",
       "      <th>124</th>\n",
       "      <td>W</td>\n",
       "      <td>6+</td>\n",
       "      <td>0.9</td>\n",
       "    </tr>\n",
       "    <tr>\n",
       "      <th>125</th>\n",
       "      <td>WNW</td>\n",
       "      <td>6+</td>\n",
       "      <td>2.2</td>\n",
       "    </tr>\n",
       "    <tr>\n",
       "      <th>126</th>\n",
       "      <td>NW</td>\n",
       "      <td>6+</td>\n",
       "      <td>1.5</td>\n",
       "    </tr>\n",
       "    <tr>\n",
       "      <th>127</th>\n",
       "      <td>NNW</td>\n",
       "      <td>6+</td>\n",
       "      <td>0.2</td>\n",
       "    </tr>\n",
       "  </tbody>\n",
       "</table>\n",
       "<p>128 rows × 3 columns</p>\n",
       "</div>"
      ],
      "text/plain": [
       "    direction strength  frequency\n",
       "0           N      0-1        0.5\n",
       "1         NNE      0-1        0.6\n",
       "2          NE      0-1        0.5\n",
       "3         ENE      0-1        0.4\n",
       "4           E      0-1        0.4\n",
       "..        ...      ...        ...\n",
       "123       WSW       6+        0.1\n",
       "124         W       6+        0.9\n",
       "125       WNW       6+        2.2\n",
       "126        NW       6+        1.5\n",
       "127       NNW       6+        0.2\n",
       "\n",
       "[128 rows x 3 columns]"
      ]
     },
     "execution_count": 21,
     "metadata": {},
     "output_type": "execute_result"
    }
   ],
   "source": [
    "px.data.wind()"
   ]
  },
  {
   "cell_type": "code",
   "execution_count": 22,
   "metadata": {},
   "outputs": [
    {
     "data": {
      "text/html": [
       "<div>\n",
       "<style scoped>\n",
       "    .dataframe tbody tr th:only-of-type {\n",
       "        vertical-align: middle;\n",
       "    }\n",
       "\n",
       "    .dataframe tbody tr th {\n",
       "        vertical-align: top;\n",
       "    }\n",
       "\n",
       "    .dataframe thead th {\n",
       "        text-align: right;\n",
       "    }\n",
       "</style>\n",
       "<table border=\"1\" class=\"dataframe\">\n",
       "  <thead>\n",
       "    <tr style=\"text-align: right;\">\n",
       "      <th></th>\n",
       "      <th>Name</th>\n",
       "      <th>Nation</th>\n",
       "      <th>Club</th>\n",
       "      <th>Position</th>\n",
       "      <th>Age</th>\n",
       "      <th>Overall</th>\n",
       "      <th>Pace</th>\n",
       "      <th>Shooting</th>\n",
       "      <th>Passing</th>\n",
       "      <th>Dribbling</th>\n",
       "      <th>...</th>\n",
       "      <th>Jumping</th>\n",
       "      <th>Stamina</th>\n",
       "      <th>Strength</th>\n",
       "      <th>Aggression</th>\n",
       "      <th>Att work rate</th>\n",
       "      <th>Def work rate</th>\n",
       "      <th>Preferred foot</th>\n",
       "      <th>Weak foot</th>\n",
       "      <th>Skill moves</th>\n",
       "      <th>GK</th>\n",
       "    </tr>\n",
       "  </thead>\n",
       "  <tbody>\n",
       "    <tr>\n",
       "      <th>0</th>\n",
       "      <td>Kylian Mbappé</td>\n",
       "      <td>France</td>\n",
       "      <td>Paris SG</td>\n",
       "      <td>ST</td>\n",
       "      <td>24</td>\n",
       "      <td>91</td>\n",
       "      <td>97</td>\n",
       "      <td>90</td>\n",
       "      <td>80</td>\n",
       "      <td>93</td>\n",
       "      <td>...</td>\n",
       "      <td>88</td>\n",
       "      <td>88</td>\n",
       "      <td>77</td>\n",
       "      <td>64</td>\n",
       "      <td>High</td>\n",
       "      <td>Low</td>\n",
       "      <td>Right</td>\n",
       "      <td>4</td>\n",
       "      <td>5</td>\n",
       "      <td>NaN</td>\n",
       "    </tr>\n",
       "    <tr>\n",
       "      <th>1</th>\n",
       "      <td>Erling Haaland</td>\n",
       "      <td>Norway</td>\n",
       "      <td>Manchester City</td>\n",
       "      <td>ST</td>\n",
       "      <td>23</td>\n",
       "      <td>91</td>\n",
       "      <td>89</td>\n",
       "      <td>93</td>\n",
       "      <td>66</td>\n",
       "      <td>79</td>\n",
       "      <td>...</td>\n",
       "      <td>93</td>\n",
       "      <td>76</td>\n",
       "      <td>93</td>\n",
       "      <td>87</td>\n",
       "      <td>High</td>\n",
       "      <td>Medium</td>\n",
       "      <td>Left</td>\n",
       "      <td>3</td>\n",
       "      <td>3</td>\n",
       "      <td>NaN</td>\n",
       "    </tr>\n",
       "    <tr>\n",
       "      <th>2</th>\n",
       "      <td>Kevin De Bruyne</td>\n",
       "      <td>Belgium</td>\n",
       "      <td>Manchester City</td>\n",
       "      <td>CM</td>\n",
       "      <td>32</td>\n",
       "      <td>91</td>\n",
       "      <td>72</td>\n",
       "      <td>88</td>\n",
       "      <td>94</td>\n",
       "      <td>86</td>\n",
       "      <td>...</td>\n",
       "      <td>72</td>\n",
       "      <td>88</td>\n",
       "      <td>74</td>\n",
       "      <td>75</td>\n",
       "      <td>High</td>\n",
       "      <td>Medium</td>\n",
       "      <td>Right</td>\n",
       "      <td>5</td>\n",
       "      <td>4</td>\n",
       "      <td>NaN</td>\n",
       "    </tr>\n",
       "    <tr>\n",
       "      <th>3</th>\n",
       "      <td>Lionel Messi</td>\n",
       "      <td>Argentina</td>\n",
       "      <td>Inter Miami CF</td>\n",
       "      <td>CF</td>\n",
       "      <td>36</td>\n",
       "      <td>90</td>\n",
       "      <td>80</td>\n",
       "      <td>87</td>\n",
       "      <td>90</td>\n",
       "      <td>96</td>\n",
       "      <td>...</td>\n",
       "      <td>71</td>\n",
       "      <td>70</td>\n",
       "      <td>68</td>\n",
       "      <td>44</td>\n",
       "      <td>Low</td>\n",
       "      <td>Low</td>\n",
       "      <td>Left</td>\n",
       "      <td>4</td>\n",
       "      <td>4</td>\n",
       "      <td>NaN</td>\n",
       "    </tr>\n",
       "    <tr>\n",
       "      <th>4</th>\n",
       "      <td>Karim Benzema</td>\n",
       "      <td>France</td>\n",
       "      <td>Al Ittihad</td>\n",
       "      <td>CF</td>\n",
       "      <td>35</td>\n",
       "      <td>90</td>\n",
       "      <td>79</td>\n",
       "      <td>88</td>\n",
       "      <td>83</td>\n",
       "      <td>87</td>\n",
       "      <td>...</td>\n",
       "      <td>85</td>\n",
       "      <td>82</td>\n",
       "      <td>82</td>\n",
       "      <td>63</td>\n",
       "      <td>Medium</td>\n",
       "      <td>Medium</td>\n",
       "      <td>Right</td>\n",
       "      <td>4</td>\n",
       "      <td>4</td>\n",
       "      <td>NaN</td>\n",
       "    </tr>\n",
       "    <tr>\n",
       "      <th>...</th>\n",
       "      <td>...</td>\n",
       "      <td>...</td>\n",
       "      <td>...</td>\n",
       "      <td>...</td>\n",
       "      <td>...</td>\n",
       "      <td>...</td>\n",
       "      <td>...</td>\n",
       "      <td>...</td>\n",
       "      <td>...</td>\n",
       "      <td>...</td>\n",
       "      <td>...</td>\n",
       "      <td>...</td>\n",
       "      <td>...</td>\n",
       "      <td>...</td>\n",
       "      <td>...</td>\n",
       "      <td>...</td>\n",
       "      <td>...</td>\n",
       "      <td>...</td>\n",
       "      <td>...</td>\n",
       "      <td>...</td>\n",
       "      <td>...</td>\n",
       "    </tr>\n",
       "    <tr>\n",
       "      <th>15840</th>\n",
       "      <td>Deven Sawhney</td>\n",
       "      <td>India</td>\n",
       "      <td>Odisha FC</td>\n",
       "      <td>LB</td>\n",
       "      <td>21</td>\n",
       "      <td>47</td>\n",
       "      <td>62</td>\n",
       "      <td>26</td>\n",
       "      <td>34</td>\n",
       "      <td>41</td>\n",
       "      <td>...</td>\n",
       "      <td>45</td>\n",
       "      <td>57</td>\n",
       "      <td>57</td>\n",
       "      <td>58</td>\n",
       "      <td>High</td>\n",
       "      <td>Medium</td>\n",
       "      <td>Left</td>\n",
       "      <td>3</td>\n",
       "      <td>2</td>\n",
       "      <td>NaN</td>\n",
       "    </tr>\n",
       "    <tr>\n",
       "      <th>15841</th>\n",
       "      <td>Wang Tengda</td>\n",
       "      <td>China PR</td>\n",
       "      <td>Dalian Pro</td>\n",
       "      <td>CM</td>\n",
       "      <td>22</td>\n",
       "      <td>47</td>\n",
       "      <td>61</td>\n",
       "      <td>37</td>\n",
       "      <td>45</td>\n",
       "      <td>45</td>\n",
       "      <td>...</td>\n",
       "      <td>38</td>\n",
       "      <td>56</td>\n",
       "      <td>42</td>\n",
       "      <td>51</td>\n",
       "      <td>Medium</td>\n",
       "      <td>Medium</td>\n",
       "      <td>Right</td>\n",
       "      <td>3</td>\n",
       "      <td>2</td>\n",
       "      <td>NaN</td>\n",
       "    </tr>\n",
       "    <tr>\n",
       "      <th>15842</th>\n",
       "      <td>Wu Yuhang</td>\n",
       "      <td>China PR</td>\n",
       "      <td>Zhejiang Pro</td>\n",
       "      <td>CDM</td>\n",
       "      <td>22</td>\n",
       "      <td>47</td>\n",
       "      <td>56</td>\n",
       "      <td>34</td>\n",
       "      <td>43</td>\n",
       "      <td>43</td>\n",
       "      <td>...</td>\n",
       "      <td>38</td>\n",
       "      <td>49</td>\n",
       "      <td>51</td>\n",
       "      <td>56</td>\n",
       "      <td>Medium</td>\n",
       "      <td>Medium</td>\n",
       "      <td>Right</td>\n",
       "      <td>3</td>\n",
       "      <td>2</td>\n",
       "      <td>NaN</td>\n",
       "    </tr>\n",
       "    <tr>\n",
       "      <th>15843</th>\n",
       "      <td>Ye Daoxin</td>\n",
       "      <td>China PR</td>\n",
       "      <td>Zhejiang Pro</td>\n",
       "      <td>CB</td>\n",
       "      <td>17</td>\n",
       "      <td>47</td>\n",
       "      <td>58</td>\n",
       "      <td>28</td>\n",
       "      <td>33</td>\n",
       "      <td>38</td>\n",
       "      <td>...</td>\n",
       "      <td>38</td>\n",
       "      <td>50</td>\n",
       "      <td>48</td>\n",
       "      <td>46</td>\n",
       "      <td>Medium</td>\n",
       "      <td>Medium</td>\n",
       "      <td>Right</td>\n",
       "      <td>3</td>\n",
       "      <td>2</td>\n",
       "      <td>NaN</td>\n",
       "    </tr>\n",
       "    <tr>\n",
       "      <th>15844</th>\n",
       "      <td>Yin Jie</td>\n",
       "      <td>China PR</td>\n",
       "      <td>Zhejiang Pro</td>\n",
       "      <td>CM</td>\n",
       "      <td>22</td>\n",
       "      <td>47</td>\n",
       "      <td>57</td>\n",
       "      <td>37</td>\n",
       "      <td>46</td>\n",
       "      <td>43</td>\n",
       "      <td>...</td>\n",
       "      <td>48</td>\n",
       "      <td>59</td>\n",
       "      <td>60</td>\n",
       "      <td>50</td>\n",
       "      <td>Medium</td>\n",
       "      <td>Medium</td>\n",
       "      <td>Right</td>\n",
       "      <td>3</td>\n",
       "      <td>2</td>\n",
       "      <td>NaN</td>\n",
       "    </tr>\n",
       "  </tbody>\n",
       "</table>\n",
       "<p>15845 rows × 44 columns</p>\n",
       "</div>"
      ],
      "text/plain": [
       "                  Name     Nation             Club Position  Age  Overall  \\\n",
       "0        Kylian Mbappé     France         Paris SG       ST   24       91   \n",
       "1       Erling Haaland     Norway  Manchester City       ST   23       91   \n",
       "2      Kevin De Bruyne    Belgium  Manchester City       CM   32       91   \n",
       "3         Lionel Messi  Argentina   Inter Miami CF       CF   36       90   \n",
       "4        Karim Benzema     France       Al Ittihad       CF   35       90   \n",
       "...                ...        ...              ...      ...  ...      ...   \n",
       "15840    Deven Sawhney      India        Odisha FC       LB   21       47   \n",
       "15841      Wang Tengda   China PR       Dalian Pro       CM   22       47   \n",
       "15842        Wu Yuhang   China PR     Zhejiang Pro      CDM   22       47   \n",
       "15843        Ye Daoxin   China PR     Zhejiang Pro       CB   17       47   \n",
       "15844          Yin Jie   China PR     Zhejiang Pro       CM   22       47   \n",
       "\n",
       "       Pace  Shooting  Passing  Dribbling  ...  Jumping  Stamina  Strength  \\\n",
       "0        97        90       80         93  ...       88       88        77   \n",
       "1        89        93       66         79  ...       93       76        93   \n",
       "2        72        88       94         86  ...       72       88        74   \n",
       "3        80        87       90         96  ...       71       70        68   \n",
       "4        79        88       83         87  ...       85       82        82   \n",
       "...     ...       ...      ...        ...  ...      ...      ...       ...   \n",
       "15840    62        26       34         41  ...       45       57        57   \n",
       "15841    61        37       45         45  ...       38       56        42   \n",
       "15842    56        34       43         43  ...       38       49        51   \n",
       "15843    58        28       33         38  ...       38       50        48   \n",
       "15844    57        37       46         43  ...       48       59        60   \n",
       "\n",
       "       Aggression  Att work rate  Def work rate  Preferred foot  Weak foot  \\\n",
       "0              64           High            Low           Right          4   \n",
       "1              87           High         Medium            Left          3   \n",
       "2              75           High         Medium           Right          5   \n",
       "3              44            Low            Low            Left          4   \n",
       "4              63         Medium         Medium           Right          4   \n",
       "...           ...            ...            ...             ...        ...   \n",
       "15840          58           High         Medium            Left          3   \n",
       "15841          51         Medium         Medium           Right          3   \n",
       "15842          56         Medium         Medium           Right          3   \n",
       "15843          46         Medium         Medium           Right          3   \n",
       "15844          50         Medium         Medium           Right          3   \n",
       "\n",
       "       Skill moves  GK  \n",
       "0                5 NaN  \n",
       "1                3 NaN  \n",
       "2                4 NaN  \n",
       "3                4 NaN  \n",
       "4                4 NaN  \n",
       "...            ...  ..  \n",
       "15840            2 NaN  \n",
       "15841            2 NaN  \n",
       "15842            2 NaN  \n",
       "15843            2 NaN  \n",
       "15844            2 NaN  \n",
       "\n",
       "[15845 rows x 44 columns]"
      ]
     },
     "execution_count": 22,
     "metadata": {},
     "output_type": "execute_result"
    }
   ],
   "source": [
    "df"
   ]
  },
  {
   "cell_type": "code",
   "execution_count": 6,
   "metadata": {},
   "outputs": [
    {
     "data": {
      "application/vnd.plotly.v1+json": {
       "config": {
        "plotlyServerURL": "https://plot.ly"
       },
       "data": [
        {
         "fill": "toself",
         "hovertemplate": "r=%{r}<br>theta=%{theta}<extra></extra>",
         "legendgroup": "",
         "line": {
          "color": "#636efa",
          "dash": "solid"
         },
         "marker": {
          "symbol": "circle"
         },
         "mode": "lines",
         "name": "",
         "r": [
          1,
          5,
          2,
          2,
          3,
          1
         ],
         "showlegend": false,
         "subplot": "polar",
         "theta": [
          "processing cost",
          "mechanical properties",
          "chemical stability",
          "thermal stability",
          "device integration",
          "processing cost"
         ],
         "type": "scatterpolar"
        }
       ],
       "layout": {
        "legend": {
         "tracegroupgap": 0
        },
        "margin": {
         "t": 60
        },
        "polar": {
         "angularaxis": {
          "direction": "clockwise",
          "rotation": 90
         },
         "domain": {
          "x": [
           0,
           1
          ],
          "y": [
           0,
           1
          ]
         }
        },
        "template": {
         "data": {
          "bar": [
           {
            "error_x": {
             "color": "#2a3f5f"
            },
            "error_y": {
             "color": "#2a3f5f"
            },
            "marker": {
             "line": {
              "color": "#E5ECF6",
              "width": 0.5
             },
             "pattern": {
              "fillmode": "overlay",
              "size": 10,
              "solidity": 0.2
             }
            },
            "type": "bar"
           }
          ],
          "barpolar": [
           {
            "marker": {
             "line": {
              "color": "#E5ECF6",
              "width": 0.5
             },
             "pattern": {
              "fillmode": "overlay",
              "size": 10,
              "solidity": 0.2
             }
            },
            "type": "barpolar"
           }
          ],
          "carpet": [
           {
            "aaxis": {
             "endlinecolor": "#2a3f5f",
             "gridcolor": "white",
             "linecolor": "white",
             "minorgridcolor": "white",
             "startlinecolor": "#2a3f5f"
            },
            "baxis": {
             "endlinecolor": "#2a3f5f",
             "gridcolor": "white",
             "linecolor": "white",
             "minorgridcolor": "white",
             "startlinecolor": "#2a3f5f"
            },
            "type": "carpet"
           }
          ],
          "choropleth": [
           {
            "colorbar": {
             "outlinewidth": 0,
             "ticks": ""
            },
            "type": "choropleth"
           }
          ],
          "contour": [
           {
            "colorbar": {
             "outlinewidth": 0,
             "ticks": ""
            },
            "colorscale": [
             [
              0,
              "#0d0887"
             ],
             [
              0.1111111111111111,
              "#46039f"
             ],
             [
              0.2222222222222222,
              "#7201a8"
             ],
             [
              0.3333333333333333,
              "#9c179e"
             ],
             [
              0.4444444444444444,
              "#bd3786"
             ],
             [
              0.5555555555555556,
              "#d8576b"
             ],
             [
              0.6666666666666666,
              "#ed7953"
             ],
             [
              0.7777777777777778,
              "#fb9f3a"
             ],
             [
              0.8888888888888888,
              "#fdca26"
             ],
             [
              1,
              "#f0f921"
             ]
            ],
            "type": "contour"
           }
          ],
          "contourcarpet": [
           {
            "colorbar": {
             "outlinewidth": 0,
             "ticks": ""
            },
            "type": "contourcarpet"
           }
          ],
          "heatmap": [
           {
            "colorbar": {
             "outlinewidth": 0,
             "ticks": ""
            },
            "colorscale": [
             [
              0,
              "#0d0887"
             ],
             [
              0.1111111111111111,
              "#46039f"
             ],
             [
              0.2222222222222222,
              "#7201a8"
             ],
             [
              0.3333333333333333,
              "#9c179e"
             ],
             [
              0.4444444444444444,
              "#bd3786"
             ],
             [
              0.5555555555555556,
              "#d8576b"
             ],
             [
              0.6666666666666666,
              "#ed7953"
             ],
             [
              0.7777777777777778,
              "#fb9f3a"
             ],
             [
              0.8888888888888888,
              "#fdca26"
             ],
             [
              1,
              "#f0f921"
             ]
            ],
            "type": "heatmap"
           }
          ],
          "heatmapgl": [
           {
            "colorbar": {
             "outlinewidth": 0,
             "ticks": ""
            },
            "colorscale": [
             [
              0,
              "#0d0887"
             ],
             [
              0.1111111111111111,
              "#46039f"
             ],
             [
              0.2222222222222222,
              "#7201a8"
             ],
             [
              0.3333333333333333,
              "#9c179e"
             ],
             [
              0.4444444444444444,
              "#bd3786"
             ],
             [
              0.5555555555555556,
              "#d8576b"
             ],
             [
              0.6666666666666666,
              "#ed7953"
             ],
             [
              0.7777777777777778,
              "#fb9f3a"
             ],
             [
              0.8888888888888888,
              "#fdca26"
             ],
             [
              1,
              "#f0f921"
             ]
            ],
            "type": "heatmapgl"
           }
          ],
          "histogram": [
           {
            "marker": {
             "pattern": {
              "fillmode": "overlay",
              "size": 10,
              "solidity": 0.2
             }
            },
            "type": "histogram"
           }
          ],
          "histogram2d": [
           {
            "colorbar": {
             "outlinewidth": 0,
             "ticks": ""
            },
            "colorscale": [
             [
              0,
              "#0d0887"
             ],
             [
              0.1111111111111111,
              "#46039f"
             ],
             [
              0.2222222222222222,
              "#7201a8"
             ],
             [
              0.3333333333333333,
              "#9c179e"
             ],
             [
              0.4444444444444444,
              "#bd3786"
             ],
             [
              0.5555555555555556,
              "#d8576b"
             ],
             [
              0.6666666666666666,
              "#ed7953"
             ],
             [
              0.7777777777777778,
              "#fb9f3a"
             ],
             [
              0.8888888888888888,
              "#fdca26"
             ],
             [
              1,
              "#f0f921"
             ]
            ],
            "type": "histogram2d"
           }
          ],
          "histogram2dcontour": [
           {
            "colorbar": {
             "outlinewidth": 0,
             "ticks": ""
            },
            "colorscale": [
             [
              0,
              "#0d0887"
             ],
             [
              0.1111111111111111,
              "#46039f"
             ],
             [
              0.2222222222222222,
              "#7201a8"
             ],
             [
              0.3333333333333333,
              "#9c179e"
             ],
             [
              0.4444444444444444,
              "#bd3786"
             ],
             [
              0.5555555555555556,
              "#d8576b"
             ],
             [
              0.6666666666666666,
              "#ed7953"
             ],
             [
              0.7777777777777778,
              "#fb9f3a"
             ],
             [
              0.8888888888888888,
              "#fdca26"
             ],
             [
              1,
              "#f0f921"
             ]
            ],
            "type": "histogram2dcontour"
           }
          ],
          "mesh3d": [
           {
            "colorbar": {
             "outlinewidth": 0,
             "ticks": ""
            },
            "type": "mesh3d"
           }
          ],
          "parcoords": [
           {
            "line": {
             "colorbar": {
              "outlinewidth": 0,
              "ticks": ""
             }
            },
            "type": "parcoords"
           }
          ],
          "pie": [
           {
            "automargin": true,
            "type": "pie"
           }
          ],
          "scatter": [
           {
            "fillpattern": {
             "fillmode": "overlay",
             "size": 10,
             "solidity": 0.2
            },
            "type": "scatter"
           }
          ],
          "scatter3d": [
           {
            "line": {
             "colorbar": {
              "outlinewidth": 0,
              "ticks": ""
             }
            },
            "marker": {
             "colorbar": {
              "outlinewidth": 0,
              "ticks": ""
             }
            },
            "type": "scatter3d"
           }
          ],
          "scattercarpet": [
           {
            "marker": {
             "colorbar": {
              "outlinewidth": 0,
              "ticks": ""
             }
            },
            "type": "scattercarpet"
           }
          ],
          "scattergeo": [
           {
            "marker": {
             "colorbar": {
              "outlinewidth": 0,
              "ticks": ""
             }
            },
            "type": "scattergeo"
           }
          ],
          "scattergl": [
           {
            "marker": {
             "colorbar": {
              "outlinewidth": 0,
              "ticks": ""
             }
            },
            "type": "scattergl"
           }
          ],
          "scattermapbox": [
           {
            "marker": {
             "colorbar": {
              "outlinewidth": 0,
              "ticks": ""
             }
            },
            "type": "scattermapbox"
           }
          ],
          "scatterpolar": [
           {
            "marker": {
             "colorbar": {
              "outlinewidth": 0,
              "ticks": ""
             }
            },
            "type": "scatterpolar"
           }
          ],
          "scatterpolargl": [
           {
            "marker": {
             "colorbar": {
              "outlinewidth": 0,
              "ticks": ""
             }
            },
            "type": "scatterpolargl"
           }
          ],
          "scatterternary": [
           {
            "marker": {
             "colorbar": {
              "outlinewidth": 0,
              "ticks": ""
             }
            },
            "type": "scatterternary"
           }
          ],
          "surface": [
           {
            "colorbar": {
             "outlinewidth": 0,
             "ticks": ""
            },
            "colorscale": [
             [
              0,
              "#0d0887"
             ],
             [
              0.1111111111111111,
              "#46039f"
             ],
             [
              0.2222222222222222,
              "#7201a8"
             ],
             [
              0.3333333333333333,
              "#9c179e"
             ],
             [
              0.4444444444444444,
              "#bd3786"
             ],
             [
              0.5555555555555556,
              "#d8576b"
             ],
             [
              0.6666666666666666,
              "#ed7953"
             ],
             [
              0.7777777777777778,
              "#fb9f3a"
             ],
             [
              0.8888888888888888,
              "#fdca26"
             ],
             [
              1,
              "#f0f921"
             ]
            ],
            "type": "surface"
           }
          ],
          "table": [
           {
            "cells": {
             "fill": {
              "color": "#EBF0F8"
             },
             "line": {
              "color": "white"
             }
            },
            "header": {
             "fill": {
              "color": "#C8D4E3"
             },
             "line": {
              "color": "white"
             }
            },
            "type": "table"
           }
          ]
         },
         "layout": {
          "annotationdefaults": {
           "arrowcolor": "#2a3f5f",
           "arrowhead": 0,
           "arrowwidth": 1
          },
          "autotypenumbers": "strict",
          "coloraxis": {
           "colorbar": {
            "outlinewidth": 0,
            "ticks": ""
           }
          },
          "colorscale": {
           "diverging": [
            [
             0,
             "#8e0152"
            ],
            [
             0.1,
             "#c51b7d"
            ],
            [
             0.2,
             "#de77ae"
            ],
            [
             0.3,
             "#f1b6da"
            ],
            [
             0.4,
             "#fde0ef"
            ],
            [
             0.5,
             "#f7f7f7"
            ],
            [
             0.6,
             "#e6f5d0"
            ],
            [
             0.7,
             "#b8e186"
            ],
            [
             0.8,
             "#7fbc41"
            ],
            [
             0.9,
             "#4d9221"
            ],
            [
             1,
             "#276419"
            ]
           ],
           "sequential": [
            [
             0,
             "#0d0887"
            ],
            [
             0.1111111111111111,
             "#46039f"
            ],
            [
             0.2222222222222222,
             "#7201a8"
            ],
            [
             0.3333333333333333,
             "#9c179e"
            ],
            [
             0.4444444444444444,
             "#bd3786"
            ],
            [
             0.5555555555555556,
             "#d8576b"
            ],
            [
             0.6666666666666666,
             "#ed7953"
            ],
            [
             0.7777777777777778,
             "#fb9f3a"
            ],
            [
             0.8888888888888888,
             "#fdca26"
            ],
            [
             1,
             "#f0f921"
            ]
           ],
           "sequentialminus": [
            [
             0,
             "#0d0887"
            ],
            [
             0.1111111111111111,
             "#46039f"
            ],
            [
             0.2222222222222222,
             "#7201a8"
            ],
            [
             0.3333333333333333,
             "#9c179e"
            ],
            [
             0.4444444444444444,
             "#bd3786"
            ],
            [
             0.5555555555555556,
             "#d8576b"
            ],
            [
             0.6666666666666666,
             "#ed7953"
            ],
            [
             0.7777777777777778,
             "#fb9f3a"
            ],
            [
             0.8888888888888888,
             "#fdca26"
            ],
            [
             1,
             "#f0f921"
            ]
           ]
          },
          "colorway": [
           "#636efa",
           "#EF553B",
           "#00cc96",
           "#ab63fa",
           "#FFA15A",
           "#19d3f3",
           "#FF6692",
           "#B6E880",
           "#FF97FF",
           "#FECB52"
          ],
          "font": {
           "color": "#2a3f5f"
          },
          "geo": {
           "bgcolor": "white",
           "lakecolor": "white",
           "landcolor": "#E5ECF6",
           "showlakes": true,
           "showland": true,
           "subunitcolor": "white"
          },
          "hoverlabel": {
           "align": "left"
          },
          "hovermode": "closest",
          "mapbox": {
           "style": "light"
          },
          "paper_bgcolor": "white",
          "plot_bgcolor": "#E5ECF6",
          "polar": {
           "angularaxis": {
            "gridcolor": "white",
            "linecolor": "white",
            "ticks": ""
           },
           "bgcolor": "#E5ECF6",
           "radialaxis": {
            "gridcolor": "white",
            "linecolor": "white",
            "ticks": ""
           }
          },
          "scene": {
           "xaxis": {
            "backgroundcolor": "#E5ECF6",
            "gridcolor": "white",
            "gridwidth": 2,
            "linecolor": "white",
            "showbackground": true,
            "ticks": "",
            "zerolinecolor": "white"
           },
           "yaxis": {
            "backgroundcolor": "#E5ECF6",
            "gridcolor": "white",
            "gridwidth": 2,
            "linecolor": "white",
            "showbackground": true,
            "ticks": "",
            "zerolinecolor": "white"
           },
           "zaxis": {
            "backgroundcolor": "#E5ECF6",
            "gridcolor": "white",
            "gridwidth": 2,
            "linecolor": "white",
            "showbackground": true,
            "ticks": "",
            "zerolinecolor": "white"
           }
          },
          "shapedefaults": {
           "line": {
            "color": "#2a3f5f"
           }
          },
          "ternary": {
           "aaxis": {
            "gridcolor": "white",
            "linecolor": "white",
            "ticks": ""
           },
           "baxis": {
            "gridcolor": "white",
            "linecolor": "white",
            "ticks": ""
           },
           "bgcolor": "#E5ECF6",
           "caxis": {
            "gridcolor": "white",
            "linecolor": "white",
            "ticks": ""
           }
          },
          "title": {
           "x": 0.05
          },
          "xaxis": {
           "automargin": true,
           "gridcolor": "white",
           "linecolor": "white",
           "ticks": "",
           "title": {
            "standoff": 15
           },
           "zerolinecolor": "white",
           "zerolinewidth": 2
          },
          "yaxis": {
           "automargin": true,
           "gridcolor": "white",
           "linecolor": "white",
           "ticks": "",
           "title": {
            "standoff": 15
           },
           "zerolinecolor": "white",
           "zerolinewidth": 2
          }
         }
        }
       }
      }
     },
     "metadata": {},
     "output_type": "display_data"
    }
   ],
   "source": [
    "df2 = pd.DataFrame(dict(\n",
    "    r=[1, 5, 2, 2, 3],\n",
    "    theta=['processing cost','mechanical properties','chemical stability',\n",
    "           'thermal stability', 'device integration']))\n",
    "fig = px.line_polar(df2, r='r', theta='theta', line_close=True)\n",
    "fig.update_traces(fill='toself')\n",
    "fig.show()"
   ]
  },
  {
   "cell_type": "code",
   "execution_count": 7,
   "metadata": {},
   "outputs": [
    {
     "data": {
      "text/html": [
       "<div>\n",
       "<style scoped>\n",
       "    .dataframe tbody tr th:only-of-type {\n",
       "        vertical-align: middle;\n",
       "    }\n",
       "\n",
       "    .dataframe tbody tr th {\n",
       "        vertical-align: top;\n",
       "    }\n",
       "\n",
       "    .dataframe thead th {\n",
       "        text-align: right;\n",
       "    }\n",
       "</style>\n",
       "<table border=\"1\" class=\"dataframe\">\n",
       "  <thead>\n",
       "    <tr style=\"text-align: right;\">\n",
       "      <th></th>\n",
       "      <th>r</th>\n",
       "      <th>theta</th>\n",
       "    </tr>\n",
       "  </thead>\n",
       "  <tbody>\n",
       "    <tr>\n",
       "      <th>0</th>\n",
       "      <td>1</td>\n",
       "      <td>processing cost</td>\n",
       "    </tr>\n",
       "    <tr>\n",
       "      <th>1</th>\n",
       "      <td>5</td>\n",
       "      <td>mechanical properties</td>\n",
       "    </tr>\n",
       "    <tr>\n",
       "      <th>2</th>\n",
       "      <td>2</td>\n",
       "      <td>chemical stability</td>\n",
       "    </tr>\n",
       "    <tr>\n",
       "      <th>3</th>\n",
       "      <td>2</td>\n",
       "      <td>thermal stability</td>\n",
       "    </tr>\n",
       "    <tr>\n",
       "      <th>4</th>\n",
       "      <td>3</td>\n",
       "      <td>device integration</td>\n",
       "    </tr>\n",
       "  </tbody>\n",
       "</table>\n",
       "</div>"
      ],
      "text/plain": [
       "   r                  theta\n",
       "0  1        processing cost\n",
       "1  5  mechanical properties\n",
       "2  2     chemical stability\n",
       "3  2      thermal stability\n",
       "4  3     device integration"
      ]
     },
     "execution_count": 7,
     "metadata": {},
     "output_type": "execute_result"
    }
   ],
   "source": [
    "df2"
   ]
  },
  {
   "cell_type": "code",
   "execution_count": null,
   "metadata": {},
   "outputs": [],
   "source": []
  }
 ],
 "metadata": {
  "kernelspec": {
   "display_name": "venv",
   "language": "python",
   "name": "python3"
  },
  "language_info": {
   "codemirror_mode": {
    "name": "ipython",
    "version": 3
   },
   "file_extension": ".py",
   "mimetype": "text/x-python",
   "name": "python",
   "nbconvert_exporter": "python",
   "pygments_lexer": "ipython3",
   "version": "3.10.12"
  }
 },
 "nbformat": 4,
 "nbformat_minor": 2
}
